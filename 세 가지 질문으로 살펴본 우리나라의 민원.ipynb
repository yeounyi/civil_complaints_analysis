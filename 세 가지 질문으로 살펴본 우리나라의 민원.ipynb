{
 "cells": [
  {
   "cell_type": "markdown",
   "metadata": {},
   "source": [
    "## [세 가지 질문으로 살펴본 우리나라의 민원](https://soprize.so/question/81)\n",
    "\n",
    "* 국민권익위원회 민원빅데이터 분석정보 API 활용\n",
    "* 분석연도: 2005년 - 2020년 \n",
    "\n",
    "### 1. [누가?](#1)\n",
    "- 어떤 성별, 연령의 사람들이 민원을 제기했을까요?\n",
    "\n",
    "### 2. [언제?](#2)\n",
    "- 어느 계절의, 하루의 어느 시간대에 사람들이 민원을 제기했을까요?\n",
    "\n",
    "### 3. [무엇을?](#3)\n",
    "- 민원인은 어떤 내용을 민원으로 제기했을까요?"
   ]
  },
  {
   "cell_type": "code",
   "execution_count": 10,
   "metadata": {},
   "outputs": [],
   "source": [
    "import requests\n",
    "import ast\n",
    "import pandas as pd\n",
    "import numpy as np\n",
    "from collections import defaultdict\n",
    "import plotly.graph_objects as go\n",
    "import plotly.express as px"
   ]
  },
  {
   "cell_type": "code",
   "execution_count": 19,
   "metadata": {},
   "outputs": [],
   "source": [
    "# API 신청: https://www.data.go.kr/dataset/15040459/openapi.do\n",
    "KEY = YOUR_API_KEY"
   ]
  },
  {
   "cell_type": "markdown",
   "metadata": {},
   "source": [
    "### <a id='1'> </a>1. 누가?\n",
    "### 1.1. 성별에 따른 민원 건 수"
   ]
  },
  {
   "cell_type": "code",
   "execution_count": 49,
   "metadata": {},
   "outputs": [],
   "source": [
    "def annual_sum(text):\n",
    "    total = 0\n",
    "    for word in ast.literal_eval(result.text):\n",
    "        total += int(word['hits'])\n",
    "    return total"
   ]
  },
  {
   "cell_type": "code",
   "execution_count": 50,
   "metadata": {},
   "outputs": [],
   "source": [
    "# 연도별 여성의 민원 건 수 \n",
    "woman_dict = {}\n",
    "\n",
    "startdate = '20050101000000'.format(year)\n",
    "enddate = '20201231235959'.format(year)\n",
    "\n",
    "url = \"http://apis.data.go.kr/1140100/minAnalsInfoView2/minStaticsInfo2?serviceKey={}&target=pttn,dfpt,saeol,prpl,twitter,qna,qna_origin&dateFrom={}&dateTo={}&topN=10000&period=YEARLY&sortBy=NAME&sortOrder=false&sex=w\".format(KEY, startdate, enddate)\n",
    "result = requests.get(url) \n",
    "\n",
    "woman_dict[year] = annual_sum(result.text)"
   ]
  },
  {
   "cell_type": "code",
   "execution_count": 51,
   "metadata": {},
   "outputs": [
    {
     "data": {
      "text/plain": [
       "{'2005': 5977,\n",
       " '2006': 112864,\n",
       " '2007': 163226,\n",
       " '2008': 174941,\n",
       " '2009': 196699,\n",
       " '2010': 249006,\n",
       " '2011': 336500,\n",
       " '2012': 365875,\n",
       " '2013': 378455,\n",
       " '2014': 304919,\n",
       " '2015': 254886,\n",
       " '2016': 276269,\n",
       " '2017': 476205,\n",
       " '2018': 1340390,\n",
       " '2019': 2284858,\n",
       " '2020': 1541805}"
      ]
     },
     "execution_count": 51,
     "metadata": {},
     "output_type": "execute_result"
    }
   ],
   "source": [
    "woman_dict"
   ]
  },
  {
   "cell_type": "code",
   "execution_count": 52,
   "metadata": {},
   "outputs": [],
   "source": [
    "# 연도별 남성의 민원 건 수 \n",
    "man_dict = {}\n",
    "\n",
    "for year in range(5, 21):\n",
    "    year = '20' + str(year).zfill(2)\n",
    "    startdate = '{}0101000000'.format(year)\n",
    "    enddate = '{}1231235959'.format(year)\n",
    "\n",
    "    url = \"http://apis.data.go.kr/1140100/minAnalsInfoView2/minStaticsInfo2?serviceKey={}&target=pttn,dfpt,saeol,prpl,twitter,qna,qna_origin&dateFrom={}&dateTo={}&topN=10000&period=MONTHLY&sortBy=NAME&sortOrder=false&sex=m\".format(KEY, startdate, enddate)\n",
    "    result = requests.get(url) \n",
    "\n",
    "    man_dict[year] = annual_sum(result.text)"
   ]
  },
  {
   "cell_type": "code",
   "execution_count": 53,
   "metadata": {
    "scrolled": true
   },
   "outputs": [
    {
     "data": {
      "text/plain": [
       "{'2005': 13674,\n",
       " '2006': 266833,\n",
       " '2007': 342863,\n",
       " '2008': 407353,\n",
       " '2009': 445179,\n",
       " '2010': 522582,\n",
       " '2011': 698734,\n",
       " '2012': 823789,\n",
       " '2013': 1019094,\n",
       " '2014': 1032919,\n",
       " '2015': 1052735,\n",
       " '2016': 1155717,\n",
       " '2017': 1046841,\n",
       " '2018': 1851700,\n",
       " '2019': 2981675,\n",
       " '2020': 2146730}"
      ]
     },
     "execution_count": 53,
     "metadata": {},
     "output_type": "execute_result"
    }
   ],
   "source": [
    "man_dict"
   ]
  },
  {
   "cell_type": "code",
   "execution_count": 48,
   "metadata": {},
   "outputs": [
    {
     "data": {
      "application/vnd.plotly.v1+json": {
       "config": {
        "plotlyServerURL": "https://plot.ly"
       },
       "data": [
        {
         "name": "여성",
         "type": "bar",
         "x": [
          "2005",
          "2006",
          "2007",
          "2008",
          "2009",
          "2010",
          "2011",
          "2012",
          "2013",
          "2014",
          "2015",
          "2016",
          "2017",
          "2018",
          "2019",
          "2020"
         ],
         "y": [
          5977,
          112864,
          163226,
          174941,
          196699,
          249006,
          336500,
          365875,
          378455,
          304919,
          254886,
          276269,
          476205,
          1340390,
          2284858,
          1541805
         ]
        },
        {
         "name": "남성",
         "type": "bar",
         "x": [
          "2005",
          "2006",
          "2007",
          "2008",
          "2009",
          "2010",
          "2011",
          "2012",
          "2013",
          "2014",
          "2015",
          "2016",
          "2017",
          "2018",
          "2019",
          "2020"
         ],
         "y": [
          13674,
          266833,
          342863,
          407353,
          445179,
          522582,
          698734,
          823789,
          1019094,
          1032919,
          1052735,
          1155717,
          1046841,
          1851700,
          2981675,
          2146730
         ]
        }
       ],
       "layout": {
        "barmode": "group",
        "template": {
         "data": {
          "bar": [
           {
            "error_x": {
             "color": "#2a3f5f"
            },
            "error_y": {
             "color": "#2a3f5f"
            },
            "marker": {
             "line": {
              "color": "#E5ECF6",
              "width": 0.5
             }
            },
            "type": "bar"
           }
          ],
          "barpolar": [
           {
            "marker": {
             "line": {
              "color": "#E5ECF6",
              "width": 0.5
             }
            },
            "type": "barpolar"
           }
          ],
          "carpet": [
           {
            "aaxis": {
             "endlinecolor": "#2a3f5f",
             "gridcolor": "white",
             "linecolor": "white",
             "minorgridcolor": "white",
             "startlinecolor": "#2a3f5f"
            },
            "baxis": {
             "endlinecolor": "#2a3f5f",
             "gridcolor": "white",
             "linecolor": "white",
             "minorgridcolor": "white",
             "startlinecolor": "#2a3f5f"
            },
            "type": "carpet"
           }
          ],
          "choropleth": [
           {
            "colorbar": {
             "outlinewidth": 0,
             "ticks": ""
            },
            "type": "choropleth"
           }
          ],
          "contour": [
           {
            "colorbar": {
             "outlinewidth": 0,
             "ticks": ""
            },
            "colorscale": [
             [
              0,
              "#0d0887"
             ],
             [
              0.1111111111111111,
              "#46039f"
             ],
             [
              0.2222222222222222,
              "#7201a8"
             ],
             [
              0.3333333333333333,
              "#9c179e"
             ],
             [
              0.4444444444444444,
              "#bd3786"
             ],
             [
              0.5555555555555556,
              "#d8576b"
             ],
             [
              0.6666666666666666,
              "#ed7953"
             ],
             [
              0.7777777777777778,
              "#fb9f3a"
             ],
             [
              0.8888888888888888,
              "#fdca26"
             ],
             [
              1,
              "#f0f921"
             ]
            ],
            "type": "contour"
           }
          ],
          "contourcarpet": [
           {
            "colorbar": {
             "outlinewidth": 0,
             "ticks": ""
            },
            "type": "contourcarpet"
           }
          ],
          "heatmap": [
           {
            "colorbar": {
             "outlinewidth": 0,
             "ticks": ""
            },
            "colorscale": [
             [
              0,
              "#0d0887"
             ],
             [
              0.1111111111111111,
              "#46039f"
             ],
             [
              0.2222222222222222,
              "#7201a8"
             ],
             [
              0.3333333333333333,
              "#9c179e"
             ],
             [
              0.4444444444444444,
              "#bd3786"
             ],
             [
              0.5555555555555556,
              "#d8576b"
             ],
             [
              0.6666666666666666,
              "#ed7953"
             ],
             [
              0.7777777777777778,
              "#fb9f3a"
             ],
             [
              0.8888888888888888,
              "#fdca26"
             ],
             [
              1,
              "#f0f921"
             ]
            ],
            "type": "heatmap"
           }
          ],
          "heatmapgl": [
           {
            "colorbar": {
             "outlinewidth": 0,
             "ticks": ""
            },
            "colorscale": [
             [
              0,
              "#0d0887"
             ],
             [
              0.1111111111111111,
              "#46039f"
             ],
             [
              0.2222222222222222,
              "#7201a8"
             ],
             [
              0.3333333333333333,
              "#9c179e"
             ],
             [
              0.4444444444444444,
              "#bd3786"
             ],
             [
              0.5555555555555556,
              "#d8576b"
             ],
             [
              0.6666666666666666,
              "#ed7953"
             ],
             [
              0.7777777777777778,
              "#fb9f3a"
             ],
             [
              0.8888888888888888,
              "#fdca26"
             ],
             [
              1,
              "#f0f921"
             ]
            ],
            "type": "heatmapgl"
           }
          ],
          "histogram": [
           {
            "marker": {
             "colorbar": {
              "outlinewidth": 0,
              "ticks": ""
             }
            },
            "type": "histogram"
           }
          ],
          "histogram2d": [
           {
            "colorbar": {
             "outlinewidth": 0,
             "ticks": ""
            },
            "colorscale": [
             [
              0,
              "#0d0887"
             ],
             [
              0.1111111111111111,
              "#46039f"
             ],
             [
              0.2222222222222222,
              "#7201a8"
             ],
             [
              0.3333333333333333,
              "#9c179e"
             ],
             [
              0.4444444444444444,
              "#bd3786"
             ],
             [
              0.5555555555555556,
              "#d8576b"
             ],
             [
              0.6666666666666666,
              "#ed7953"
             ],
             [
              0.7777777777777778,
              "#fb9f3a"
             ],
             [
              0.8888888888888888,
              "#fdca26"
             ],
             [
              1,
              "#f0f921"
             ]
            ],
            "type": "histogram2d"
           }
          ],
          "histogram2dcontour": [
           {
            "colorbar": {
             "outlinewidth": 0,
             "ticks": ""
            },
            "colorscale": [
             [
              0,
              "#0d0887"
             ],
             [
              0.1111111111111111,
              "#46039f"
             ],
             [
              0.2222222222222222,
              "#7201a8"
             ],
             [
              0.3333333333333333,
              "#9c179e"
             ],
             [
              0.4444444444444444,
              "#bd3786"
             ],
             [
              0.5555555555555556,
              "#d8576b"
             ],
             [
              0.6666666666666666,
              "#ed7953"
             ],
             [
              0.7777777777777778,
              "#fb9f3a"
             ],
             [
              0.8888888888888888,
              "#fdca26"
             ],
             [
              1,
              "#f0f921"
             ]
            ],
            "type": "histogram2dcontour"
           }
          ],
          "mesh3d": [
           {
            "colorbar": {
             "outlinewidth": 0,
             "ticks": ""
            },
            "type": "mesh3d"
           }
          ],
          "parcoords": [
           {
            "line": {
             "colorbar": {
              "outlinewidth": 0,
              "ticks": ""
             }
            },
            "type": "parcoords"
           }
          ],
          "pie": [
           {
            "automargin": true,
            "type": "pie"
           }
          ],
          "scatter": [
           {
            "marker": {
             "colorbar": {
              "outlinewidth": 0,
              "ticks": ""
             }
            },
            "type": "scatter"
           }
          ],
          "scatter3d": [
           {
            "line": {
             "colorbar": {
              "outlinewidth": 0,
              "ticks": ""
             }
            },
            "marker": {
             "colorbar": {
              "outlinewidth": 0,
              "ticks": ""
             }
            },
            "type": "scatter3d"
           }
          ],
          "scattercarpet": [
           {
            "marker": {
             "colorbar": {
              "outlinewidth": 0,
              "ticks": ""
             }
            },
            "type": "scattercarpet"
           }
          ],
          "scattergeo": [
           {
            "marker": {
             "colorbar": {
              "outlinewidth": 0,
              "ticks": ""
             }
            },
            "type": "scattergeo"
           }
          ],
          "scattergl": [
           {
            "marker": {
             "colorbar": {
              "outlinewidth": 0,
              "ticks": ""
             }
            },
            "type": "scattergl"
           }
          ],
          "scattermapbox": [
           {
            "marker": {
             "colorbar": {
              "outlinewidth": 0,
              "ticks": ""
             }
            },
            "type": "scattermapbox"
           }
          ],
          "scatterpolar": [
           {
            "marker": {
             "colorbar": {
              "outlinewidth": 0,
              "ticks": ""
             }
            },
            "type": "scatterpolar"
           }
          ],
          "scatterpolargl": [
           {
            "marker": {
             "colorbar": {
              "outlinewidth": 0,
              "ticks": ""
             }
            },
            "type": "scatterpolargl"
           }
          ],
          "scatterternary": [
           {
            "marker": {
             "colorbar": {
              "outlinewidth": 0,
              "ticks": ""
             }
            },
            "type": "scatterternary"
           }
          ],
          "surface": [
           {
            "colorbar": {
             "outlinewidth": 0,
             "ticks": ""
            },
            "colorscale": [
             [
              0,
              "#0d0887"
             ],
             [
              0.1111111111111111,
              "#46039f"
             ],
             [
              0.2222222222222222,
              "#7201a8"
             ],
             [
              0.3333333333333333,
              "#9c179e"
             ],
             [
              0.4444444444444444,
              "#bd3786"
             ],
             [
              0.5555555555555556,
              "#d8576b"
             ],
             [
              0.6666666666666666,
              "#ed7953"
             ],
             [
              0.7777777777777778,
              "#fb9f3a"
             ],
             [
              0.8888888888888888,
              "#fdca26"
             ],
             [
              1,
              "#f0f921"
             ]
            ],
            "type": "surface"
           }
          ],
          "table": [
           {
            "cells": {
             "fill": {
              "color": "#EBF0F8"
             },
             "line": {
              "color": "white"
             }
            },
            "header": {
             "fill": {
              "color": "#C8D4E3"
             },
             "line": {
              "color": "white"
             }
            },
            "type": "table"
           }
          ]
         },
         "layout": {
          "annotationdefaults": {
           "arrowcolor": "#2a3f5f",
           "arrowhead": 0,
           "arrowwidth": 1
          },
          "coloraxis": {
           "colorbar": {
            "outlinewidth": 0,
            "ticks": ""
           }
          },
          "colorscale": {
           "diverging": [
            [
             0,
             "#8e0152"
            ],
            [
             0.1,
             "#c51b7d"
            ],
            [
             0.2,
             "#de77ae"
            ],
            [
             0.3,
             "#f1b6da"
            ],
            [
             0.4,
             "#fde0ef"
            ],
            [
             0.5,
             "#f7f7f7"
            ],
            [
             0.6,
             "#e6f5d0"
            ],
            [
             0.7,
             "#b8e186"
            ],
            [
             0.8,
             "#7fbc41"
            ],
            [
             0.9,
             "#4d9221"
            ],
            [
             1,
             "#276419"
            ]
           ],
           "sequential": [
            [
             0,
             "#0d0887"
            ],
            [
             0.1111111111111111,
             "#46039f"
            ],
            [
             0.2222222222222222,
             "#7201a8"
            ],
            [
             0.3333333333333333,
             "#9c179e"
            ],
            [
             0.4444444444444444,
             "#bd3786"
            ],
            [
             0.5555555555555556,
             "#d8576b"
            ],
            [
             0.6666666666666666,
             "#ed7953"
            ],
            [
             0.7777777777777778,
             "#fb9f3a"
            ],
            [
             0.8888888888888888,
             "#fdca26"
            ],
            [
             1,
             "#f0f921"
            ]
           ],
           "sequentialminus": [
            [
             0,
             "#0d0887"
            ],
            [
             0.1111111111111111,
             "#46039f"
            ],
            [
             0.2222222222222222,
             "#7201a8"
            ],
            [
             0.3333333333333333,
             "#9c179e"
            ],
            [
             0.4444444444444444,
             "#bd3786"
            ],
            [
             0.5555555555555556,
             "#d8576b"
            ],
            [
             0.6666666666666666,
             "#ed7953"
            ],
            [
             0.7777777777777778,
             "#fb9f3a"
            ],
            [
             0.8888888888888888,
             "#fdca26"
            ],
            [
             1,
             "#f0f921"
            ]
           ]
          },
          "colorway": [
           "#636efa",
           "#EF553B",
           "#00cc96",
           "#ab63fa",
           "#FFA15A",
           "#19d3f3",
           "#FF6692",
           "#B6E880",
           "#FF97FF",
           "#FECB52"
          ],
          "font": {
           "color": "#2a3f5f"
          },
          "geo": {
           "bgcolor": "white",
           "lakecolor": "white",
           "landcolor": "#E5ECF6",
           "showlakes": true,
           "showland": true,
           "subunitcolor": "white"
          },
          "hoverlabel": {
           "align": "left"
          },
          "hovermode": "closest",
          "mapbox": {
           "style": "light"
          },
          "paper_bgcolor": "white",
          "plot_bgcolor": "#E5ECF6",
          "polar": {
           "angularaxis": {
            "gridcolor": "white",
            "linecolor": "white",
            "ticks": ""
           },
           "bgcolor": "#E5ECF6",
           "radialaxis": {
            "gridcolor": "white",
            "linecolor": "white",
            "ticks": ""
           }
          },
          "scene": {
           "xaxis": {
            "backgroundcolor": "#E5ECF6",
            "gridcolor": "white",
            "gridwidth": 2,
            "linecolor": "white",
            "showbackground": true,
            "ticks": "",
            "zerolinecolor": "white"
           },
           "yaxis": {
            "backgroundcolor": "#E5ECF6",
            "gridcolor": "white",
            "gridwidth": 2,
            "linecolor": "white",
            "showbackground": true,
            "ticks": "",
            "zerolinecolor": "white"
           },
           "zaxis": {
            "backgroundcolor": "#E5ECF6",
            "gridcolor": "white",
            "gridwidth": 2,
            "linecolor": "white",
            "showbackground": true,
            "ticks": "",
            "zerolinecolor": "white"
           }
          },
          "shapedefaults": {
           "line": {
            "color": "#2a3f5f"
           }
          },
          "ternary": {
           "aaxis": {
            "gridcolor": "white",
            "linecolor": "white",
            "ticks": ""
           },
           "baxis": {
            "gridcolor": "white",
            "linecolor": "white",
            "ticks": ""
           },
           "bgcolor": "#E5ECF6",
           "caxis": {
            "gridcolor": "white",
            "linecolor": "white",
            "ticks": ""
           }
          },
          "title": {
           "x": 0.05
          },
          "xaxis": {
           "automargin": true,
           "gridcolor": "white",
           "linecolor": "white",
           "ticks": "",
           "title": {
            "standoff": 15
           },
           "zerolinecolor": "white",
           "zerolinewidth": 2
          },
          "yaxis": {
           "automargin": true,
           "gridcolor": "white",
           "linecolor": "white",
           "ticks": "",
           "title": {
            "standoff": 15
           },
           "zerolinecolor": "white",
           "zerolinewidth": 2
          }
         }
        },
        "title": {
         "text": "연도와 성별에 따른 민원 수",
         "x": 0.5,
         "xanchor": "center",
         "y": 0.86,
         "yanchor": "top"
        },
        "xaxis": {
         "tickangle": 20,
         "type": "category"
        }
       }
      },
      "text/html": [
       "<div>\n",
       "        \n",
       "        \n",
       "            <div id=\"15927126-a5b7-46a7-a855-4437232f4043\" class=\"plotly-graph-div\" style=\"height:525px; width:100%;\"></div>\n",
       "            <script type=\"text/javascript\">\n",
       "                require([\"plotly\"], function(Plotly) {\n",
       "                    window.PLOTLYENV=window.PLOTLYENV || {};\n",
       "                    \n",
       "                if (document.getElementById(\"15927126-a5b7-46a7-a855-4437232f4043\")) {\n",
       "                    Plotly.newPlot(\n",
       "                        '15927126-a5b7-46a7-a855-4437232f4043',\n",
       "                        [{\"name\": \"\\uc5ec\\uc131\", \"type\": \"bar\", \"x\": [\"2005\", \"2006\", \"2007\", \"2008\", \"2009\", \"2010\", \"2011\", \"2012\", \"2013\", \"2014\", \"2015\", \"2016\", \"2017\", \"2018\", \"2019\", \"2020\"], \"y\": [5977, 112864, 163226, 174941, 196699, 249006, 336500, 365875, 378455, 304919, 254886, 276269, 476205, 1340390, 2284858, 1541805]}, {\"name\": \"\\ub0a8\\uc131\", \"type\": \"bar\", \"x\": [\"2005\", \"2006\", \"2007\", \"2008\", \"2009\", \"2010\", \"2011\", \"2012\", \"2013\", \"2014\", \"2015\", \"2016\", \"2017\", \"2018\", \"2019\", \"2020\"], \"y\": [13674, 266833, 342863, 407353, 445179, 522582, 698734, 823789, 1019094, 1032919, 1052735, 1155717, 1046841, 1851700, 2981675, 2146730]}],\n",
       "                        {\"barmode\": \"group\", \"template\": {\"data\": {\"bar\": [{\"error_x\": {\"color\": \"#2a3f5f\"}, \"error_y\": {\"color\": \"#2a3f5f\"}, \"marker\": {\"line\": {\"color\": \"#E5ECF6\", \"width\": 0.5}}, \"type\": \"bar\"}], \"barpolar\": [{\"marker\": {\"line\": {\"color\": \"#E5ECF6\", \"width\": 0.5}}, \"type\": \"barpolar\"}], \"carpet\": [{\"aaxis\": {\"endlinecolor\": \"#2a3f5f\", \"gridcolor\": \"white\", \"linecolor\": \"white\", \"minorgridcolor\": \"white\", \"startlinecolor\": \"#2a3f5f\"}, \"baxis\": {\"endlinecolor\": \"#2a3f5f\", \"gridcolor\": \"white\", \"linecolor\": \"white\", \"minorgridcolor\": \"white\", \"startlinecolor\": \"#2a3f5f\"}, \"type\": \"carpet\"}], \"choropleth\": [{\"colorbar\": {\"outlinewidth\": 0, \"ticks\": \"\"}, \"type\": \"choropleth\"}], \"contour\": [{\"colorbar\": {\"outlinewidth\": 0, \"ticks\": \"\"}, \"colorscale\": [[0.0, \"#0d0887\"], [0.1111111111111111, \"#46039f\"], [0.2222222222222222, \"#7201a8\"], [0.3333333333333333, \"#9c179e\"], [0.4444444444444444, \"#bd3786\"], [0.5555555555555556, \"#d8576b\"], [0.6666666666666666, \"#ed7953\"], [0.7777777777777778, \"#fb9f3a\"], [0.8888888888888888, \"#fdca26\"], [1.0, \"#f0f921\"]], \"type\": \"contour\"}], \"contourcarpet\": [{\"colorbar\": {\"outlinewidth\": 0, \"ticks\": \"\"}, \"type\": \"contourcarpet\"}], \"heatmap\": [{\"colorbar\": {\"outlinewidth\": 0, \"ticks\": \"\"}, \"colorscale\": [[0.0, \"#0d0887\"], [0.1111111111111111, \"#46039f\"], [0.2222222222222222, \"#7201a8\"], [0.3333333333333333, \"#9c179e\"], [0.4444444444444444, \"#bd3786\"], [0.5555555555555556, \"#d8576b\"], [0.6666666666666666, \"#ed7953\"], [0.7777777777777778, \"#fb9f3a\"], [0.8888888888888888, \"#fdca26\"], [1.0, \"#f0f921\"]], \"type\": \"heatmap\"}], \"heatmapgl\": [{\"colorbar\": {\"outlinewidth\": 0, \"ticks\": \"\"}, \"colorscale\": [[0.0, \"#0d0887\"], [0.1111111111111111, \"#46039f\"], [0.2222222222222222, \"#7201a8\"], [0.3333333333333333, \"#9c179e\"], [0.4444444444444444, \"#bd3786\"], [0.5555555555555556, \"#d8576b\"], [0.6666666666666666, \"#ed7953\"], [0.7777777777777778, \"#fb9f3a\"], [0.8888888888888888, \"#fdca26\"], [1.0, \"#f0f921\"]], \"type\": \"heatmapgl\"}], \"histogram\": [{\"marker\": {\"colorbar\": {\"outlinewidth\": 0, \"ticks\": \"\"}}, \"type\": \"histogram\"}], \"histogram2d\": [{\"colorbar\": {\"outlinewidth\": 0, \"ticks\": \"\"}, \"colorscale\": [[0.0, \"#0d0887\"], [0.1111111111111111, \"#46039f\"], [0.2222222222222222, \"#7201a8\"], [0.3333333333333333, \"#9c179e\"], [0.4444444444444444, \"#bd3786\"], [0.5555555555555556, \"#d8576b\"], [0.6666666666666666, \"#ed7953\"], [0.7777777777777778, \"#fb9f3a\"], [0.8888888888888888, \"#fdca26\"], [1.0, \"#f0f921\"]], \"type\": \"histogram2d\"}], \"histogram2dcontour\": [{\"colorbar\": {\"outlinewidth\": 0, \"ticks\": \"\"}, \"colorscale\": [[0.0, \"#0d0887\"], [0.1111111111111111, \"#46039f\"], [0.2222222222222222, \"#7201a8\"], [0.3333333333333333, \"#9c179e\"], [0.4444444444444444, \"#bd3786\"], [0.5555555555555556, \"#d8576b\"], [0.6666666666666666, \"#ed7953\"], [0.7777777777777778, \"#fb9f3a\"], [0.8888888888888888, \"#fdca26\"], [1.0, \"#f0f921\"]], \"type\": \"histogram2dcontour\"}], \"mesh3d\": [{\"colorbar\": {\"outlinewidth\": 0, \"ticks\": \"\"}, \"type\": \"mesh3d\"}], \"parcoords\": [{\"line\": {\"colorbar\": {\"outlinewidth\": 0, \"ticks\": \"\"}}, \"type\": \"parcoords\"}], \"pie\": [{\"automargin\": true, \"type\": \"pie\"}], \"scatter\": [{\"marker\": {\"colorbar\": {\"outlinewidth\": 0, \"ticks\": \"\"}}, \"type\": \"scatter\"}], \"scatter3d\": [{\"line\": {\"colorbar\": {\"outlinewidth\": 0, \"ticks\": \"\"}}, \"marker\": {\"colorbar\": {\"outlinewidth\": 0, \"ticks\": \"\"}}, \"type\": \"scatter3d\"}], \"scattercarpet\": [{\"marker\": {\"colorbar\": {\"outlinewidth\": 0, \"ticks\": \"\"}}, \"type\": \"scattercarpet\"}], \"scattergeo\": [{\"marker\": {\"colorbar\": {\"outlinewidth\": 0, \"ticks\": \"\"}}, \"type\": \"scattergeo\"}], \"scattergl\": [{\"marker\": {\"colorbar\": {\"outlinewidth\": 0, \"ticks\": \"\"}}, \"type\": \"scattergl\"}], \"scattermapbox\": [{\"marker\": {\"colorbar\": {\"outlinewidth\": 0, \"ticks\": \"\"}}, \"type\": \"scattermapbox\"}], \"scatterpolar\": [{\"marker\": {\"colorbar\": {\"outlinewidth\": 0, \"ticks\": \"\"}}, \"type\": \"scatterpolar\"}], \"scatterpolargl\": [{\"marker\": {\"colorbar\": {\"outlinewidth\": 0, \"ticks\": \"\"}}, \"type\": \"scatterpolargl\"}], \"scatterternary\": [{\"marker\": {\"colorbar\": {\"outlinewidth\": 0, \"ticks\": \"\"}}, \"type\": \"scatterternary\"}], \"surface\": [{\"colorbar\": {\"outlinewidth\": 0, \"ticks\": \"\"}, \"colorscale\": [[0.0, \"#0d0887\"], [0.1111111111111111, \"#46039f\"], [0.2222222222222222, \"#7201a8\"], [0.3333333333333333, \"#9c179e\"], [0.4444444444444444, \"#bd3786\"], [0.5555555555555556, \"#d8576b\"], [0.6666666666666666, \"#ed7953\"], [0.7777777777777778, \"#fb9f3a\"], [0.8888888888888888, \"#fdca26\"], [1.0, \"#f0f921\"]], \"type\": \"surface\"}], \"table\": [{\"cells\": {\"fill\": {\"color\": \"#EBF0F8\"}, \"line\": {\"color\": \"white\"}}, \"header\": {\"fill\": {\"color\": \"#C8D4E3\"}, \"line\": {\"color\": \"white\"}}, \"type\": \"table\"}]}, \"layout\": {\"annotationdefaults\": {\"arrowcolor\": \"#2a3f5f\", \"arrowhead\": 0, \"arrowwidth\": 1}, \"coloraxis\": {\"colorbar\": {\"outlinewidth\": 0, \"ticks\": \"\"}}, \"colorscale\": {\"diverging\": [[0, \"#8e0152\"], [0.1, \"#c51b7d\"], [0.2, \"#de77ae\"], [0.3, \"#f1b6da\"], [0.4, \"#fde0ef\"], [0.5, \"#f7f7f7\"], [0.6, \"#e6f5d0\"], [0.7, \"#b8e186\"], [0.8, \"#7fbc41\"], [0.9, \"#4d9221\"], [1, \"#276419\"]], \"sequential\": [[0.0, \"#0d0887\"], [0.1111111111111111, \"#46039f\"], [0.2222222222222222, \"#7201a8\"], [0.3333333333333333, \"#9c179e\"], [0.4444444444444444, \"#bd3786\"], [0.5555555555555556, \"#d8576b\"], [0.6666666666666666, \"#ed7953\"], [0.7777777777777778, \"#fb9f3a\"], [0.8888888888888888, \"#fdca26\"], [1.0, \"#f0f921\"]], \"sequentialminus\": [[0.0, \"#0d0887\"], [0.1111111111111111, \"#46039f\"], [0.2222222222222222, \"#7201a8\"], [0.3333333333333333, \"#9c179e\"], [0.4444444444444444, \"#bd3786\"], [0.5555555555555556, \"#d8576b\"], [0.6666666666666666, \"#ed7953\"], [0.7777777777777778, \"#fb9f3a\"], [0.8888888888888888, \"#fdca26\"], [1.0, \"#f0f921\"]]}, \"colorway\": [\"#636efa\", \"#EF553B\", \"#00cc96\", \"#ab63fa\", \"#FFA15A\", \"#19d3f3\", \"#FF6692\", \"#B6E880\", \"#FF97FF\", \"#FECB52\"], \"font\": {\"color\": \"#2a3f5f\"}, \"geo\": {\"bgcolor\": \"white\", \"lakecolor\": \"white\", \"landcolor\": \"#E5ECF6\", \"showlakes\": true, \"showland\": true, \"subunitcolor\": \"white\"}, \"hoverlabel\": {\"align\": \"left\"}, \"hovermode\": \"closest\", \"mapbox\": {\"style\": \"light\"}, \"paper_bgcolor\": \"white\", \"plot_bgcolor\": \"#E5ECF6\", \"polar\": {\"angularaxis\": {\"gridcolor\": \"white\", \"linecolor\": \"white\", \"ticks\": \"\"}, \"bgcolor\": \"#E5ECF6\", \"radialaxis\": {\"gridcolor\": \"white\", \"linecolor\": \"white\", \"ticks\": \"\"}}, \"scene\": {\"xaxis\": {\"backgroundcolor\": \"#E5ECF6\", \"gridcolor\": \"white\", \"gridwidth\": 2, \"linecolor\": \"white\", \"showbackground\": true, \"ticks\": \"\", \"zerolinecolor\": \"white\"}, \"yaxis\": {\"backgroundcolor\": \"#E5ECF6\", \"gridcolor\": \"white\", \"gridwidth\": 2, \"linecolor\": \"white\", \"showbackground\": true, \"ticks\": \"\", \"zerolinecolor\": \"white\"}, \"zaxis\": {\"backgroundcolor\": \"#E5ECF6\", \"gridcolor\": \"white\", \"gridwidth\": 2, \"linecolor\": \"white\", \"showbackground\": true, \"ticks\": \"\", \"zerolinecolor\": \"white\"}}, \"shapedefaults\": {\"line\": {\"color\": \"#2a3f5f\"}}, \"ternary\": {\"aaxis\": {\"gridcolor\": \"white\", \"linecolor\": \"white\", \"ticks\": \"\"}, \"baxis\": {\"gridcolor\": \"white\", \"linecolor\": \"white\", \"ticks\": \"\"}, \"bgcolor\": \"#E5ECF6\", \"caxis\": {\"gridcolor\": \"white\", \"linecolor\": \"white\", \"ticks\": \"\"}}, \"title\": {\"x\": 0.05}, \"xaxis\": {\"automargin\": true, \"gridcolor\": \"white\", \"linecolor\": \"white\", \"ticks\": \"\", \"title\": {\"standoff\": 15}, \"zerolinecolor\": \"white\", \"zerolinewidth\": 2}, \"yaxis\": {\"automargin\": true, \"gridcolor\": \"white\", \"linecolor\": \"white\", \"ticks\": \"\", \"title\": {\"standoff\": 15}, \"zerolinecolor\": \"white\", \"zerolinewidth\": 2}}}, \"title\": {\"text\": \"\\uc5f0\\ub3c4\\uc640 \\uc131\\ubcc4\\uc5d0 \\ub530\\ub978 \\ubbfc\\uc6d0 \\uc218\", \"x\": 0.5, \"xanchor\": \"center\", \"y\": 0.86, \"yanchor\": \"top\"}, \"xaxis\": {\"tickangle\": 20, \"type\": \"category\"}},\n",
       "                        {\"responsive\": true}\n",
       "                    ).then(function(){\n",
       "                            \n",
       "var gd = document.getElementById('15927126-a5b7-46a7-a855-4437232f4043');\n",
       "var x = new MutationObserver(function (mutations, observer) {{\n",
       "        var display = window.getComputedStyle(gd).display;\n",
       "        if (!display || display === 'none') {{\n",
       "            console.log([gd, 'removed!']);\n",
       "            Plotly.purge(gd);\n",
       "            observer.disconnect();\n",
       "        }}\n",
       "}});\n",
       "\n",
       "// Listen for the removal of the full notebook cells\n",
       "var notebookContainer = gd.closest('#notebook-container');\n",
       "if (notebookContainer) {{\n",
       "    x.observe(notebookContainer, {childList: true});\n",
       "}}\n",
       "\n",
       "// Listen for the clearing of the current output cell\n",
       "var outputEl = gd.closest('.output');\n",
       "if (outputEl) {{\n",
       "    x.observe(outputEl, {childList: true});\n",
       "}}\n",
       "\n",
       "                        })\n",
       "                };\n",
       "                });\n",
       "            </script>\n",
       "        </div>"
      ]
     },
     "metadata": {},
     "output_type": "display_data"
    }
   ],
   "source": [
    "years = list(woman_dict.keys())\n",
    "\n",
    "fig = go.Figure(data=[\n",
    "    go.Bar(name='여성', x=years, y=list(woman_dict.values())),\n",
    "    go.Bar(name='남성', x=years, y=list(man_dict.values()))\n",
    "])\n",
    "fig.update_layout(barmode='group', title={'text': '연도와 성별에 따른 민원 수', 'y':0.86, 'x':0.5, 'xanchor': 'center', 'yanchor': 'top'})\n",
    "fig.update_xaxes(type='category', tickangle=20)\n",
    "fig.show()"
   ]
  },
  {
   "cell_type": "markdown",
   "metadata": {},
   "source": [
    "### 1.2. 연령대에 따른 민원 건 수"
   ]
  },
  {
   "cell_type": "code",
   "execution_count": 76,
   "metadata": {},
   "outputs": [],
   "source": [
    "age_dict = {}"
   ]
  },
  {
   "cell_type": "code",
   "execution_count": 77,
   "metadata": {},
   "outputs": [],
   "source": [
    "def total_sum(text):\n",
    "    total = 0\n",
    "    for word in ast.literal_eval(result.text):\n",
    "        total += int(word['hits'])\n",
    "    return total"
   ]
  },
  {
   "cell_type": "code",
   "execution_count": 78,
   "metadata": {},
   "outputs": [],
   "source": [
    "# 연령별 민원 건 수 \n",
    "for i in range(1,10):\n",
    "    age = str(i * 10)\n",
    "    startdate = '20050101000000'\n",
    "    enddate = '20201231235959'\n",
    "\n",
    "    url = \"http://apis.data.go.kr/1140100/minAnalsInfoView2/minStaticsInfo2?serviceKey={}&target=pttn,dfpt,saeol,prpl,twitter,qna,qna_origin&dateFrom={}&dateTo={}&topN=10000&period=YEARLY&sortBy=NAME&sortOrder=false&age={}\".format(KEY, startdate, enddate, age)\n",
    "    result = requests.get(url) \n",
    "    age_dict[age] = total_sum(result.text)"
   ]
  },
  {
   "cell_type": "code",
   "execution_count": 79,
   "metadata": {},
   "outputs": [
    {
     "data": {
      "text/plain": [
       "{'10': 450280,\n",
       " '20': 3597699,\n",
       " '30': 9383123,\n",
       " '40': 6847070,\n",
       " '50': 3357066,\n",
       " '60': 1055828,\n",
       " '70': 155461,\n",
       " '80': 23599,\n",
       " '90': 1950}"
      ]
     },
     "execution_count": 79,
     "metadata": {},
     "output_type": "execute_result"
    }
   ],
   "source": [
    "age_dict"
   ]
  },
  {
   "cell_type": "code",
   "execution_count": 49,
   "metadata": {},
   "outputs": [
    {
     "data": {
      "application/vnd.plotly.v1+json": {
       "config": {
        "plotlyServerURL": "https://plot.ly"
       },
       "data": [
        {
         "text": [
          "450K",
          "3M",
          "9M",
          "6M",
          "3M",
          "1M",
          "155K",
          "23K",
          "1K"
         ],
         "textposition": "auto",
         "type": "bar",
         "x": [
          "10대",
          "20대",
          "30대",
          "40대",
          "50대",
          "60대",
          "70대",
          "80대",
          "90대"
         ],
         "y": [
          450280,
          3597699,
          9383123,
          6847070,
          3357066,
          1055828,
          155461,
          23599,
          1950
         ]
        }
       ],
       "layout": {
        "template": {
         "data": {
          "bar": [
           {
            "error_x": {
             "color": "#2a3f5f"
            },
            "error_y": {
             "color": "#2a3f5f"
            },
            "marker": {
             "line": {
              "color": "#E5ECF6",
              "width": 0.5
             }
            },
            "type": "bar"
           }
          ],
          "barpolar": [
           {
            "marker": {
             "line": {
              "color": "#E5ECF6",
              "width": 0.5
             }
            },
            "type": "barpolar"
           }
          ],
          "carpet": [
           {
            "aaxis": {
             "endlinecolor": "#2a3f5f",
             "gridcolor": "white",
             "linecolor": "white",
             "minorgridcolor": "white",
             "startlinecolor": "#2a3f5f"
            },
            "baxis": {
             "endlinecolor": "#2a3f5f",
             "gridcolor": "white",
             "linecolor": "white",
             "minorgridcolor": "white",
             "startlinecolor": "#2a3f5f"
            },
            "type": "carpet"
           }
          ],
          "choropleth": [
           {
            "colorbar": {
             "outlinewidth": 0,
             "ticks": ""
            },
            "type": "choropleth"
           }
          ],
          "contour": [
           {
            "colorbar": {
             "outlinewidth": 0,
             "ticks": ""
            },
            "colorscale": [
             [
              0,
              "#0d0887"
             ],
             [
              0.1111111111111111,
              "#46039f"
             ],
             [
              0.2222222222222222,
              "#7201a8"
             ],
             [
              0.3333333333333333,
              "#9c179e"
             ],
             [
              0.4444444444444444,
              "#bd3786"
             ],
             [
              0.5555555555555556,
              "#d8576b"
             ],
             [
              0.6666666666666666,
              "#ed7953"
             ],
             [
              0.7777777777777778,
              "#fb9f3a"
             ],
             [
              0.8888888888888888,
              "#fdca26"
             ],
             [
              1,
              "#f0f921"
             ]
            ],
            "type": "contour"
           }
          ],
          "contourcarpet": [
           {
            "colorbar": {
             "outlinewidth": 0,
             "ticks": ""
            },
            "type": "contourcarpet"
           }
          ],
          "heatmap": [
           {
            "colorbar": {
             "outlinewidth": 0,
             "ticks": ""
            },
            "colorscale": [
             [
              0,
              "#0d0887"
             ],
             [
              0.1111111111111111,
              "#46039f"
             ],
             [
              0.2222222222222222,
              "#7201a8"
             ],
             [
              0.3333333333333333,
              "#9c179e"
             ],
             [
              0.4444444444444444,
              "#bd3786"
             ],
             [
              0.5555555555555556,
              "#d8576b"
             ],
             [
              0.6666666666666666,
              "#ed7953"
             ],
             [
              0.7777777777777778,
              "#fb9f3a"
             ],
             [
              0.8888888888888888,
              "#fdca26"
             ],
             [
              1,
              "#f0f921"
             ]
            ],
            "type": "heatmap"
           }
          ],
          "heatmapgl": [
           {
            "colorbar": {
             "outlinewidth": 0,
             "ticks": ""
            },
            "colorscale": [
             [
              0,
              "#0d0887"
             ],
             [
              0.1111111111111111,
              "#46039f"
             ],
             [
              0.2222222222222222,
              "#7201a8"
             ],
             [
              0.3333333333333333,
              "#9c179e"
             ],
             [
              0.4444444444444444,
              "#bd3786"
             ],
             [
              0.5555555555555556,
              "#d8576b"
             ],
             [
              0.6666666666666666,
              "#ed7953"
             ],
             [
              0.7777777777777778,
              "#fb9f3a"
             ],
             [
              0.8888888888888888,
              "#fdca26"
             ],
             [
              1,
              "#f0f921"
             ]
            ],
            "type": "heatmapgl"
           }
          ],
          "histogram": [
           {
            "marker": {
             "colorbar": {
              "outlinewidth": 0,
              "ticks": ""
             }
            },
            "type": "histogram"
           }
          ],
          "histogram2d": [
           {
            "colorbar": {
             "outlinewidth": 0,
             "ticks": ""
            },
            "colorscale": [
             [
              0,
              "#0d0887"
             ],
             [
              0.1111111111111111,
              "#46039f"
             ],
             [
              0.2222222222222222,
              "#7201a8"
             ],
             [
              0.3333333333333333,
              "#9c179e"
             ],
             [
              0.4444444444444444,
              "#bd3786"
             ],
             [
              0.5555555555555556,
              "#d8576b"
             ],
             [
              0.6666666666666666,
              "#ed7953"
             ],
             [
              0.7777777777777778,
              "#fb9f3a"
             ],
             [
              0.8888888888888888,
              "#fdca26"
             ],
             [
              1,
              "#f0f921"
             ]
            ],
            "type": "histogram2d"
           }
          ],
          "histogram2dcontour": [
           {
            "colorbar": {
             "outlinewidth": 0,
             "ticks": ""
            },
            "colorscale": [
             [
              0,
              "#0d0887"
             ],
             [
              0.1111111111111111,
              "#46039f"
             ],
             [
              0.2222222222222222,
              "#7201a8"
             ],
             [
              0.3333333333333333,
              "#9c179e"
             ],
             [
              0.4444444444444444,
              "#bd3786"
             ],
             [
              0.5555555555555556,
              "#d8576b"
             ],
             [
              0.6666666666666666,
              "#ed7953"
             ],
             [
              0.7777777777777778,
              "#fb9f3a"
             ],
             [
              0.8888888888888888,
              "#fdca26"
             ],
             [
              1,
              "#f0f921"
             ]
            ],
            "type": "histogram2dcontour"
           }
          ],
          "mesh3d": [
           {
            "colorbar": {
             "outlinewidth": 0,
             "ticks": ""
            },
            "type": "mesh3d"
           }
          ],
          "parcoords": [
           {
            "line": {
             "colorbar": {
              "outlinewidth": 0,
              "ticks": ""
             }
            },
            "type": "parcoords"
           }
          ],
          "pie": [
           {
            "automargin": true,
            "type": "pie"
           }
          ],
          "scatter": [
           {
            "marker": {
             "colorbar": {
              "outlinewidth": 0,
              "ticks": ""
             }
            },
            "type": "scatter"
           }
          ],
          "scatter3d": [
           {
            "line": {
             "colorbar": {
              "outlinewidth": 0,
              "ticks": ""
             }
            },
            "marker": {
             "colorbar": {
              "outlinewidth": 0,
              "ticks": ""
             }
            },
            "type": "scatter3d"
           }
          ],
          "scattercarpet": [
           {
            "marker": {
             "colorbar": {
              "outlinewidth": 0,
              "ticks": ""
             }
            },
            "type": "scattercarpet"
           }
          ],
          "scattergeo": [
           {
            "marker": {
             "colorbar": {
              "outlinewidth": 0,
              "ticks": ""
             }
            },
            "type": "scattergeo"
           }
          ],
          "scattergl": [
           {
            "marker": {
             "colorbar": {
              "outlinewidth": 0,
              "ticks": ""
             }
            },
            "type": "scattergl"
           }
          ],
          "scattermapbox": [
           {
            "marker": {
             "colorbar": {
              "outlinewidth": 0,
              "ticks": ""
             }
            },
            "type": "scattermapbox"
           }
          ],
          "scatterpolar": [
           {
            "marker": {
             "colorbar": {
              "outlinewidth": 0,
              "ticks": ""
             }
            },
            "type": "scatterpolar"
           }
          ],
          "scatterpolargl": [
           {
            "marker": {
             "colorbar": {
              "outlinewidth": 0,
              "ticks": ""
             }
            },
            "type": "scatterpolargl"
           }
          ],
          "scatterternary": [
           {
            "marker": {
             "colorbar": {
              "outlinewidth": 0,
              "ticks": ""
             }
            },
            "type": "scatterternary"
           }
          ],
          "surface": [
           {
            "colorbar": {
             "outlinewidth": 0,
             "ticks": ""
            },
            "colorscale": [
             [
              0,
              "#0d0887"
             ],
             [
              0.1111111111111111,
              "#46039f"
             ],
             [
              0.2222222222222222,
              "#7201a8"
             ],
             [
              0.3333333333333333,
              "#9c179e"
             ],
             [
              0.4444444444444444,
              "#bd3786"
             ],
             [
              0.5555555555555556,
              "#d8576b"
             ],
             [
              0.6666666666666666,
              "#ed7953"
             ],
             [
              0.7777777777777778,
              "#fb9f3a"
             ],
             [
              0.8888888888888888,
              "#fdca26"
             ],
             [
              1,
              "#f0f921"
             ]
            ],
            "type": "surface"
           }
          ],
          "table": [
           {
            "cells": {
             "fill": {
              "color": "#EBF0F8"
             },
             "line": {
              "color": "white"
             }
            },
            "header": {
             "fill": {
              "color": "#C8D4E3"
             },
             "line": {
              "color": "white"
             }
            },
            "type": "table"
           }
          ]
         },
         "layout": {
          "annotationdefaults": {
           "arrowcolor": "#2a3f5f",
           "arrowhead": 0,
           "arrowwidth": 1
          },
          "coloraxis": {
           "colorbar": {
            "outlinewidth": 0,
            "ticks": ""
           }
          },
          "colorscale": {
           "diverging": [
            [
             0,
             "#8e0152"
            ],
            [
             0.1,
             "#c51b7d"
            ],
            [
             0.2,
             "#de77ae"
            ],
            [
             0.3,
             "#f1b6da"
            ],
            [
             0.4,
             "#fde0ef"
            ],
            [
             0.5,
             "#f7f7f7"
            ],
            [
             0.6,
             "#e6f5d0"
            ],
            [
             0.7,
             "#b8e186"
            ],
            [
             0.8,
             "#7fbc41"
            ],
            [
             0.9,
             "#4d9221"
            ],
            [
             1,
             "#276419"
            ]
           ],
           "sequential": [
            [
             0,
             "#0d0887"
            ],
            [
             0.1111111111111111,
             "#46039f"
            ],
            [
             0.2222222222222222,
             "#7201a8"
            ],
            [
             0.3333333333333333,
             "#9c179e"
            ],
            [
             0.4444444444444444,
             "#bd3786"
            ],
            [
             0.5555555555555556,
             "#d8576b"
            ],
            [
             0.6666666666666666,
             "#ed7953"
            ],
            [
             0.7777777777777778,
             "#fb9f3a"
            ],
            [
             0.8888888888888888,
             "#fdca26"
            ],
            [
             1,
             "#f0f921"
            ]
           ],
           "sequentialminus": [
            [
             0,
             "#0d0887"
            ],
            [
             0.1111111111111111,
             "#46039f"
            ],
            [
             0.2222222222222222,
             "#7201a8"
            ],
            [
             0.3333333333333333,
             "#9c179e"
            ],
            [
             0.4444444444444444,
             "#bd3786"
            ],
            [
             0.5555555555555556,
             "#d8576b"
            ],
            [
             0.6666666666666666,
             "#ed7953"
            ],
            [
             0.7777777777777778,
             "#fb9f3a"
            ],
            [
             0.8888888888888888,
             "#fdca26"
            ],
            [
             1,
             "#f0f921"
            ]
           ]
          },
          "colorway": [
           "#636efa",
           "#EF553B",
           "#00cc96",
           "#ab63fa",
           "#FFA15A",
           "#19d3f3",
           "#FF6692",
           "#B6E880",
           "#FF97FF",
           "#FECB52"
          ],
          "font": {
           "color": "#2a3f5f"
          },
          "geo": {
           "bgcolor": "white",
           "lakecolor": "white",
           "landcolor": "#E5ECF6",
           "showlakes": true,
           "showland": true,
           "subunitcolor": "white"
          },
          "hoverlabel": {
           "align": "left"
          },
          "hovermode": "closest",
          "mapbox": {
           "style": "light"
          },
          "paper_bgcolor": "white",
          "plot_bgcolor": "#E5ECF6",
          "polar": {
           "angularaxis": {
            "gridcolor": "white",
            "linecolor": "white",
            "ticks": ""
           },
           "bgcolor": "#E5ECF6",
           "radialaxis": {
            "gridcolor": "white",
            "linecolor": "white",
            "ticks": ""
           }
          },
          "scene": {
           "xaxis": {
            "backgroundcolor": "#E5ECF6",
            "gridcolor": "white",
            "gridwidth": 2,
            "linecolor": "white",
            "showbackground": true,
            "ticks": "",
            "zerolinecolor": "white"
           },
           "yaxis": {
            "backgroundcolor": "#E5ECF6",
            "gridcolor": "white",
            "gridwidth": 2,
            "linecolor": "white",
            "showbackground": true,
            "ticks": "",
            "zerolinecolor": "white"
           },
           "zaxis": {
            "backgroundcolor": "#E5ECF6",
            "gridcolor": "white",
            "gridwidth": 2,
            "linecolor": "white",
            "showbackground": true,
            "ticks": "",
            "zerolinecolor": "white"
           }
          },
          "shapedefaults": {
           "line": {
            "color": "#2a3f5f"
           }
          },
          "ternary": {
           "aaxis": {
            "gridcolor": "white",
            "linecolor": "white",
            "ticks": ""
           },
           "baxis": {
            "gridcolor": "white",
            "linecolor": "white",
            "ticks": ""
           },
           "bgcolor": "#E5ECF6",
           "caxis": {
            "gridcolor": "white",
            "linecolor": "white",
            "ticks": ""
           }
          },
          "title": {
           "x": 0.05
          },
          "xaxis": {
           "automargin": true,
           "gridcolor": "white",
           "linecolor": "white",
           "ticks": "",
           "title": {
            "standoff": 15
           },
           "zerolinecolor": "white",
           "zerolinewidth": 2
          },
          "yaxis": {
           "automargin": true,
           "gridcolor": "white",
           "linecolor": "white",
           "ticks": "",
           "title": {
            "standoff": 15
           },
           "zerolinecolor": "white",
           "zerolinewidth": 2
          }
         }
        },
        "title": {
         "text": "연령대에 따른 2005년-2020년 민원 수",
         "x": 0.5,
         "xanchor": "center",
         "y": 0.86,
         "yanchor": "top"
        }
       }
      },
      "text/html": [
       "<div>\n",
       "        \n",
       "        \n",
       "            <div id=\"1a5c328c-08c8-4bae-8cca-dc2c394f211e\" class=\"plotly-graph-div\" style=\"height:525px; width:100%;\"></div>\n",
       "            <script type=\"text/javascript\">\n",
       "                require([\"plotly\"], function(Plotly) {\n",
       "                    window.PLOTLYENV=window.PLOTLYENV || {};\n",
       "                    \n",
       "                if (document.getElementById(\"1a5c328c-08c8-4bae-8cca-dc2c394f211e\")) {\n",
       "                    Plotly.newPlot(\n",
       "                        '1a5c328c-08c8-4bae-8cca-dc2c394f211e',\n",
       "                        [{\"text\": [\"450K\", \"3M\", \"9M\", \"6M\", \"3M\", \"1M\", \"155K\", \"23K\", \"1K\"], \"textposition\": \"auto\", \"type\": \"bar\", \"x\": [\"10\\ub300\", \"20\\ub300\", \"30\\ub300\", \"40\\ub300\", \"50\\ub300\", \"60\\ub300\", \"70\\ub300\", \"80\\ub300\", \"90\\ub300\"], \"y\": [450280, 3597699, 9383123, 6847070, 3357066, 1055828, 155461, 23599, 1950]}],\n",
       "                        {\"template\": {\"data\": {\"bar\": [{\"error_x\": {\"color\": \"#2a3f5f\"}, \"error_y\": {\"color\": \"#2a3f5f\"}, \"marker\": {\"line\": {\"color\": \"#E5ECF6\", \"width\": 0.5}}, \"type\": \"bar\"}], \"barpolar\": [{\"marker\": {\"line\": {\"color\": \"#E5ECF6\", \"width\": 0.5}}, \"type\": \"barpolar\"}], \"carpet\": [{\"aaxis\": {\"endlinecolor\": \"#2a3f5f\", \"gridcolor\": \"white\", \"linecolor\": \"white\", \"minorgridcolor\": \"white\", \"startlinecolor\": \"#2a3f5f\"}, \"baxis\": {\"endlinecolor\": \"#2a3f5f\", \"gridcolor\": \"white\", \"linecolor\": \"white\", \"minorgridcolor\": \"white\", \"startlinecolor\": \"#2a3f5f\"}, \"type\": \"carpet\"}], \"choropleth\": [{\"colorbar\": {\"outlinewidth\": 0, \"ticks\": \"\"}, \"type\": \"choropleth\"}], \"contour\": [{\"colorbar\": {\"outlinewidth\": 0, \"ticks\": \"\"}, \"colorscale\": [[0.0, \"#0d0887\"], [0.1111111111111111, \"#46039f\"], [0.2222222222222222, \"#7201a8\"], [0.3333333333333333, \"#9c179e\"], [0.4444444444444444, \"#bd3786\"], [0.5555555555555556, \"#d8576b\"], [0.6666666666666666, \"#ed7953\"], [0.7777777777777778, \"#fb9f3a\"], [0.8888888888888888, \"#fdca26\"], [1.0, \"#f0f921\"]], \"type\": \"contour\"}], \"contourcarpet\": [{\"colorbar\": {\"outlinewidth\": 0, \"ticks\": \"\"}, \"type\": \"contourcarpet\"}], \"heatmap\": [{\"colorbar\": {\"outlinewidth\": 0, \"ticks\": \"\"}, \"colorscale\": [[0.0, \"#0d0887\"], [0.1111111111111111, \"#46039f\"], [0.2222222222222222, \"#7201a8\"], [0.3333333333333333, \"#9c179e\"], [0.4444444444444444, \"#bd3786\"], [0.5555555555555556, \"#d8576b\"], [0.6666666666666666, \"#ed7953\"], [0.7777777777777778, \"#fb9f3a\"], [0.8888888888888888, \"#fdca26\"], [1.0, \"#f0f921\"]], \"type\": \"heatmap\"}], \"heatmapgl\": [{\"colorbar\": {\"outlinewidth\": 0, \"ticks\": \"\"}, \"colorscale\": [[0.0, \"#0d0887\"], [0.1111111111111111, \"#46039f\"], [0.2222222222222222, \"#7201a8\"], [0.3333333333333333, \"#9c179e\"], [0.4444444444444444, \"#bd3786\"], [0.5555555555555556, \"#d8576b\"], [0.6666666666666666, \"#ed7953\"], [0.7777777777777778, \"#fb9f3a\"], [0.8888888888888888, \"#fdca26\"], [1.0, \"#f0f921\"]], \"type\": \"heatmapgl\"}], \"histogram\": [{\"marker\": {\"colorbar\": {\"outlinewidth\": 0, \"ticks\": \"\"}}, \"type\": \"histogram\"}], \"histogram2d\": [{\"colorbar\": {\"outlinewidth\": 0, \"ticks\": \"\"}, \"colorscale\": [[0.0, \"#0d0887\"], [0.1111111111111111, \"#46039f\"], [0.2222222222222222, \"#7201a8\"], [0.3333333333333333, \"#9c179e\"], [0.4444444444444444, \"#bd3786\"], [0.5555555555555556, \"#d8576b\"], [0.6666666666666666, \"#ed7953\"], [0.7777777777777778, \"#fb9f3a\"], [0.8888888888888888, \"#fdca26\"], [1.0, \"#f0f921\"]], \"type\": \"histogram2d\"}], \"histogram2dcontour\": [{\"colorbar\": {\"outlinewidth\": 0, \"ticks\": \"\"}, \"colorscale\": [[0.0, \"#0d0887\"], [0.1111111111111111, \"#46039f\"], [0.2222222222222222, \"#7201a8\"], [0.3333333333333333, \"#9c179e\"], [0.4444444444444444, \"#bd3786\"], [0.5555555555555556, \"#d8576b\"], [0.6666666666666666, \"#ed7953\"], [0.7777777777777778, \"#fb9f3a\"], [0.8888888888888888, \"#fdca26\"], [1.0, \"#f0f921\"]], \"type\": \"histogram2dcontour\"}], \"mesh3d\": [{\"colorbar\": {\"outlinewidth\": 0, \"ticks\": \"\"}, \"type\": \"mesh3d\"}], \"parcoords\": [{\"line\": {\"colorbar\": {\"outlinewidth\": 0, \"ticks\": \"\"}}, \"type\": \"parcoords\"}], \"pie\": [{\"automargin\": true, \"type\": \"pie\"}], \"scatter\": [{\"marker\": {\"colorbar\": {\"outlinewidth\": 0, \"ticks\": \"\"}}, \"type\": \"scatter\"}], \"scatter3d\": [{\"line\": {\"colorbar\": {\"outlinewidth\": 0, \"ticks\": \"\"}}, \"marker\": {\"colorbar\": {\"outlinewidth\": 0, \"ticks\": \"\"}}, \"type\": \"scatter3d\"}], \"scattercarpet\": [{\"marker\": {\"colorbar\": {\"outlinewidth\": 0, \"ticks\": \"\"}}, \"type\": \"scattercarpet\"}], \"scattergeo\": [{\"marker\": {\"colorbar\": {\"outlinewidth\": 0, \"ticks\": \"\"}}, \"type\": \"scattergeo\"}], \"scattergl\": [{\"marker\": {\"colorbar\": {\"outlinewidth\": 0, \"ticks\": \"\"}}, \"type\": \"scattergl\"}], \"scattermapbox\": [{\"marker\": {\"colorbar\": {\"outlinewidth\": 0, \"ticks\": \"\"}}, \"type\": \"scattermapbox\"}], \"scatterpolar\": [{\"marker\": {\"colorbar\": {\"outlinewidth\": 0, \"ticks\": \"\"}}, \"type\": \"scatterpolar\"}], \"scatterpolargl\": [{\"marker\": {\"colorbar\": {\"outlinewidth\": 0, \"ticks\": \"\"}}, \"type\": \"scatterpolargl\"}], \"scatterternary\": [{\"marker\": {\"colorbar\": {\"outlinewidth\": 0, \"ticks\": \"\"}}, \"type\": \"scatterternary\"}], \"surface\": [{\"colorbar\": {\"outlinewidth\": 0, \"ticks\": \"\"}, \"colorscale\": [[0.0, \"#0d0887\"], [0.1111111111111111, \"#46039f\"], [0.2222222222222222, \"#7201a8\"], [0.3333333333333333, \"#9c179e\"], [0.4444444444444444, \"#bd3786\"], [0.5555555555555556, \"#d8576b\"], [0.6666666666666666, \"#ed7953\"], [0.7777777777777778, \"#fb9f3a\"], [0.8888888888888888, \"#fdca26\"], [1.0, \"#f0f921\"]], \"type\": \"surface\"}], \"table\": [{\"cells\": {\"fill\": {\"color\": \"#EBF0F8\"}, \"line\": {\"color\": \"white\"}}, \"header\": {\"fill\": {\"color\": \"#C8D4E3\"}, \"line\": {\"color\": \"white\"}}, \"type\": \"table\"}]}, \"layout\": {\"annotationdefaults\": {\"arrowcolor\": \"#2a3f5f\", \"arrowhead\": 0, \"arrowwidth\": 1}, \"coloraxis\": {\"colorbar\": {\"outlinewidth\": 0, \"ticks\": \"\"}}, \"colorscale\": {\"diverging\": [[0, \"#8e0152\"], [0.1, \"#c51b7d\"], [0.2, \"#de77ae\"], [0.3, \"#f1b6da\"], [0.4, \"#fde0ef\"], [0.5, \"#f7f7f7\"], [0.6, \"#e6f5d0\"], [0.7, \"#b8e186\"], [0.8, \"#7fbc41\"], [0.9, \"#4d9221\"], [1, \"#276419\"]], \"sequential\": [[0.0, \"#0d0887\"], [0.1111111111111111, \"#46039f\"], [0.2222222222222222, \"#7201a8\"], [0.3333333333333333, \"#9c179e\"], [0.4444444444444444, \"#bd3786\"], [0.5555555555555556, \"#d8576b\"], [0.6666666666666666, \"#ed7953\"], [0.7777777777777778, \"#fb9f3a\"], [0.8888888888888888, \"#fdca26\"], [1.0, \"#f0f921\"]], \"sequentialminus\": [[0.0, \"#0d0887\"], [0.1111111111111111, \"#46039f\"], [0.2222222222222222, \"#7201a8\"], [0.3333333333333333, \"#9c179e\"], [0.4444444444444444, \"#bd3786\"], [0.5555555555555556, \"#d8576b\"], [0.6666666666666666, \"#ed7953\"], [0.7777777777777778, \"#fb9f3a\"], [0.8888888888888888, \"#fdca26\"], [1.0, \"#f0f921\"]]}, \"colorway\": [\"#636efa\", \"#EF553B\", \"#00cc96\", \"#ab63fa\", \"#FFA15A\", \"#19d3f3\", \"#FF6692\", \"#B6E880\", \"#FF97FF\", \"#FECB52\"], \"font\": {\"color\": \"#2a3f5f\"}, \"geo\": {\"bgcolor\": \"white\", \"lakecolor\": \"white\", \"landcolor\": \"#E5ECF6\", \"showlakes\": true, \"showland\": true, \"subunitcolor\": \"white\"}, \"hoverlabel\": {\"align\": \"left\"}, \"hovermode\": \"closest\", \"mapbox\": {\"style\": \"light\"}, \"paper_bgcolor\": \"white\", \"plot_bgcolor\": \"#E5ECF6\", \"polar\": {\"angularaxis\": {\"gridcolor\": \"white\", \"linecolor\": \"white\", \"ticks\": \"\"}, \"bgcolor\": \"#E5ECF6\", \"radialaxis\": {\"gridcolor\": \"white\", \"linecolor\": \"white\", \"ticks\": \"\"}}, \"scene\": {\"xaxis\": {\"backgroundcolor\": \"#E5ECF6\", \"gridcolor\": \"white\", \"gridwidth\": 2, \"linecolor\": \"white\", \"showbackground\": true, \"ticks\": \"\", \"zerolinecolor\": \"white\"}, \"yaxis\": {\"backgroundcolor\": \"#E5ECF6\", \"gridcolor\": \"white\", \"gridwidth\": 2, \"linecolor\": \"white\", \"showbackground\": true, \"ticks\": \"\", \"zerolinecolor\": \"white\"}, \"zaxis\": {\"backgroundcolor\": \"#E5ECF6\", \"gridcolor\": \"white\", \"gridwidth\": 2, \"linecolor\": \"white\", \"showbackground\": true, \"ticks\": \"\", \"zerolinecolor\": \"white\"}}, \"shapedefaults\": {\"line\": {\"color\": \"#2a3f5f\"}}, \"ternary\": {\"aaxis\": {\"gridcolor\": \"white\", \"linecolor\": \"white\", \"ticks\": \"\"}, \"baxis\": {\"gridcolor\": \"white\", \"linecolor\": \"white\", \"ticks\": \"\"}, \"bgcolor\": \"#E5ECF6\", \"caxis\": {\"gridcolor\": \"white\", \"linecolor\": \"white\", \"ticks\": \"\"}}, \"title\": {\"x\": 0.05}, \"xaxis\": {\"automargin\": true, \"gridcolor\": \"white\", \"linecolor\": \"white\", \"ticks\": \"\", \"title\": {\"standoff\": 15}, \"zerolinecolor\": \"white\", \"zerolinewidth\": 2}, \"yaxis\": {\"automargin\": true, \"gridcolor\": \"white\", \"linecolor\": \"white\", \"ticks\": \"\", \"title\": {\"standoff\": 15}, \"zerolinecolor\": \"white\", \"zerolinewidth\": 2}}}, \"title\": {\"text\": \"\\uc5f0\\ub839\\ub300\\uc5d0 \\ub530\\ub978 2005\\ub144-2020\\ub144 \\ubbfc\\uc6d0 \\uc218\", \"x\": 0.5, \"xanchor\": \"center\", \"y\": 0.86, \"yanchor\": \"top\"}},\n",
       "                        {\"responsive\": true}\n",
       "                    ).then(function(){\n",
       "                            \n",
       "var gd = document.getElementById('1a5c328c-08c8-4bae-8cca-dc2c394f211e');\n",
       "var x = new MutationObserver(function (mutations, observer) {{\n",
       "        var display = window.getComputedStyle(gd).display;\n",
       "        if (!display || display === 'none') {{\n",
       "            console.log([gd, 'removed!']);\n",
       "            Plotly.purge(gd);\n",
       "            observer.disconnect();\n",
       "        }}\n",
       "}});\n",
       "\n",
       "// Listen for the removal of the full notebook cells\n",
       "var notebookContainer = gd.closest('#notebook-container');\n",
       "if (notebookContainer) {{\n",
       "    x.observe(notebookContainer, {childList: true});\n",
       "}}\n",
       "\n",
       "// Listen for the clearing of the current output cell\n",
       "var outputEl = gd.closest('.output');\n",
       "if (outputEl) {{\n",
       "    x.observe(outputEl, {childList: true});\n",
       "}}\n",
       "\n",
       "                        })\n",
       "                };\n",
       "                });\n",
       "            </script>\n",
       "        </div>"
      ]
     },
     "metadata": {},
     "output_type": "display_data"
    }
   ],
   "source": [
    "x = [str(age) + '대' for age in list(age_dict.keys())]\n",
    "y = list(age_dict.values())\n",
    "text = ['450K', '3M', '9M', '6M', '3M', '1M', '155K', '23K', '1K']\n",
    "\n",
    "# Use textposition='auto' for direct text\n",
    "fig = go.Figure(data=[go.Bar(\n",
    "            x=x, y=y,\n",
    "            text=text,\n",
    "            textposition='auto',\n",
    "        )])\n",
    "fig.update_layout(title={'text': '연령대에 따른 2005년-2020년 민원 수', 'y':0.86, 'x':0.5, 'xanchor': 'center', 'yanchor': 'top'})\n",
    "fig.show()"
   ]
  },
  {
   "cell_type": "markdown",
   "metadata": {},
   "source": [
    "### 1.3. 거주지에 따른 민원 건 수"
   ]
  },
  {
   "cell_type": "code",
   "execution_count": 92,
   "metadata": {},
   "outputs": [
    {
     "data": {
      "text/html": [
       "<div>\n",
       "<style scoped>\n",
       "    .dataframe tbody tr th:only-of-type {\n",
       "        vertical-align: middle;\n",
       "    }\n",
       "\n",
       "    .dataframe tbody tr th {\n",
       "        vertical-align: top;\n",
       "    }\n",
       "\n",
       "    .dataframe thead th {\n",
       "        text-align: right;\n",
       "    }\n",
       "</style>\n",
       "<table border=\"1\" class=\"dataframe\">\n",
       "  <thead>\n",
       "    <tr style=\"text-align: right;\">\n",
       "      <th></th>\n",
       "      <th>region</th>\n",
       "      <th>count</th>\n",
       "    </tr>\n",
       "  </thead>\n",
       "  <tbody>\n",
       "    <tr>\n",
       "      <th>0</th>\n",
       "      <td>경기도</td>\n",
       "      <td>14067457</td>\n",
       "    </tr>\n",
       "    <tr>\n",
       "      <th>1</th>\n",
       "      <td>NONE</td>\n",
       "      <td>14013331</td>\n",
       "    </tr>\n",
       "    <tr>\n",
       "      <th>2</th>\n",
       "      <td>서울특별시</td>\n",
       "      <td>7732329</td>\n",
       "    </tr>\n",
       "    <tr>\n",
       "      <th>3</th>\n",
       "      <td>인천광역시</td>\n",
       "      <td>2512308</td>\n",
       "    </tr>\n",
       "    <tr>\n",
       "      <th>4</th>\n",
       "      <td>부산광역시</td>\n",
       "      <td>1930478</td>\n",
       "    </tr>\n",
       "    <tr>\n",
       "      <th>5</th>\n",
       "      <td>경상남도</td>\n",
       "      <td>1704029</td>\n",
       "    </tr>\n",
       "    <tr>\n",
       "      <th>6</th>\n",
       "      <td>경상북도</td>\n",
       "      <td>1352876</td>\n",
       "    </tr>\n",
       "    <tr>\n",
       "      <th>7</th>\n",
       "      <td>대전광역시</td>\n",
       "      <td>1242615</td>\n",
       "    </tr>\n",
       "    <tr>\n",
       "      <th>8</th>\n",
       "      <td>대구광역시</td>\n",
       "      <td>1224752</td>\n",
       "    </tr>\n",
       "    <tr>\n",
       "      <th>9</th>\n",
       "      <td>충청북도</td>\n",
       "      <td>665053</td>\n",
       "    </tr>\n",
       "    <tr>\n",
       "      <th>10</th>\n",
       "      <td>전라북도</td>\n",
       "      <td>576685</td>\n",
       "    </tr>\n",
       "    <tr>\n",
       "      <th>11</th>\n",
       "      <td>광주광역시</td>\n",
       "      <td>526991</td>\n",
       "    </tr>\n",
       "    <tr>\n",
       "      <th>12</th>\n",
       "      <td>충청남도</td>\n",
       "      <td>416292</td>\n",
       "    </tr>\n",
       "    <tr>\n",
       "      <th>13</th>\n",
       "      <td>전라남도</td>\n",
       "      <td>373023</td>\n",
       "    </tr>\n",
       "    <tr>\n",
       "      <th>14</th>\n",
       "      <td>울산광역시</td>\n",
       "      <td>55066</td>\n",
       "    </tr>\n",
       "    <tr>\n",
       "      <th>15</th>\n",
       "      <td>강원도</td>\n",
       "      <td>22500</td>\n",
       "    </tr>\n",
       "  </tbody>\n",
       "</table>\n",
       "</div>"
      ],
      "text/plain": [
       "   region     count\n",
       "0     경기도  14067457\n",
       "1    NONE  14013331\n",
       "2   서울특별시   7732329\n",
       "3   인천광역시   2512308\n",
       "4   부산광역시   1930478\n",
       "5    경상남도   1704029\n",
       "6    경상북도   1352876\n",
       "7   대전광역시   1242615\n",
       "8   대구광역시   1224752\n",
       "9    충청북도    665053\n",
       "10   전라북도    576685\n",
       "11  광주광역시    526991\n",
       "12   충청남도    416292\n",
       "13   전라남도    373023\n",
       "14  울산광역시     55066\n",
       "15    강원도     22500"
      ]
     },
     "execution_count": 92,
     "metadata": {},
     "output_type": "execute_result"
    }
   ],
   "source": [
    "url = \"http://apis.data.go.kr/1140100/minAnalsInfoView2/minMrfacetInfo2?serviceKey={}&topN=10&sortBy=NAME&sortOrder=false&dateFrom=20050101&dateTo=20201231&target=pttn,dfpt,saeol,prpl,twitter,qna,qna_origin\".format(KEY)\n",
    "result = requests.get(url) \n",
    "\n",
    "df = pd.DataFrame()\n",
    "\n",
    "count = []\n",
    "regions = []\n",
    "for region in ast.literal_eval(result.text):\n",
    "    count.append(int(region['hits']))\n",
    "    regions.append(region['label'])\n",
    "\n",
    "df['region'] = regions\n",
    "df['count'] = count\n",
    "df"
   ]
  },
  {
   "cell_type": "code",
   "execution_count": 107,
   "metadata": {},
   "outputs": [
    {
     "data": {
      "text/html": [
       "<div>\n",
       "<style scoped>\n",
       "    .dataframe tbody tr th:only-of-type {\n",
       "        vertical-align: middle;\n",
       "    }\n",
       "\n",
       "    .dataframe tbody tr th {\n",
       "        vertical-align: top;\n",
       "    }\n",
       "\n",
       "    .dataframe thead th {\n",
       "        text-align: right;\n",
       "    }\n",
       "</style>\n",
       "<table border=\"1\" class=\"dataframe\">\n",
       "  <thead>\n",
       "    <tr style=\"text-align: right;\">\n",
       "      <th></th>\n",
       "      <th>region</th>\n",
       "      <th>count</th>\n",
       "      <th>population</th>\n",
       "    </tr>\n",
       "  </thead>\n",
       "  <tbody>\n",
       "    <tr>\n",
       "      <th>0</th>\n",
       "      <td>경기도</td>\n",
       "      <td>14067457</td>\n",
       "      <td>13405000</td>\n",
       "    </tr>\n",
       "    <tr>\n",
       "      <th>1</th>\n",
       "      <td>서울특별시</td>\n",
       "      <td>7732329</td>\n",
       "      <td>9602000</td>\n",
       "    </tr>\n",
       "    <tr>\n",
       "      <th>2</th>\n",
       "      <td>인천광역시</td>\n",
       "      <td>2512308</td>\n",
       "      <td>2951000</td>\n",
       "    </tr>\n",
       "    <tr>\n",
       "      <th>3</th>\n",
       "      <td>부산광역시</td>\n",
       "      <td>1930478</td>\n",
       "      <td>3344000</td>\n",
       "    </tr>\n",
       "    <tr>\n",
       "      <th>4</th>\n",
       "      <td>경상남도</td>\n",
       "      <td>1704029</td>\n",
       "      <td>3350000</td>\n",
       "    </tr>\n",
       "    <tr>\n",
       "      <th>5</th>\n",
       "      <td>경상북도</td>\n",
       "      <td>1352876</td>\n",
       "      <td>2655000</td>\n",
       "    </tr>\n",
       "    <tr>\n",
       "      <th>6</th>\n",
       "      <td>대전광역시</td>\n",
       "      <td>1242615</td>\n",
       "      <td>1500000</td>\n",
       "    </tr>\n",
       "    <tr>\n",
       "      <th>7</th>\n",
       "      <td>대구광역시</td>\n",
       "      <td>1224752</td>\n",
       "      <td>2419000</td>\n",
       "    </tr>\n",
       "    <tr>\n",
       "      <th>8</th>\n",
       "      <td>충청북도</td>\n",
       "      <td>665053</td>\n",
       "      <td>1632000</td>\n",
       "    </tr>\n",
       "    <tr>\n",
       "      <th>9</th>\n",
       "      <td>전라북도</td>\n",
       "      <td>576685</td>\n",
       "      <td>1792000</td>\n",
       "    </tr>\n",
       "    <tr>\n",
       "      <th>10</th>\n",
       "      <td>광주광역시</td>\n",
       "      <td>526991</td>\n",
       "      <td>1488000</td>\n",
       "    </tr>\n",
       "    <tr>\n",
       "      <th>11</th>\n",
       "      <td>충청남도</td>\n",
       "      <td>416292</td>\n",
       "      <td>2204000</td>\n",
       "    </tr>\n",
       "    <tr>\n",
       "      <th>12</th>\n",
       "      <td>전라남도</td>\n",
       "      <td>373023</td>\n",
       "      <td>1764000</td>\n",
       "    </tr>\n",
       "    <tr>\n",
       "      <th>13</th>\n",
       "      <td>울산광역시</td>\n",
       "      <td>55066</td>\n",
       "      <td>1140000</td>\n",
       "    </tr>\n",
       "    <tr>\n",
       "      <th>14</th>\n",
       "      <td>강원도</td>\n",
       "      <td>22500</td>\n",
       "      <td>1515000</td>\n",
       "    </tr>\n",
       "  </tbody>\n",
       "</table>\n",
       "</div>"
      ],
      "text/plain": [
       "   region     count  population\n",
       "0     경기도  14067457    13405000\n",
       "1   서울특별시   7732329     9602000\n",
       "2   인천광역시   2512308     2951000\n",
       "3   부산광역시   1930478     3344000\n",
       "4    경상남도   1704029     3350000\n",
       "5    경상북도   1352876     2655000\n",
       "6   대전광역시   1242615     1500000\n",
       "7   대구광역시   1224752     2419000\n",
       "8    충청북도    665053     1632000\n",
       "9    전라북도    576685     1792000\n",
       "10  광주광역시    526991     1488000\n",
       "11   충청남도    416292     2204000\n",
       "12   전라남도    373023     1764000\n",
       "13  울산광역시     55066     1140000\n",
       "14    강원도     22500     1515000"
      ]
     },
     "execution_count": 107,
     "metadata": {},
     "output_type": "execute_result"
    }
   ],
   "source": [
    "# 인구 수: https://www.index.go.kr/potal/main/EachDtlPageDetail.do?idx_cd=1007\n",
    "df = pd.read_csv('region.csv')[['region', 'count', 'population']]\n",
    "df"
   ]
  },
  {
   "cell_type": "code",
   "execution_count": 111,
   "metadata": {},
   "outputs": [
    {
     "data": {
      "text/html": [
       "<div>\n",
       "<style scoped>\n",
       "    .dataframe tbody tr th:only-of-type {\n",
       "        vertical-align: middle;\n",
       "    }\n",
       "\n",
       "    .dataframe tbody tr th {\n",
       "        vertical-align: top;\n",
       "    }\n",
       "\n",
       "    .dataframe thead th {\n",
       "        text-align: right;\n",
       "    }\n",
       "</style>\n",
       "<table border=\"1\" class=\"dataframe\">\n",
       "  <thead>\n",
       "    <tr style=\"text-align: right;\">\n",
       "      <th></th>\n",
       "      <th>region</th>\n",
       "      <th>count</th>\n",
       "      <th>population</th>\n",
       "      <th>ratio</th>\n",
       "    </tr>\n",
       "  </thead>\n",
       "  <tbody>\n",
       "    <tr>\n",
       "      <th>0</th>\n",
       "      <td>경기도</td>\n",
       "      <td>14067457</td>\n",
       "      <td>13405000</td>\n",
       "      <td>1.049419</td>\n",
       "    </tr>\n",
       "    <tr>\n",
       "      <th>2</th>\n",
       "      <td>인천광역시</td>\n",
       "      <td>2512308</td>\n",
       "      <td>2951000</td>\n",
       "      <td>0.851341</td>\n",
       "    </tr>\n",
       "    <tr>\n",
       "      <th>6</th>\n",
       "      <td>대전광역시</td>\n",
       "      <td>1242615</td>\n",
       "      <td>1500000</td>\n",
       "      <td>0.828410</td>\n",
       "    </tr>\n",
       "    <tr>\n",
       "      <th>1</th>\n",
       "      <td>서울특별시</td>\n",
       "      <td>7732329</td>\n",
       "      <td>9602000</td>\n",
       "      <td>0.805283</td>\n",
       "    </tr>\n",
       "    <tr>\n",
       "      <th>3</th>\n",
       "      <td>부산광역시</td>\n",
       "      <td>1930478</td>\n",
       "      <td>3344000</td>\n",
       "      <td>0.577296</td>\n",
       "    </tr>\n",
       "    <tr>\n",
       "      <th>5</th>\n",
       "      <td>경상북도</td>\n",
       "      <td>1352876</td>\n",
       "      <td>2655000</td>\n",
       "      <td>0.509558</td>\n",
       "    </tr>\n",
       "    <tr>\n",
       "      <th>4</th>\n",
       "      <td>경상남도</td>\n",
       "      <td>1704029</td>\n",
       "      <td>3350000</td>\n",
       "      <td>0.508665</td>\n",
       "    </tr>\n",
       "    <tr>\n",
       "      <th>7</th>\n",
       "      <td>대구광역시</td>\n",
       "      <td>1224752</td>\n",
       "      <td>2419000</td>\n",
       "      <td>0.506305</td>\n",
       "    </tr>\n",
       "    <tr>\n",
       "      <th>8</th>\n",
       "      <td>충청북도</td>\n",
       "      <td>665053</td>\n",
       "      <td>1632000</td>\n",
       "      <td>0.407508</td>\n",
       "    </tr>\n",
       "    <tr>\n",
       "      <th>10</th>\n",
       "      <td>광주광역시</td>\n",
       "      <td>526991</td>\n",
       "      <td>1488000</td>\n",
       "      <td>0.354161</td>\n",
       "    </tr>\n",
       "    <tr>\n",
       "      <th>9</th>\n",
       "      <td>전라북도</td>\n",
       "      <td>576685</td>\n",
       "      <td>1792000</td>\n",
       "      <td>0.321811</td>\n",
       "    </tr>\n",
       "    <tr>\n",
       "      <th>12</th>\n",
       "      <td>전라남도</td>\n",
       "      <td>373023</td>\n",
       "      <td>1764000</td>\n",
       "      <td>0.211464</td>\n",
       "    </tr>\n",
       "    <tr>\n",
       "      <th>11</th>\n",
       "      <td>충청남도</td>\n",
       "      <td>416292</td>\n",
       "      <td>2204000</td>\n",
       "      <td>0.188880</td>\n",
       "    </tr>\n",
       "    <tr>\n",
       "      <th>13</th>\n",
       "      <td>울산광역시</td>\n",
       "      <td>55066</td>\n",
       "      <td>1140000</td>\n",
       "      <td>0.048304</td>\n",
       "    </tr>\n",
       "    <tr>\n",
       "      <th>14</th>\n",
       "      <td>강원도</td>\n",
       "      <td>22500</td>\n",
       "      <td>1515000</td>\n",
       "      <td>0.014851</td>\n",
       "    </tr>\n",
       "  </tbody>\n",
       "</table>\n",
       "</div>"
      ],
      "text/plain": [
       "   region     count  population     ratio\n",
       "0     경기도  14067457    13405000  1.049419\n",
       "2   인천광역시   2512308     2951000  0.851341\n",
       "6   대전광역시   1242615     1500000  0.828410\n",
       "1   서울특별시   7732329     9602000  0.805283\n",
       "3   부산광역시   1930478     3344000  0.577296\n",
       "5    경상북도   1352876     2655000  0.509558\n",
       "4    경상남도   1704029     3350000  0.508665\n",
       "7   대구광역시   1224752     2419000  0.506305\n",
       "8    충청북도    665053     1632000  0.407508\n",
       "10  광주광역시    526991     1488000  0.354161\n",
       "9    전라북도    576685     1792000  0.321811\n",
       "12   전라남도    373023     1764000  0.211464\n",
       "11   충청남도    416292     2204000  0.188880\n",
       "13  울산광역시     55066     1140000  0.048304\n",
       "14    강원도     22500     1515000  0.014851"
      ]
     },
     "execution_count": 111,
     "metadata": {},
     "output_type": "execute_result"
    }
   ],
   "source": [
    "df['ratio'] = df.apply(lambda x: x[1]/x[2], axis=1)\n",
    "df = df.sort_values(by=['ratio'], ascending=False)\n",
    "df"
   ]
  },
  {
   "cell_type": "code",
   "execution_count": 116,
   "metadata": {},
   "outputs": [
    {
     "data": {
      "application/vnd.plotly.v1+json": {
       "config": {
        "plotlyServerURL": "https://plot.ly"
       },
       "data": [
        {
         "text": [
          "1.04",
          "0.85",
          "0.82",
          "0.80",
          "0.57",
          "0.50",
          "0.50",
          "0.50",
          "0.40",
          "0.35",
          "0.32",
          "0.21",
          "0.18",
          "0.04",
          "0.01"
         ],
         "textfont": {
          "size": 10
         },
         "textposition": "auto",
         "type": "bar",
         "x": [
          "경기도",
          "인천광역시",
          "대전광역시",
          "서울특별시",
          "부산광역시",
          "경상북도",
          "경상남도",
          "대구광역시",
          "충청북도",
          "광주광역시",
          "전라북도",
          "전라남도",
          "충청남도",
          "울산광역시",
          "강원도"
         ],
         "y": [
          1.049418649757553,
          0.8513412402575398,
          0.82841,
          0.8052831701728806,
          0.5772960526315789,
          0.5095578154425612,
          0.5086653731343284,
          0.5063050847457627,
          0.4075079656862745,
          0.3541606182795699,
          0.32181082589285714,
          0.21146428571428572,
          0.1888802177858439,
          0.04830350877192983,
          0.01485148514851485
         ]
        }
       ],
       "layout": {
        "template": {
         "data": {
          "bar": [
           {
            "error_x": {
             "color": "#2a3f5f"
            },
            "error_y": {
             "color": "#2a3f5f"
            },
            "marker": {
             "line": {
              "color": "#E5ECF6",
              "width": 0.5
             }
            },
            "type": "bar"
           }
          ],
          "barpolar": [
           {
            "marker": {
             "line": {
              "color": "#E5ECF6",
              "width": 0.5
             }
            },
            "type": "barpolar"
           }
          ],
          "carpet": [
           {
            "aaxis": {
             "endlinecolor": "#2a3f5f",
             "gridcolor": "white",
             "linecolor": "white",
             "minorgridcolor": "white",
             "startlinecolor": "#2a3f5f"
            },
            "baxis": {
             "endlinecolor": "#2a3f5f",
             "gridcolor": "white",
             "linecolor": "white",
             "minorgridcolor": "white",
             "startlinecolor": "#2a3f5f"
            },
            "type": "carpet"
           }
          ],
          "choropleth": [
           {
            "colorbar": {
             "outlinewidth": 0,
             "ticks": ""
            },
            "type": "choropleth"
           }
          ],
          "contour": [
           {
            "colorbar": {
             "outlinewidth": 0,
             "ticks": ""
            },
            "colorscale": [
             [
              0,
              "#0d0887"
             ],
             [
              0.1111111111111111,
              "#46039f"
             ],
             [
              0.2222222222222222,
              "#7201a8"
             ],
             [
              0.3333333333333333,
              "#9c179e"
             ],
             [
              0.4444444444444444,
              "#bd3786"
             ],
             [
              0.5555555555555556,
              "#d8576b"
             ],
             [
              0.6666666666666666,
              "#ed7953"
             ],
             [
              0.7777777777777778,
              "#fb9f3a"
             ],
             [
              0.8888888888888888,
              "#fdca26"
             ],
             [
              1,
              "#f0f921"
             ]
            ],
            "type": "contour"
           }
          ],
          "contourcarpet": [
           {
            "colorbar": {
             "outlinewidth": 0,
             "ticks": ""
            },
            "type": "contourcarpet"
           }
          ],
          "heatmap": [
           {
            "colorbar": {
             "outlinewidth": 0,
             "ticks": ""
            },
            "colorscale": [
             [
              0,
              "#0d0887"
             ],
             [
              0.1111111111111111,
              "#46039f"
             ],
             [
              0.2222222222222222,
              "#7201a8"
             ],
             [
              0.3333333333333333,
              "#9c179e"
             ],
             [
              0.4444444444444444,
              "#bd3786"
             ],
             [
              0.5555555555555556,
              "#d8576b"
             ],
             [
              0.6666666666666666,
              "#ed7953"
             ],
             [
              0.7777777777777778,
              "#fb9f3a"
             ],
             [
              0.8888888888888888,
              "#fdca26"
             ],
             [
              1,
              "#f0f921"
             ]
            ],
            "type": "heatmap"
           }
          ],
          "heatmapgl": [
           {
            "colorbar": {
             "outlinewidth": 0,
             "ticks": ""
            },
            "colorscale": [
             [
              0,
              "#0d0887"
             ],
             [
              0.1111111111111111,
              "#46039f"
             ],
             [
              0.2222222222222222,
              "#7201a8"
             ],
             [
              0.3333333333333333,
              "#9c179e"
             ],
             [
              0.4444444444444444,
              "#bd3786"
             ],
             [
              0.5555555555555556,
              "#d8576b"
             ],
             [
              0.6666666666666666,
              "#ed7953"
             ],
             [
              0.7777777777777778,
              "#fb9f3a"
             ],
             [
              0.8888888888888888,
              "#fdca26"
             ],
             [
              1,
              "#f0f921"
             ]
            ],
            "type": "heatmapgl"
           }
          ],
          "histogram": [
           {
            "marker": {
             "colorbar": {
              "outlinewidth": 0,
              "ticks": ""
             }
            },
            "type": "histogram"
           }
          ],
          "histogram2d": [
           {
            "colorbar": {
             "outlinewidth": 0,
             "ticks": ""
            },
            "colorscale": [
             [
              0,
              "#0d0887"
             ],
             [
              0.1111111111111111,
              "#46039f"
             ],
             [
              0.2222222222222222,
              "#7201a8"
             ],
             [
              0.3333333333333333,
              "#9c179e"
             ],
             [
              0.4444444444444444,
              "#bd3786"
             ],
             [
              0.5555555555555556,
              "#d8576b"
             ],
             [
              0.6666666666666666,
              "#ed7953"
             ],
             [
              0.7777777777777778,
              "#fb9f3a"
             ],
             [
              0.8888888888888888,
              "#fdca26"
             ],
             [
              1,
              "#f0f921"
             ]
            ],
            "type": "histogram2d"
           }
          ],
          "histogram2dcontour": [
           {
            "colorbar": {
             "outlinewidth": 0,
             "ticks": ""
            },
            "colorscale": [
             [
              0,
              "#0d0887"
             ],
             [
              0.1111111111111111,
              "#46039f"
             ],
             [
              0.2222222222222222,
              "#7201a8"
             ],
             [
              0.3333333333333333,
              "#9c179e"
             ],
             [
              0.4444444444444444,
              "#bd3786"
             ],
             [
              0.5555555555555556,
              "#d8576b"
             ],
             [
              0.6666666666666666,
              "#ed7953"
             ],
             [
              0.7777777777777778,
              "#fb9f3a"
             ],
             [
              0.8888888888888888,
              "#fdca26"
             ],
             [
              1,
              "#f0f921"
             ]
            ],
            "type": "histogram2dcontour"
           }
          ],
          "mesh3d": [
           {
            "colorbar": {
             "outlinewidth": 0,
             "ticks": ""
            },
            "type": "mesh3d"
           }
          ],
          "parcoords": [
           {
            "line": {
             "colorbar": {
              "outlinewidth": 0,
              "ticks": ""
             }
            },
            "type": "parcoords"
           }
          ],
          "pie": [
           {
            "automargin": true,
            "type": "pie"
           }
          ],
          "scatter": [
           {
            "marker": {
             "colorbar": {
              "outlinewidth": 0,
              "ticks": ""
             }
            },
            "type": "scatter"
           }
          ],
          "scatter3d": [
           {
            "line": {
             "colorbar": {
              "outlinewidth": 0,
              "ticks": ""
             }
            },
            "marker": {
             "colorbar": {
              "outlinewidth": 0,
              "ticks": ""
             }
            },
            "type": "scatter3d"
           }
          ],
          "scattercarpet": [
           {
            "marker": {
             "colorbar": {
              "outlinewidth": 0,
              "ticks": ""
             }
            },
            "type": "scattercarpet"
           }
          ],
          "scattergeo": [
           {
            "marker": {
             "colorbar": {
              "outlinewidth": 0,
              "ticks": ""
             }
            },
            "type": "scattergeo"
           }
          ],
          "scattergl": [
           {
            "marker": {
             "colorbar": {
              "outlinewidth": 0,
              "ticks": ""
             }
            },
            "type": "scattergl"
           }
          ],
          "scattermapbox": [
           {
            "marker": {
             "colorbar": {
              "outlinewidth": 0,
              "ticks": ""
             }
            },
            "type": "scattermapbox"
           }
          ],
          "scatterpolar": [
           {
            "marker": {
             "colorbar": {
              "outlinewidth": 0,
              "ticks": ""
             }
            },
            "type": "scatterpolar"
           }
          ],
          "scatterpolargl": [
           {
            "marker": {
             "colorbar": {
              "outlinewidth": 0,
              "ticks": ""
             }
            },
            "type": "scatterpolargl"
           }
          ],
          "scatterternary": [
           {
            "marker": {
             "colorbar": {
              "outlinewidth": 0,
              "ticks": ""
             }
            },
            "type": "scatterternary"
           }
          ],
          "surface": [
           {
            "colorbar": {
             "outlinewidth": 0,
             "ticks": ""
            },
            "colorscale": [
             [
              0,
              "#0d0887"
             ],
             [
              0.1111111111111111,
              "#46039f"
             ],
             [
              0.2222222222222222,
              "#7201a8"
             ],
             [
              0.3333333333333333,
              "#9c179e"
             ],
             [
              0.4444444444444444,
              "#bd3786"
             ],
             [
              0.5555555555555556,
              "#d8576b"
             ],
             [
              0.6666666666666666,
              "#ed7953"
             ],
             [
              0.7777777777777778,
              "#fb9f3a"
             ],
             [
              0.8888888888888888,
              "#fdca26"
             ],
             [
              1,
              "#f0f921"
             ]
            ],
            "type": "surface"
           }
          ],
          "table": [
           {
            "cells": {
             "fill": {
              "color": "#EBF0F8"
             },
             "line": {
              "color": "white"
             }
            },
            "header": {
             "fill": {
              "color": "#C8D4E3"
             },
             "line": {
              "color": "white"
             }
            },
            "type": "table"
           }
          ]
         },
         "layout": {
          "annotationdefaults": {
           "arrowcolor": "#2a3f5f",
           "arrowhead": 0,
           "arrowwidth": 1
          },
          "coloraxis": {
           "colorbar": {
            "outlinewidth": 0,
            "ticks": ""
           }
          },
          "colorscale": {
           "diverging": [
            [
             0,
             "#8e0152"
            ],
            [
             0.1,
             "#c51b7d"
            ],
            [
             0.2,
             "#de77ae"
            ],
            [
             0.3,
             "#f1b6da"
            ],
            [
             0.4,
             "#fde0ef"
            ],
            [
             0.5,
             "#f7f7f7"
            ],
            [
             0.6,
             "#e6f5d0"
            ],
            [
             0.7,
             "#b8e186"
            ],
            [
             0.8,
             "#7fbc41"
            ],
            [
             0.9,
             "#4d9221"
            ],
            [
             1,
             "#276419"
            ]
           ],
           "sequential": [
            [
             0,
             "#0d0887"
            ],
            [
             0.1111111111111111,
             "#46039f"
            ],
            [
             0.2222222222222222,
             "#7201a8"
            ],
            [
             0.3333333333333333,
             "#9c179e"
            ],
            [
             0.4444444444444444,
             "#bd3786"
            ],
            [
             0.5555555555555556,
             "#d8576b"
            ],
            [
             0.6666666666666666,
             "#ed7953"
            ],
            [
             0.7777777777777778,
             "#fb9f3a"
            ],
            [
             0.8888888888888888,
             "#fdca26"
            ],
            [
             1,
             "#f0f921"
            ]
           ],
           "sequentialminus": [
            [
             0,
             "#0d0887"
            ],
            [
             0.1111111111111111,
             "#46039f"
            ],
            [
             0.2222222222222222,
             "#7201a8"
            ],
            [
             0.3333333333333333,
             "#9c179e"
            ],
            [
             0.4444444444444444,
             "#bd3786"
            ],
            [
             0.5555555555555556,
             "#d8576b"
            ],
            [
             0.6666666666666666,
             "#ed7953"
            ],
            [
             0.7777777777777778,
             "#fb9f3a"
            ],
            [
             0.8888888888888888,
             "#fdca26"
            ],
            [
             1,
             "#f0f921"
            ]
           ]
          },
          "colorway": [
           "#636efa",
           "#EF553B",
           "#00cc96",
           "#ab63fa",
           "#FFA15A",
           "#19d3f3",
           "#FF6692",
           "#B6E880",
           "#FF97FF",
           "#FECB52"
          ],
          "font": {
           "color": "#2a3f5f"
          },
          "geo": {
           "bgcolor": "white",
           "lakecolor": "white",
           "landcolor": "#E5ECF6",
           "showlakes": true,
           "showland": true,
           "subunitcolor": "white"
          },
          "hoverlabel": {
           "align": "left"
          },
          "hovermode": "closest",
          "mapbox": {
           "style": "light"
          },
          "paper_bgcolor": "white",
          "plot_bgcolor": "#E5ECF6",
          "polar": {
           "angularaxis": {
            "gridcolor": "white",
            "linecolor": "white",
            "ticks": ""
           },
           "bgcolor": "#E5ECF6",
           "radialaxis": {
            "gridcolor": "white",
            "linecolor": "white",
            "ticks": ""
           }
          },
          "scene": {
           "xaxis": {
            "backgroundcolor": "#E5ECF6",
            "gridcolor": "white",
            "gridwidth": 2,
            "linecolor": "white",
            "showbackground": true,
            "ticks": "",
            "zerolinecolor": "white"
           },
           "yaxis": {
            "backgroundcolor": "#E5ECF6",
            "gridcolor": "white",
            "gridwidth": 2,
            "linecolor": "white",
            "showbackground": true,
            "ticks": "",
            "zerolinecolor": "white"
           },
           "zaxis": {
            "backgroundcolor": "#E5ECF6",
            "gridcolor": "white",
            "gridwidth": 2,
            "linecolor": "white",
            "showbackground": true,
            "ticks": "",
            "zerolinecolor": "white"
           }
          },
          "shapedefaults": {
           "line": {
            "color": "#2a3f5f"
           }
          },
          "ternary": {
           "aaxis": {
            "gridcolor": "white",
            "linecolor": "white",
            "ticks": ""
           },
           "baxis": {
            "gridcolor": "white",
            "linecolor": "white",
            "ticks": ""
           },
           "bgcolor": "#E5ECF6",
           "caxis": {
            "gridcolor": "white",
            "linecolor": "white",
            "ticks": ""
           }
          },
          "title": {
           "x": 0.05
          },
          "xaxis": {
           "automargin": true,
           "gridcolor": "white",
           "linecolor": "white",
           "ticks": "",
           "title": {
            "standoff": 15
           },
           "zerolinecolor": "white",
           "zerolinewidth": 2
          },
          "yaxis": {
           "automargin": true,
           "gridcolor": "white",
           "linecolor": "white",
           "ticks": "",
           "title": {
            "standoff": 15
           },
           "zerolinecolor": "white",
           "zerolinewidth": 2
          }
         }
        },
        "title": {
         "text": "거주지에 따른 2005년-2020년 총 민원 수와 인구 수의 비율",
         "x": 0.5,
         "xanchor": "center",
         "y": 0.86,
         "yanchor": "top"
        }
       }
      },
      "text/html": [
       "<div>\n",
       "        \n",
       "        \n",
       "            <div id=\"aee321c8-50cd-41d8-a7b2-dbf6e92acdd7\" class=\"plotly-graph-div\" style=\"height:525px; width:100%;\"></div>\n",
       "            <script type=\"text/javascript\">\n",
       "                require([\"plotly\"], function(Plotly) {\n",
       "                    window.PLOTLYENV=window.PLOTLYENV || {};\n",
       "                    \n",
       "                if (document.getElementById(\"aee321c8-50cd-41d8-a7b2-dbf6e92acdd7\")) {\n",
       "                    Plotly.newPlot(\n",
       "                        'aee321c8-50cd-41d8-a7b2-dbf6e92acdd7',\n",
       "                        [{\"text\": [\"1.04\", \"0.85\", \"0.82\", \"0.80\", \"0.57\", \"0.50\", \"0.50\", \"0.50\", \"0.40\", \"0.35\", \"0.32\", \"0.21\", \"0.18\", \"0.04\", \"0.01\"], \"textfont\": {\"size\": 10}, \"textposition\": \"auto\", \"type\": \"bar\", \"x\": [\"\\uacbd\\uae30\\ub3c4\", \"\\uc778\\ucc9c\\uad11\\uc5ed\\uc2dc\", \"\\ub300\\uc804\\uad11\\uc5ed\\uc2dc\", \"\\uc11c\\uc6b8\\ud2b9\\ubcc4\\uc2dc\", \"\\ubd80\\uc0b0\\uad11\\uc5ed\\uc2dc\", \"\\uacbd\\uc0c1\\ubd81\\ub3c4\", \"\\uacbd\\uc0c1\\ub0a8\\ub3c4\", \"\\ub300\\uad6c\\uad11\\uc5ed\\uc2dc\", \"\\ucda9\\uccad\\ubd81\\ub3c4\", \"\\uad11\\uc8fc\\uad11\\uc5ed\\uc2dc\", \"\\uc804\\ub77c\\ubd81\\ub3c4\", \"\\uc804\\ub77c\\ub0a8\\ub3c4\", \"\\ucda9\\uccad\\ub0a8\\ub3c4\", \"\\uc6b8\\uc0b0\\uad11\\uc5ed\\uc2dc\", \"\\uac15\\uc6d0\\ub3c4\"], \"y\": [1.049418649757553, 0.8513412402575398, 0.82841, 0.8052831701728806, 0.5772960526315789, 0.5095578154425612, 0.5086653731343284, 0.5063050847457627, 0.4075079656862745, 0.3541606182795699, 0.32181082589285714, 0.21146428571428572, 0.1888802177858439, 0.04830350877192983, 0.01485148514851485]}],\n",
       "                        {\"template\": {\"data\": {\"bar\": [{\"error_x\": {\"color\": \"#2a3f5f\"}, \"error_y\": {\"color\": \"#2a3f5f\"}, \"marker\": {\"line\": {\"color\": \"#E5ECF6\", \"width\": 0.5}}, \"type\": \"bar\"}], \"barpolar\": [{\"marker\": {\"line\": {\"color\": \"#E5ECF6\", \"width\": 0.5}}, \"type\": \"barpolar\"}], \"carpet\": [{\"aaxis\": {\"endlinecolor\": \"#2a3f5f\", \"gridcolor\": \"white\", \"linecolor\": \"white\", \"minorgridcolor\": \"white\", \"startlinecolor\": \"#2a3f5f\"}, \"baxis\": {\"endlinecolor\": \"#2a3f5f\", \"gridcolor\": \"white\", \"linecolor\": \"white\", \"minorgridcolor\": \"white\", \"startlinecolor\": \"#2a3f5f\"}, \"type\": \"carpet\"}], \"choropleth\": [{\"colorbar\": {\"outlinewidth\": 0, \"ticks\": \"\"}, \"type\": \"choropleth\"}], \"contour\": [{\"colorbar\": {\"outlinewidth\": 0, \"ticks\": \"\"}, \"colorscale\": [[0.0, \"#0d0887\"], [0.1111111111111111, \"#46039f\"], [0.2222222222222222, \"#7201a8\"], [0.3333333333333333, \"#9c179e\"], [0.4444444444444444, \"#bd3786\"], [0.5555555555555556, \"#d8576b\"], [0.6666666666666666, \"#ed7953\"], [0.7777777777777778, \"#fb9f3a\"], [0.8888888888888888, \"#fdca26\"], [1.0, \"#f0f921\"]], \"type\": \"contour\"}], \"contourcarpet\": [{\"colorbar\": {\"outlinewidth\": 0, \"ticks\": \"\"}, \"type\": \"contourcarpet\"}], \"heatmap\": [{\"colorbar\": {\"outlinewidth\": 0, \"ticks\": \"\"}, \"colorscale\": [[0.0, \"#0d0887\"], [0.1111111111111111, \"#46039f\"], [0.2222222222222222, \"#7201a8\"], [0.3333333333333333, \"#9c179e\"], [0.4444444444444444, \"#bd3786\"], [0.5555555555555556, \"#d8576b\"], [0.6666666666666666, \"#ed7953\"], [0.7777777777777778, \"#fb9f3a\"], [0.8888888888888888, \"#fdca26\"], [1.0, \"#f0f921\"]], \"type\": \"heatmap\"}], \"heatmapgl\": [{\"colorbar\": {\"outlinewidth\": 0, \"ticks\": \"\"}, \"colorscale\": [[0.0, \"#0d0887\"], [0.1111111111111111, \"#46039f\"], [0.2222222222222222, \"#7201a8\"], [0.3333333333333333, \"#9c179e\"], [0.4444444444444444, \"#bd3786\"], [0.5555555555555556, \"#d8576b\"], [0.6666666666666666, \"#ed7953\"], [0.7777777777777778, \"#fb9f3a\"], [0.8888888888888888, \"#fdca26\"], [1.0, \"#f0f921\"]], \"type\": \"heatmapgl\"}], \"histogram\": [{\"marker\": {\"colorbar\": {\"outlinewidth\": 0, \"ticks\": \"\"}}, \"type\": \"histogram\"}], \"histogram2d\": [{\"colorbar\": {\"outlinewidth\": 0, \"ticks\": \"\"}, \"colorscale\": [[0.0, \"#0d0887\"], [0.1111111111111111, \"#46039f\"], [0.2222222222222222, \"#7201a8\"], [0.3333333333333333, \"#9c179e\"], [0.4444444444444444, \"#bd3786\"], [0.5555555555555556, \"#d8576b\"], [0.6666666666666666, \"#ed7953\"], [0.7777777777777778, \"#fb9f3a\"], [0.8888888888888888, \"#fdca26\"], [1.0, \"#f0f921\"]], \"type\": \"histogram2d\"}], \"histogram2dcontour\": [{\"colorbar\": {\"outlinewidth\": 0, \"ticks\": \"\"}, \"colorscale\": [[0.0, \"#0d0887\"], [0.1111111111111111, \"#46039f\"], [0.2222222222222222, \"#7201a8\"], [0.3333333333333333, \"#9c179e\"], [0.4444444444444444, \"#bd3786\"], [0.5555555555555556, \"#d8576b\"], [0.6666666666666666, \"#ed7953\"], [0.7777777777777778, \"#fb9f3a\"], [0.8888888888888888, \"#fdca26\"], [1.0, \"#f0f921\"]], \"type\": \"histogram2dcontour\"}], \"mesh3d\": [{\"colorbar\": {\"outlinewidth\": 0, \"ticks\": \"\"}, \"type\": \"mesh3d\"}], \"parcoords\": [{\"line\": {\"colorbar\": {\"outlinewidth\": 0, \"ticks\": \"\"}}, \"type\": \"parcoords\"}], \"pie\": [{\"automargin\": true, \"type\": \"pie\"}], \"scatter\": [{\"marker\": {\"colorbar\": {\"outlinewidth\": 0, \"ticks\": \"\"}}, \"type\": \"scatter\"}], \"scatter3d\": [{\"line\": {\"colorbar\": {\"outlinewidth\": 0, \"ticks\": \"\"}}, \"marker\": {\"colorbar\": {\"outlinewidth\": 0, \"ticks\": \"\"}}, \"type\": \"scatter3d\"}], \"scattercarpet\": [{\"marker\": {\"colorbar\": {\"outlinewidth\": 0, \"ticks\": \"\"}}, \"type\": \"scattercarpet\"}], \"scattergeo\": [{\"marker\": {\"colorbar\": {\"outlinewidth\": 0, \"ticks\": \"\"}}, \"type\": \"scattergeo\"}], \"scattergl\": [{\"marker\": {\"colorbar\": {\"outlinewidth\": 0, \"ticks\": \"\"}}, \"type\": \"scattergl\"}], \"scattermapbox\": [{\"marker\": {\"colorbar\": {\"outlinewidth\": 0, \"ticks\": \"\"}}, \"type\": \"scattermapbox\"}], \"scatterpolar\": [{\"marker\": {\"colorbar\": {\"outlinewidth\": 0, \"ticks\": \"\"}}, \"type\": \"scatterpolar\"}], \"scatterpolargl\": [{\"marker\": {\"colorbar\": {\"outlinewidth\": 0, \"ticks\": \"\"}}, \"type\": \"scatterpolargl\"}], \"scatterternary\": [{\"marker\": {\"colorbar\": {\"outlinewidth\": 0, \"ticks\": \"\"}}, \"type\": \"scatterternary\"}], \"surface\": [{\"colorbar\": {\"outlinewidth\": 0, \"ticks\": \"\"}, \"colorscale\": [[0.0, \"#0d0887\"], [0.1111111111111111, \"#46039f\"], [0.2222222222222222, \"#7201a8\"], [0.3333333333333333, \"#9c179e\"], [0.4444444444444444, \"#bd3786\"], [0.5555555555555556, \"#d8576b\"], [0.6666666666666666, \"#ed7953\"], [0.7777777777777778, \"#fb9f3a\"], [0.8888888888888888, \"#fdca26\"], [1.0, \"#f0f921\"]], \"type\": \"surface\"}], \"table\": [{\"cells\": {\"fill\": {\"color\": \"#EBF0F8\"}, \"line\": {\"color\": \"white\"}}, \"header\": {\"fill\": {\"color\": \"#C8D4E3\"}, \"line\": {\"color\": \"white\"}}, \"type\": \"table\"}]}, \"layout\": {\"annotationdefaults\": {\"arrowcolor\": \"#2a3f5f\", \"arrowhead\": 0, \"arrowwidth\": 1}, \"coloraxis\": {\"colorbar\": {\"outlinewidth\": 0, \"ticks\": \"\"}}, \"colorscale\": {\"diverging\": [[0, \"#8e0152\"], [0.1, \"#c51b7d\"], [0.2, \"#de77ae\"], [0.3, \"#f1b6da\"], [0.4, \"#fde0ef\"], [0.5, \"#f7f7f7\"], [0.6, \"#e6f5d0\"], [0.7, \"#b8e186\"], [0.8, \"#7fbc41\"], [0.9, \"#4d9221\"], [1, \"#276419\"]], \"sequential\": [[0.0, \"#0d0887\"], [0.1111111111111111, \"#46039f\"], [0.2222222222222222, \"#7201a8\"], [0.3333333333333333, \"#9c179e\"], [0.4444444444444444, \"#bd3786\"], [0.5555555555555556, \"#d8576b\"], [0.6666666666666666, \"#ed7953\"], [0.7777777777777778, \"#fb9f3a\"], [0.8888888888888888, \"#fdca26\"], [1.0, \"#f0f921\"]], \"sequentialminus\": [[0.0, \"#0d0887\"], [0.1111111111111111, \"#46039f\"], [0.2222222222222222, \"#7201a8\"], [0.3333333333333333, \"#9c179e\"], [0.4444444444444444, \"#bd3786\"], [0.5555555555555556, \"#d8576b\"], [0.6666666666666666, \"#ed7953\"], [0.7777777777777778, \"#fb9f3a\"], [0.8888888888888888, \"#fdca26\"], [1.0, \"#f0f921\"]]}, \"colorway\": [\"#636efa\", \"#EF553B\", \"#00cc96\", \"#ab63fa\", \"#FFA15A\", \"#19d3f3\", \"#FF6692\", \"#B6E880\", \"#FF97FF\", \"#FECB52\"], \"font\": {\"color\": \"#2a3f5f\"}, \"geo\": {\"bgcolor\": \"white\", \"lakecolor\": \"white\", \"landcolor\": \"#E5ECF6\", \"showlakes\": true, \"showland\": true, \"subunitcolor\": \"white\"}, \"hoverlabel\": {\"align\": \"left\"}, \"hovermode\": \"closest\", \"mapbox\": {\"style\": \"light\"}, \"paper_bgcolor\": \"white\", \"plot_bgcolor\": \"#E5ECF6\", \"polar\": {\"angularaxis\": {\"gridcolor\": \"white\", \"linecolor\": \"white\", \"ticks\": \"\"}, \"bgcolor\": \"#E5ECF6\", \"radialaxis\": {\"gridcolor\": \"white\", \"linecolor\": \"white\", \"ticks\": \"\"}}, \"scene\": {\"xaxis\": {\"backgroundcolor\": \"#E5ECF6\", \"gridcolor\": \"white\", \"gridwidth\": 2, \"linecolor\": \"white\", \"showbackground\": true, \"ticks\": \"\", \"zerolinecolor\": \"white\"}, \"yaxis\": {\"backgroundcolor\": \"#E5ECF6\", \"gridcolor\": \"white\", \"gridwidth\": 2, \"linecolor\": \"white\", \"showbackground\": true, \"ticks\": \"\", \"zerolinecolor\": \"white\"}, \"zaxis\": {\"backgroundcolor\": \"#E5ECF6\", \"gridcolor\": \"white\", \"gridwidth\": 2, \"linecolor\": \"white\", \"showbackground\": true, \"ticks\": \"\", \"zerolinecolor\": \"white\"}}, \"shapedefaults\": {\"line\": {\"color\": \"#2a3f5f\"}}, \"ternary\": {\"aaxis\": {\"gridcolor\": \"white\", \"linecolor\": \"white\", \"ticks\": \"\"}, \"baxis\": {\"gridcolor\": \"white\", \"linecolor\": \"white\", \"ticks\": \"\"}, \"bgcolor\": \"#E5ECF6\", \"caxis\": {\"gridcolor\": \"white\", \"linecolor\": \"white\", \"ticks\": \"\"}}, \"title\": {\"x\": 0.05}, \"xaxis\": {\"automargin\": true, \"gridcolor\": \"white\", \"linecolor\": \"white\", \"ticks\": \"\", \"title\": {\"standoff\": 15}, \"zerolinecolor\": \"white\", \"zerolinewidth\": 2}, \"yaxis\": {\"automargin\": true, \"gridcolor\": \"white\", \"linecolor\": \"white\", \"ticks\": \"\", \"title\": {\"standoff\": 15}, \"zerolinecolor\": \"white\", \"zerolinewidth\": 2}}}, \"title\": {\"text\": \"\\uac70\\uc8fc\\uc9c0\\uc5d0 \\ub530\\ub978 2005\\ub144-2020\\ub144 \\ucd1d \\ubbfc\\uc6d0 \\uc218\\uc640 \\uc778\\uad6c \\uc218\\uc758 \\ube44\\uc728\", \"x\": 0.5, \"xanchor\": \"center\", \"y\": 0.86, \"yanchor\": \"top\"}},\n",
       "                        {\"responsive\": true}\n",
       "                    ).then(function(){\n",
       "                            \n",
       "var gd = document.getElementById('aee321c8-50cd-41d8-a7b2-dbf6e92acdd7');\n",
       "var x = new MutationObserver(function (mutations, observer) {{\n",
       "        var display = window.getComputedStyle(gd).display;\n",
       "        if (!display || display === 'none') {{\n",
       "            console.log([gd, 'removed!']);\n",
       "            Plotly.purge(gd);\n",
       "            observer.disconnect();\n",
       "        }}\n",
       "}});\n",
       "\n",
       "// Listen for the removal of the full notebook cells\n",
       "var notebookContainer = gd.closest('#notebook-container');\n",
       "if (notebookContainer) {{\n",
       "    x.observe(notebookContainer, {childList: true});\n",
       "}}\n",
       "\n",
       "// Listen for the clearing of the current output cell\n",
       "var outputEl = gd.closest('.output');\n",
       "if (outputEl) {{\n",
       "    x.observe(outputEl, {childList: true});\n",
       "}}\n",
       "\n",
       "                        })\n",
       "                };\n",
       "                });\n",
       "            </script>\n",
       "        </div>"
      ]
     },
     "metadata": {},
     "output_type": "display_data"
    }
   ],
   "source": [
    "x = df.region.tolist()\n",
    "y = df.ratio.tolist()\n",
    "text = [str(val)[:4] for val in y]\n",
    "\n",
    "# Use textposition='auto' for direct text\n",
    "fig = go.Figure(data=[go.Bar(\n",
    "            x=x, y=y,\n",
    "            text=text,\n",
    "            textfont_size=10,\n",
    "            textposition='auto',\n",
    "        )])\n",
    "fig.update_layout(title={'text': '거주지에 따른 2005년-2020년 총 민원 수와 인구 수의 비율', 'y':0.86, 'x':0.5, 'xanchor': 'center', 'yanchor': 'top'})\n",
    "fig.show()"
   ]
  },
  {
   "cell_type": "markdown",
   "metadata": {},
   "source": [
    "### <a id='2'> </a>2. 언제?\n",
    "### 2.1. 계절에 따른 민원 건 수 "
   ]
  },
  {
   "cell_type": "code",
   "execution_count": null,
   "metadata": {},
   "outputs": [],
   "source": [
    "startdate = '20050101000000'.format(year)\n",
    "enddate = '20201231235959'.format(year)\n",
    "\n",
    "url = \"http://apis.data.go.kr/1140100/minAnalsInfoView2/minStaticsInfo2?serviceKey={}&target=pttn,dfpt,saeol,prpl,twitter,qna,qna_origin&dateFrom={}&dateTo={}&topN=10000&period=MONTHLY&sortBy=NAME&sortOrder=false\".format(KEY, startdate, enddate)\n",
    "result = requests.get(url) "
   ]
  },
  {
   "cell_type": "code",
   "execution_count": 83,
   "metadata": {},
   "outputs": [],
   "source": [
    "season_dict = defaultdict(int)\n",
    "\n",
    "for x in ast.literal_eval(result.text):\n",
    "    # 봄\n",
    "    if x['label'][4:] in ['0301', '0401', '0501']:\n",
    "        season_dict['spring'] += x['hits']\n",
    "    # 여름\n",
    "    if x['label'][4:] in ['0601', '0701', '0801']:\n",
    "        season_dict['summer'] += x['hits']\n",
    "    # 가을\n",
    "    if x['label'][4:] in ['0901', '1001', '1101']:\n",
    "        season_dict['autumn'] += x['hits']\n",
    "    # 겨울\n",
    "    if x['label'][4:] in ['1201', '0101', '0201']:\n",
    "        season_dict['winter'] += x['hits']"
   ]
  },
  {
   "cell_type": "code",
   "execution_count": 84,
   "metadata": {},
   "outputs": [
    {
     "data": {
      "text/plain": [
       "defaultdict(int,\n",
       "            {'winter': 11340395,\n",
       "             'spring': 12918113,\n",
       "             'summer': 15278211,\n",
       "             'autumn': 14447979})"
      ]
     },
     "execution_count": 84,
     "metadata": {},
     "output_type": "execute_result"
    }
   ],
   "source": [
    "season_dict"
   ]
  },
  {
   "cell_type": "code",
   "execution_count": 38,
   "metadata": {},
   "outputs": [],
   "source": [
    "season_dict = {'봄': 12918113,\n",
    "               '여름': 15278211,\n",
    "               '가을': 14447979,\n",
    "               '겨울': 11340395}"
   ]
  },
  {
   "cell_type": "code",
   "execution_count": 50,
   "metadata": {},
   "outputs": [
    {
     "data": {
      "application/vnd.plotly.v1+json": {
       "config": {
        "plotlyServerURL": "https://plot.ly"
       },
       "data": [
        {
         "text": [
          "12.9M",
          "15.2M",
          "14.4M",
          "11.3M"
         ],
         "textposition": "auto",
         "type": "bar",
         "x": [
          "봄",
          "여름",
          "가을",
          "겨울"
         ],
         "y": [
          12918113,
          15278211,
          14447979,
          11340395
         ]
        }
       ],
       "layout": {
        "template": {
         "data": {
          "bar": [
           {
            "error_x": {
             "color": "#2a3f5f"
            },
            "error_y": {
             "color": "#2a3f5f"
            },
            "marker": {
             "line": {
              "color": "#E5ECF6",
              "width": 0.5
             }
            },
            "type": "bar"
           }
          ],
          "barpolar": [
           {
            "marker": {
             "line": {
              "color": "#E5ECF6",
              "width": 0.5
             }
            },
            "type": "barpolar"
           }
          ],
          "carpet": [
           {
            "aaxis": {
             "endlinecolor": "#2a3f5f",
             "gridcolor": "white",
             "linecolor": "white",
             "minorgridcolor": "white",
             "startlinecolor": "#2a3f5f"
            },
            "baxis": {
             "endlinecolor": "#2a3f5f",
             "gridcolor": "white",
             "linecolor": "white",
             "minorgridcolor": "white",
             "startlinecolor": "#2a3f5f"
            },
            "type": "carpet"
           }
          ],
          "choropleth": [
           {
            "colorbar": {
             "outlinewidth": 0,
             "ticks": ""
            },
            "type": "choropleth"
           }
          ],
          "contour": [
           {
            "colorbar": {
             "outlinewidth": 0,
             "ticks": ""
            },
            "colorscale": [
             [
              0,
              "#0d0887"
             ],
             [
              0.1111111111111111,
              "#46039f"
             ],
             [
              0.2222222222222222,
              "#7201a8"
             ],
             [
              0.3333333333333333,
              "#9c179e"
             ],
             [
              0.4444444444444444,
              "#bd3786"
             ],
             [
              0.5555555555555556,
              "#d8576b"
             ],
             [
              0.6666666666666666,
              "#ed7953"
             ],
             [
              0.7777777777777778,
              "#fb9f3a"
             ],
             [
              0.8888888888888888,
              "#fdca26"
             ],
             [
              1,
              "#f0f921"
             ]
            ],
            "type": "contour"
           }
          ],
          "contourcarpet": [
           {
            "colorbar": {
             "outlinewidth": 0,
             "ticks": ""
            },
            "type": "contourcarpet"
           }
          ],
          "heatmap": [
           {
            "colorbar": {
             "outlinewidth": 0,
             "ticks": ""
            },
            "colorscale": [
             [
              0,
              "#0d0887"
             ],
             [
              0.1111111111111111,
              "#46039f"
             ],
             [
              0.2222222222222222,
              "#7201a8"
             ],
             [
              0.3333333333333333,
              "#9c179e"
             ],
             [
              0.4444444444444444,
              "#bd3786"
             ],
             [
              0.5555555555555556,
              "#d8576b"
             ],
             [
              0.6666666666666666,
              "#ed7953"
             ],
             [
              0.7777777777777778,
              "#fb9f3a"
             ],
             [
              0.8888888888888888,
              "#fdca26"
             ],
             [
              1,
              "#f0f921"
             ]
            ],
            "type": "heatmap"
           }
          ],
          "heatmapgl": [
           {
            "colorbar": {
             "outlinewidth": 0,
             "ticks": ""
            },
            "colorscale": [
             [
              0,
              "#0d0887"
             ],
             [
              0.1111111111111111,
              "#46039f"
             ],
             [
              0.2222222222222222,
              "#7201a8"
             ],
             [
              0.3333333333333333,
              "#9c179e"
             ],
             [
              0.4444444444444444,
              "#bd3786"
             ],
             [
              0.5555555555555556,
              "#d8576b"
             ],
             [
              0.6666666666666666,
              "#ed7953"
             ],
             [
              0.7777777777777778,
              "#fb9f3a"
             ],
             [
              0.8888888888888888,
              "#fdca26"
             ],
             [
              1,
              "#f0f921"
             ]
            ],
            "type": "heatmapgl"
           }
          ],
          "histogram": [
           {
            "marker": {
             "colorbar": {
              "outlinewidth": 0,
              "ticks": ""
             }
            },
            "type": "histogram"
           }
          ],
          "histogram2d": [
           {
            "colorbar": {
             "outlinewidth": 0,
             "ticks": ""
            },
            "colorscale": [
             [
              0,
              "#0d0887"
             ],
             [
              0.1111111111111111,
              "#46039f"
             ],
             [
              0.2222222222222222,
              "#7201a8"
             ],
             [
              0.3333333333333333,
              "#9c179e"
             ],
             [
              0.4444444444444444,
              "#bd3786"
             ],
             [
              0.5555555555555556,
              "#d8576b"
             ],
             [
              0.6666666666666666,
              "#ed7953"
             ],
             [
              0.7777777777777778,
              "#fb9f3a"
             ],
             [
              0.8888888888888888,
              "#fdca26"
             ],
             [
              1,
              "#f0f921"
             ]
            ],
            "type": "histogram2d"
           }
          ],
          "histogram2dcontour": [
           {
            "colorbar": {
             "outlinewidth": 0,
             "ticks": ""
            },
            "colorscale": [
             [
              0,
              "#0d0887"
             ],
             [
              0.1111111111111111,
              "#46039f"
             ],
             [
              0.2222222222222222,
              "#7201a8"
             ],
             [
              0.3333333333333333,
              "#9c179e"
             ],
             [
              0.4444444444444444,
              "#bd3786"
             ],
             [
              0.5555555555555556,
              "#d8576b"
             ],
             [
              0.6666666666666666,
              "#ed7953"
             ],
             [
              0.7777777777777778,
              "#fb9f3a"
             ],
             [
              0.8888888888888888,
              "#fdca26"
             ],
             [
              1,
              "#f0f921"
             ]
            ],
            "type": "histogram2dcontour"
           }
          ],
          "mesh3d": [
           {
            "colorbar": {
             "outlinewidth": 0,
             "ticks": ""
            },
            "type": "mesh3d"
           }
          ],
          "parcoords": [
           {
            "line": {
             "colorbar": {
              "outlinewidth": 0,
              "ticks": ""
             }
            },
            "type": "parcoords"
           }
          ],
          "pie": [
           {
            "automargin": true,
            "type": "pie"
           }
          ],
          "scatter": [
           {
            "marker": {
             "colorbar": {
              "outlinewidth": 0,
              "ticks": ""
             }
            },
            "type": "scatter"
           }
          ],
          "scatter3d": [
           {
            "line": {
             "colorbar": {
              "outlinewidth": 0,
              "ticks": ""
             }
            },
            "marker": {
             "colorbar": {
              "outlinewidth": 0,
              "ticks": ""
             }
            },
            "type": "scatter3d"
           }
          ],
          "scattercarpet": [
           {
            "marker": {
             "colorbar": {
              "outlinewidth": 0,
              "ticks": ""
             }
            },
            "type": "scattercarpet"
           }
          ],
          "scattergeo": [
           {
            "marker": {
             "colorbar": {
              "outlinewidth": 0,
              "ticks": ""
             }
            },
            "type": "scattergeo"
           }
          ],
          "scattergl": [
           {
            "marker": {
             "colorbar": {
              "outlinewidth": 0,
              "ticks": ""
             }
            },
            "type": "scattergl"
           }
          ],
          "scattermapbox": [
           {
            "marker": {
             "colorbar": {
              "outlinewidth": 0,
              "ticks": ""
             }
            },
            "type": "scattermapbox"
           }
          ],
          "scatterpolar": [
           {
            "marker": {
             "colorbar": {
              "outlinewidth": 0,
              "ticks": ""
             }
            },
            "type": "scatterpolar"
           }
          ],
          "scatterpolargl": [
           {
            "marker": {
             "colorbar": {
              "outlinewidth": 0,
              "ticks": ""
             }
            },
            "type": "scatterpolargl"
           }
          ],
          "scatterternary": [
           {
            "marker": {
             "colorbar": {
              "outlinewidth": 0,
              "ticks": ""
             }
            },
            "type": "scatterternary"
           }
          ],
          "surface": [
           {
            "colorbar": {
             "outlinewidth": 0,
             "ticks": ""
            },
            "colorscale": [
             [
              0,
              "#0d0887"
             ],
             [
              0.1111111111111111,
              "#46039f"
             ],
             [
              0.2222222222222222,
              "#7201a8"
             ],
             [
              0.3333333333333333,
              "#9c179e"
             ],
             [
              0.4444444444444444,
              "#bd3786"
             ],
             [
              0.5555555555555556,
              "#d8576b"
             ],
             [
              0.6666666666666666,
              "#ed7953"
             ],
             [
              0.7777777777777778,
              "#fb9f3a"
             ],
             [
              0.8888888888888888,
              "#fdca26"
             ],
             [
              1,
              "#f0f921"
             ]
            ],
            "type": "surface"
           }
          ],
          "table": [
           {
            "cells": {
             "fill": {
              "color": "#EBF0F8"
             },
             "line": {
              "color": "white"
             }
            },
            "header": {
             "fill": {
              "color": "#C8D4E3"
             },
             "line": {
              "color": "white"
             }
            },
            "type": "table"
           }
          ]
         },
         "layout": {
          "annotationdefaults": {
           "arrowcolor": "#2a3f5f",
           "arrowhead": 0,
           "arrowwidth": 1
          },
          "coloraxis": {
           "colorbar": {
            "outlinewidth": 0,
            "ticks": ""
           }
          },
          "colorscale": {
           "diverging": [
            [
             0,
             "#8e0152"
            ],
            [
             0.1,
             "#c51b7d"
            ],
            [
             0.2,
             "#de77ae"
            ],
            [
             0.3,
             "#f1b6da"
            ],
            [
             0.4,
             "#fde0ef"
            ],
            [
             0.5,
             "#f7f7f7"
            ],
            [
             0.6,
             "#e6f5d0"
            ],
            [
             0.7,
             "#b8e186"
            ],
            [
             0.8,
             "#7fbc41"
            ],
            [
             0.9,
             "#4d9221"
            ],
            [
             1,
             "#276419"
            ]
           ],
           "sequential": [
            [
             0,
             "#0d0887"
            ],
            [
             0.1111111111111111,
             "#46039f"
            ],
            [
             0.2222222222222222,
             "#7201a8"
            ],
            [
             0.3333333333333333,
             "#9c179e"
            ],
            [
             0.4444444444444444,
             "#bd3786"
            ],
            [
             0.5555555555555556,
             "#d8576b"
            ],
            [
             0.6666666666666666,
             "#ed7953"
            ],
            [
             0.7777777777777778,
             "#fb9f3a"
            ],
            [
             0.8888888888888888,
             "#fdca26"
            ],
            [
             1,
             "#f0f921"
            ]
           ],
           "sequentialminus": [
            [
             0,
             "#0d0887"
            ],
            [
             0.1111111111111111,
             "#46039f"
            ],
            [
             0.2222222222222222,
             "#7201a8"
            ],
            [
             0.3333333333333333,
             "#9c179e"
            ],
            [
             0.4444444444444444,
             "#bd3786"
            ],
            [
             0.5555555555555556,
             "#d8576b"
            ],
            [
             0.6666666666666666,
             "#ed7953"
            ],
            [
             0.7777777777777778,
             "#fb9f3a"
            ],
            [
             0.8888888888888888,
             "#fdca26"
            ],
            [
             1,
             "#f0f921"
            ]
           ]
          },
          "colorway": [
           "#636efa",
           "#EF553B",
           "#00cc96",
           "#ab63fa",
           "#FFA15A",
           "#19d3f3",
           "#FF6692",
           "#B6E880",
           "#FF97FF",
           "#FECB52"
          ],
          "font": {
           "color": "#2a3f5f"
          },
          "geo": {
           "bgcolor": "white",
           "lakecolor": "white",
           "landcolor": "#E5ECF6",
           "showlakes": true,
           "showland": true,
           "subunitcolor": "white"
          },
          "hoverlabel": {
           "align": "left"
          },
          "hovermode": "closest",
          "mapbox": {
           "style": "light"
          },
          "paper_bgcolor": "white",
          "plot_bgcolor": "#E5ECF6",
          "polar": {
           "angularaxis": {
            "gridcolor": "white",
            "linecolor": "white",
            "ticks": ""
           },
           "bgcolor": "#E5ECF6",
           "radialaxis": {
            "gridcolor": "white",
            "linecolor": "white",
            "ticks": ""
           }
          },
          "scene": {
           "xaxis": {
            "backgroundcolor": "#E5ECF6",
            "gridcolor": "white",
            "gridwidth": 2,
            "linecolor": "white",
            "showbackground": true,
            "ticks": "",
            "zerolinecolor": "white"
           },
           "yaxis": {
            "backgroundcolor": "#E5ECF6",
            "gridcolor": "white",
            "gridwidth": 2,
            "linecolor": "white",
            "showbackground": true,
            "ticks": "",
            "zerolinecolor": "white"
           },
           "zaxis": {
            "backgroundcolor": "#E5ECF6",
            "gridcolor": "white",
            "gridwidth": 2,
            "linecolor": "white",
            "showbackground": true,
            "ticks": "",
            "zerolinecolor": "white"
           }
          },
          "shapedefaults": {
           "line": {
            "color": "#2a3f5f"
           }
          },
          "ternary": {
           "aaxis": {
            "gridcolor": "white",
            "linecolor": "white",
            "ticks": ""
           },
           "baxis": {
            "gridcolor": "white",
            "linecolor": "white",
            "ticks": ""
           },
           "bgcolor": "#E5ECF6",
           "caxis": {
            "gridcolor": "white",
            "linecolor": "white",
            "ticks": ""
           }
          },
          "title": {
           "x": 0.05
          },
          "xaxis": {
           "automargin": true,
           "gridcolor": "white",
           "linecolor": "white",
           "ticks": "",
           "title": {
            "standoff": 15
           },
           "zerolinecolor": "white",
           "zerolinewidth": 2
          },
          "yaxis": {
           "automargin": true,
           "gridcolor": "white",
           "linecolor": "white",
           "ticks": "",
           "title": {
            "standoff": 15
           },
           "zerolinecolor": "white",
           "zerolinewidth": 2
          }
         }
        },
        "title": {
         "text": "계절에 따른 2005년-2020년 민원 수",
         "x": 0.5,
         "xanchor": "center",
         "y": 0.86,
         "yanchor": "top"
        }
       }
      },
      "text/html": [
       "<div>\n",
       "        \n",
       "        \n",
       "            <div id=\"722b3de4-1bde-4f39-9cb9-0b9001600103\" class=\"plotly-graph-div\" style=\"height:525px; width:100%;\"></div>\n",
       "            <script type=\"text/javascript\">\n",
       "                require([\"plotly\"], function(Plotly) {\n",
       "                    window.PLOTLYENV=window.PLOTLYENV || {};\n",
       "                    \n",
       "                if (document.getElementById(\"722b3de4-1bde-4f39-9cb9-0b9001600103\")) {\n",
       "                    Plotly.newPlot(\n",
       "                        '722b3de4-1bde-4f39-9cb9-0b9001600103',\n",
       "                        [{\"text\": [\"12.9M\", \"15.2M\", \"14.4M\", \"11.3M\"], \"textposition\": \"auto\", \"type\": \"bar\", \"x\": [\"\\ubd04\", \"\\uc5ec\\ub984\", \"\\uac00\\uc744\", \"\\uaca8\\uc6b8\"], \"y\": [12918113, 15278211, 14447979, 11340395]}],\n",
       "                        {\"template\": {\"data\": {\"bar\": [{\"error_x\": {\"color\": \"#2a3f5f\"}, \"error_y\": {\"color\": \"#2a3f5f\"}, \"marker\": {\"line\": {\"color\": \"#E5ECF6\", \"width\": 0.5}}, \"type\": \"bar\"}], \"barpolar\": [{\"marker\": {\"line\": {\"color\": \"#E5ECF6\", \"width\": 0.5}}, \"type\": \"barpolar\"}], \"carpet\": [{\"aaxis\": {\"endlinecolor\": \"#2a3f5f\", \"gridcolor\": \"white\", \"linecolor\": \"white\", \"minorgridcolor\": \"white\", \"startlinecolor\": \"#2a3f5f\"}, \"baxis\": {\"endlinecolor\": \"#2a3f5f\", \"gridcolor\": \"white\", \"linecolor\": \"white\", \"minorgridcolor\": \"white\", \"startlinecolor\": \"#2a3f5f\"}, \"type\": \"carpet\"}], \"choropleth\": [{\"colorbar\": {\"outlinewidth\": 0, \"ticks\": \"\"}, \"type\": \"choropleth\"}], \"contour\": [{\"colorbar\": {\"outlinewidth\": 0, \"ticks\": \"\"}, \"colorscale\": [[0.0, \"#0d0887\"], [0.1111111111111111, \"#46039f\"], [0.2222222222222222, \"#7201a8\"], [0.3333333333333333, \"#9c179e\"], [0.4444444444444444, \"#bd3786\"], [0.5555555555555556, \"#d8576b\"], [0.6666666666666666, \"#ed7953\"], [0.7777777777777778, \"#fb9f3a\"], [0.8888888888888888, \"#fdca26\"], [1.0, \"#f0f921\"]], \"type\": \"contour\"}], \"contourcarpet\": [{\"colorbar\": {\"outlinewidth\": 0, \"ticks\": \"\"}, \"type\": \"contourcarpet\"}], \"heatmap\": [{\"colorbar\": {\"outlinewidth\": 0, \"ticks\": \"\"}, \"colorscale\": [[0.0, \"#0d0887\"], [0.1111111111111111, \"#46039f\"], [0.2222222222222222, \"#7201a8\"], [0.3333333333333333, \"#9c179e\"], [0.4444444444444444, \"#bd3786\"], [0.5555555555555556, \"#d8576b\"], [0.6666666666666666, \"#ed7953\"], [0.7777777777777778, \"#fb9f3a\"], [0.8888888888888888, \"#fdca26\"], [1.0, \"#f0f921\"]], \"type\": \"heatmap\"}], \"heatmapgl\": [{\"colorbar\": {\"outlinewidth\": 0, \"ticks\": \"\"}, \"colorscale\": [[0.0, \"#0d0887\"], [0.1111111111111111, \"#46039f\"], [0.2222222222222222, \"#7201a8\"], [0.3333333333333333, \"#9c179e\"], [0.4444444444444444, \"#bd3786\"], [0.5555555555555556, \"#d8576b\"], [0.6666666666666666, \"#ed7953\"], [0.7777777777777778, \"#fb9f3a\"], [0.8888888888888888, \"#fdca26\"], [1.0, \"#f0f921\"]], \"type\": \"heatmapgl\"}], \"histogram\": [{\"marker\": {\"colorbar\": {\"outlinewidth\": 0, \"ticks\": \"\"}}, \"type\": \"histogram\"}], \"histogram2d\": [{\"colorbar\": {\"outlinewidth\": 0, \"ticks\": \"\"}, \"colorscale\": [[0.0, \"#0d0887\"], [0.1111111111111111, \"#46039f\"], [0.2222222222222222, \"#7201a8\"], [0.3333333333333333, \"#9c179e\"], [0.4444444444444444, \"#bd3786\"], [0.5555555555555556, \"#d8576b\"], [0.6666666666666666, \"#ed7953\"], [0.7777777777777778, \"#fb9f3a\"], [0.8888888888888888, \"#fdca26\"], [1.0, \"#f0f921\"]], \"type\": \"histogram2d\"}], \"histogram2dcontour\": [{\"colorbar\": {\"outlinewidth\": 0, \"ticks\": \"\"}, \"colorscale\": [[0.0, \"#0d0887\"], [0.1111111111111111, \"#46039f\"], [0.2222222222222222, \"#7201a8\"], [0.3333333333333333, \"#9c179e\"], [0.4444444444444444, \"#bd3786\"], [0.5555555555555556, \"#d8576b\"], [0.6666666666666666, \"#ed7953\"], [0.7777777777777778, \"#fb9f3a\"], [0.8888888888888888, \"#fdca26\"], [1.0, \"#f0f921\"]], \"type\": \"histogram2dcontour\"}], \"mesh3d\": [{\"colorbar\": {\"outlinewidth\": 0, \"ticks\": \"\"}, \"type\": \"mesh3d\"}], \"parcoords\": [{\"line\": {\"colorbar\": {\"outlinewidth\": 0, \"ticks\": \"\"}}, \"type\": \"parcoords\"}], \"pie\": [{\"automargin\": true, \"type\": \"pie\"}], \"scatter\": [{\"marker\": {\"colorbar\": {\"outlinewidth\": 0, \"ticks\": \"\"}}, \"type\": \"scatter\"}], \"scatter3d\": [{\"line\": {\"colorbar\": {\"outlinewidth\": 0, \"ticks\": \"\"}}, \"marker\": {\"colorbar\": {\"outlinewidth\": 0, \"ticks\": \"\"}}, \"type\": \"scatter3d\"}], \"scattercarpet\": [{\"marker\": {\"colorbar\": {\"outlinewidth\": 0, \"ticks\": \"\"}}, \"type\": \"scattercarpet\"}], \"scattergeo\": [{\"marker\": {\"colorbar\": {\"outlinewidth\": 0, \"ticks\": \"\"}}, \"type\": \"scattergeo\"}], \"scattergl\": [{\"marker\": {\"colorbar\": {\"outlinewidth\": 0, \"ticks\": \"\"}}, \"type\": \"scattergl\"}], \"scattermapbox\": [{\"marker\": {\"colorbar\": {\"outlinewidth\": 0, \"ticks\": \"\"}}, \"type\": \"scattermapbox\"}], \"scatterpolar\": [{\"marker\": {\"colorbar\": {\"outlinewidth\": 0, \"ticks\": \"\"}}, \"type\": \"scatterpolar\"}], \"scatterpolargl\": [{\"marker\": {\"colorbar\": {\"outlinewidth\": 0, \"ticks\": \"\"}}, \"type\": \"scatterpolargl\"}], \"scatterternary\": [{\"marker\": {\"colorbar\": {\"outlinewidth\": 0, \"ticks\": \"\"}}, \"type\": \"scatterternary\"}], \"surface\": [{\"colorbar\": {\"outlinewidth\": 0, \"ticks\": \"\"}, \"colorscale\": [[0.0, \"#0d0887\"], [0.1111111111111111, \"#46039f\"], [0.2222222222222222, \"#7201a8\"], [0.3333333333333333, \"#9c179e\"], [0.4444444444444444, \"#bd3786\"], [0.5555555555555556, \"#d8576b\"], [0.6666666666666666, \"#ed7953\"], [0.7777777777777778, \"#fb9f3a\"], [0.8888888888888888, \"#fdca26\"], [1.0, \"#f0f921\"]], \"type\": \"surface\"}], \"table\": [{\"cells\": {\"fill\": {\"color\": \"#EBF0F8\"}, \"line\": {\"color\": \"white\"}}, \"header\": {\"fill\": {\"color\": \"#C8D4E3\"}, \"line\": {\"color\": \"white\"}}, \"type\": \"table\"}]}, \"layout\": {\"annotationdefaults\": {\"arrowcolor\": \"#2a3f5f\", \"arrowhead\": 0, \"arrowwidth\": 1}, \"coloraxis\": {\"colorbar\": {\"outlinewidth\": 0, \"ticks\": \"\"}}, \"colorscale\": {\"diverging\": [[0, \"#8e0152\"], [0.1, \"#c51b7d\"], [0.2, \"#de77ae\"], [0.3, \"#f1b6da\"], [0.4, \"#fde0ef\"], [0.5, \"#f7f7f7\"], [0.6, \"#e6f5d0\"], [0.7, \"#b8e186\"], [0.8, \"#7fbc41\"], [0.9, \"#4d9221\"], [1, \"#276419\"]], \"sequential\": [[0.0, \"#0d0887\"], [0.1111111111111111, \"#46039f\"], [0.2222222222222222, \"#7201a8\"], [0.3333333333333333, \"#9c179e\"], [0.4444444444444444, \"#bd3786\"], [0.5555555555555556, \"#d8576b\"], [0.6666666666666666, \"#ed7953\"], [0.7777777777777778, \"#fb9f3a\"], [0.8888888888888888, \"#fdca26\"], [1.0, \"#f0f921\"]], \"sequentialminus\": [[0.0, \"#0d0887\"], [0.1111111111111111, \"#46039f\"], [0.2222222222222222, \"#7201a8\"], [0.3333333333333333, \"#9c179e\"], [0.4444444444444444, \"#bd3786\"], [0.5555555555555556, \"#d8576b\"], [0.6666666666666666, \"#ed7953\"], [0.7777777777777778, \"#fb9f3a\"], [0.8888888888888888, \"#fdca26\"], [1.0, \"#f0f921\"]]}, \"colorway\": [\"#636efa\", \"#EF553B\", \"#00cc96\", \"#ab63fa\", \"#FFA15A\", \"#19d3f3\", \"#FF6692\", \"#B6E880\", \"#FF97FF\", \"#FECB52\"], \"font\": {\"color\": \"#2a3f5f\"}, \"geo\": {\"bgcolor\": \"white\", \"lakecolor\": \"white\", \"landcolor\": \"#E5ECF6\", \"showlakes\": true, \"showland\": true, \"subunitcolor\": \"white\"}, \"hoverlabel\": {\"align\": \"left\"}, \"hovermode\": \"closest\", \"mapbox\": {\"style\": \"light\"}, \"paper_bgcolor\": \"white\", \"plot_bgcolor\": \"#E5ECF6\", \"polar\": {\"angularaxis\": {\"gridcolor\": \"white\", \"linecolor\": \"white\", \"ticks\": \"\"}, \"bgcolor\": \"#E5ECF6\", \"radialaxis\": {\"gridcolor\": \"white\", \"linecolor\": \"white\", \"ticks\": \"\"}}, \"scene\": {\"xaxis\": {\"backgroundcolor\": \"#E5ECF6\", \"gridcolor\": \"white\", \"gridwidth\": 2, \"linecolor\": \"white\", \"showbackground\": true, \"ticks\": \"\", \"zerolinecolor\": \"white\"}, \"yaxis\": {\"backgroundcolor\": \"#E5ECF6\", \"gridcolor\": \"white\", \"gridwidth\": 2, \"linecolor\": \"white\", \"showbackground\": true, \"ticks\": \"\", \"zerolinecolor\": \"white\"}, \"zaxis\": {\"backgroundcolor\": \"#E5ECF6\", \"gridcolor\": \"white\", \"gridwidth\": 2, \"linecolor\": \"white\", \"showbackground\": true, \"ticks\": \"\", \"zerolinecolor\": \"white\"}}, \"shapedefaults\": {\"line\": {\"color\": \"#2a3f5f\"}}, \"ternary\": {\"aaxis\": {\"gridcolor\": \"white\", \"linecolor\": \"white\", \"ticks\": \"\"}, \"baxis\": {\"gridcolor\": \"white\", \"linecolor\": \"white\", \"ticks\": \"\"}, \"bgcolor\": \"#E5ECF6\", \"caxis\": {\"gridcolor\": \"white\", \"linecolor\": \"white\", \"ticks\": \"\"}}, \"title\": {\"x\": 0.05}, \"xaxis\": {\"automargin\": true, \"gridcolor\": \"white\", \"linecolor\": \"white\", \"ticks\": \"\", \"title\": {\"standoff\": 15}, \"zerolinecolor\": \"white\", \"zerolinewidth\": 2}, \"yaxis\": {\"automargin\": true, \"gridcolor\": \"white\", \"linecolor\": \"white\", \"ticks\": \"\", \"title\": {\"standoff\": 15}, \"zerolinecolor\": \"white\", \"zerolinewidth\": 2}}}, \"title\": {\"text\": \"\\uacc4\\uc808\\uc5d0 \\ub530\\ub978 2005\\ub144-2020\\ub144 \\ubbfc\\uc6d0 \\uc218\", \"x\": 0.5, \"xanchor\": \"center\", \"y\": 0.86, \"yanchor\": \"top\"}},\n",
       "                        {\"responsive\": true}\n",
       "                    ).then(function(){\n",
       "                            \n",
       "var gd = document.getElementById('722b3de4-1bde-4f39-9cb9-0b9001600103');\n",
       "var x = new MutationObserver(function (mutations, observer) {{\n",
       "        var display = window.getComputedStyle(gd).display;\n",
       "        if (!display || display === 'none') {{\n",
       "            console.log([gd, 'removed!']);\n",
       "            Plotly.purge(gd);\n",
       "            observer.disconnect();\n",
       "        }}\n",
       "}});\n",
       "\n",
       "// Listen for the removal of the full notebook cells\n",
       "var notebookContainer = gd.closest('#notebook-container');\n",
       "if (notebookContainer) {{\n",
       "    x.observe(notebookContainer, {childList: true});\n",
       "}}\n",
       "\n",
       "// Listen for the clearing of the current output cell\n",
       "var outputEl = gd.closest('.output');\n",
       "if (outputEl) {{\n",
       "    x.observe(outputEl, {childList: true});\n",
       "}}\n",
       "\n",
       "                        })\n",
       "                };\n",
       "                });\n",
       "            </script>\n",
       "        </div>"
      ]
     },
     "metadata": {},
     "output_type": "display_data"
    }
   ],
   "source": [
    "x = list(season_dict.keys())\n",
    "y = list(season_dict.values())\n",
    "text = ['12.9M', '15.2M', '14.4M', '11.3M']\n",
    "\n",
    "# Use textposition='auto' for direct text\n",
    "fig = go.Figure(data=[go.Bar(\n",
    "            x=x, y=y,\n",
    "            text=text,\n",
    "            textposition='auto',\n",
    "        )])\n",
    "fig.update_layout(title={'text': '계절에 따른 2005년-2020년 민원 수', 'y':0.86, 'x':0.5, 'xanchor': 'center', 'yanchor': 'top'})\n",
    "fig.show()"
   ]
  },
  {
   "cell_type": "markdown",
   "metadata": {},
   "source": [
    "### 2.2. 시간대에 따른 민원 건 수"
   ]
  },
  {
   "cell_type": "code",
   "execution_count": 98,
   "metadata": {},
   "outputs": [],
   "source": [
    "time_dict = {}"
   ]
  },
  {
   "cell_type": "code",
   "execution_count": 99,
   "metadata": {},
   "outputs": [],
   "source": [
    "# 아침 \n",
    "morning = 0\n",
    "for month in range(1,13):\n",
    "    for date in range(1,32):\n",
    "        month = str(month).zfill(2)\n",
    "        date = str(date).zfill(2)\n",
    "        day = month + date\n",
    "        try:\n",
    "            startdate = '2020{}060000'.format(day)\n",
    "            enddate = '2020{}115959'.format(day)\n",
    "\n",
    "            url = \"http://apis.data.go.kr/1140100/minAnalsInfoView2/minStaticsInfo2?serviceKey={}&target=pttn,dfpt,saeol,prpl,twitter,qna,qna_origin&dateFrom={}&dateTo={}&topN=10000&period=DAILY&sortBy=NAME&sortOrder=false\".format(KEY, startdate, enddate)\n",
    "            result = requests.get(url) \n",
    "\n",
    "            morning += int(ast.literal_eval(result.text)[0]['hits'])\n",
    "            \n",
    "        except:\n",
    "            pass\n",
    "        \n",
    "time_dict['morning'] = morning"
   ]
  },
  {
   "cell_type": "code",
   "execution_count": 100,
   "metadata": {},
   "outputs": [],
   "source": [
    "# 점심\n",
    "noon = 0\n",
    "for month in range(1,13):\n",
    "    for date in range(1,32):\n",
    "        month = str(month).zfill(2)\n",
    "        date = str(date).zfill(2)\n",
    "        day = month + date\n",
    "        try:\n",
    "            startdate = '2020{}120000'.format(day)\n",
    "            enddate = '2020{}175959'.format(day)\n",
    "\n",
    "            url = \"http://apis.data.go.kr/1140100/minAnalsInfoView2/minStaticsInfo2?serviceKey={}&target=pttn,dfpt,saeol,prpl,twitter,qna,qna_origin&dateFrom={}&dateTo={}&topN=10000&period=DAILY&sortBy=NAME&sortOrder=false\".format(KEY, startdate, enddate)\n",
    "            result = requests.get(url) \n",
    "\n",
    "            noon += int(ast.literal_eval(result.text)[0]['hits'])\n",
    "            \n",
    "        except:\n",
    "            pass\n",
    "        \n",
    "time_dict['noon'] = noon"
   ]
  },
  {
   "cell_type": "code",
   "execution_count": 101,
   "metadata": {},
   "outputs": [],
   "source": [
    "# 저녁\n",
    "evening = 0\n",
    "for month in range(1,13):\n",
    "    for date in range(1,32):\n",
    "        month = str(month).zfill(2)\n",
    "        date = str(date).zfill(2)\n",
    "        day = month + date\n",
    "        try:\n",
    "            startdate = '2020{}180000'.format(day)\n",
    "            enddate = '2020{}235959'.format(day)\n",
    "\n",
    "            url = \"http://apis.data.go.kr/1140100/minAnalsInfoView2/minStaticsInfo2?serviceKey={}&target=pttn,dfpt,saeol,prpl,twitter,qna,qna_origin&dateFrom={}&dateTo={}&topN=10000&period=DAILY&sortBy=NAME&sortOrder=false\".format(KEY, startdate, enddate)\n",
    "            result = requests.get(url) \n",
    "\n",
    "            noon += int(ast.literal_eval(result.text)[0]['hits'])\n",
    "            \n",
    "        except:\n",
    "            pass\n",
    "        \n",
    "time_dict['evening'] = evening"
   ]
  },
  {
   "cell_type": "code",
   "execution_count": 102,
   "metadata": {},
   "outputs": [
    {
     "data": {
      "text/plain": [
       "{'morning': 3419266, 'noon': 4819010, 'evening': 0}"
      ]
     },
     "execution_count": 102,
     "metadata": {},
     "output_type": "execute_result"
    }
   ],
   "source": [
    "time_dict"
   ]
  },
  {
   "cell_type": "code",
   "execution_count": 57,
   "metadata": {},
   "outputs": [],
   "source": [
    "time_dict = {'아침 (06시-12시)': 3419266, '점심 (12시-18시)': 4819010, '저녁 (18시-24시)': 0}"
   ]
  },
  {
   "cell_type": "code",
   "execution_count": 58,
   "metadata": {},
   "outputs": [
    {
     "data": {
      "application/vnd.plotly.v1+json": {
       "config": {
        "plotlyServerURL": "https://plot.ly"
       },
       "data": [
        {
         "text": [
          "3.4M",
          "4.8M",
          "0"
         ],
         "textposition": "auto",
         "type": "bar",
         "x": [
          "아침 (06시-12시)",
          "점심 (12시-18시)",
          "저녁 (18시-24시)"
         ],
         "y": [
          3419266,
          4819010,
          0
         ]
        }
       ],
       "layout": {
        "template": {
         "data": {
          "bar": [
           {
            "error_x": {
             "color": "#2a3f5f"
            },
            "error_y": {
             "color": "#2a3f5f"
            },
            "marker": {
             "line": {
              "color": "#E5ECF6",
              "width": 0.5
             }
            },
            "type": "bar"
           }
          ],
          "barpolar": [
           {
            "marker": {
             "line": {
              "color": "#E5ECF6",
              "width": 0.5
             }
            },
            "type": "barpolar"
           }
          ],
          "carpet": [
           {
            "aaxis": {
             "endlinecolor": "#2a3f5f",
             "gridcolor": "white",
             "linecolor": "white",
             "minorgridcolor": "white",
             "startlinecolor": "#2a3f5f"
            },
            "baxis": {
             "endlinecolor": "#2a3f5f",
             "gridcolor": "white",
             "linecolor": "white",
             "minorgridcolor": "white",
             "startlinecolor": "#2a3f5f"
            },
            "type": "carpet"
           }
          ],
          "choropleth": [
           {
            "colorbar": {
             "outlinewidth": 0,
             "ticks": ""
            },
            "type": "choropleth"
           }
          ],
          "contour": [
           {
            "colorbar": {
             "outlinewidth": 0,
             "ticks": ""
            },
            "colorscale": [
             [
              0,
              "#0d0887"
             ],
             [
              0.1111111111111111,
              "#46039f"
             ],
             [
              0.2222222222222222,
              "#7201a8"
             ],
             [
              0.3333333333333333,
              "#9c179e"
             ],
             [
              0.4444444444444444,
              "#bd3786"
             ],
             [
              0.5555555555555556,
              "#d8576b"
             ],
             [
              0.6666666666666666,
              "#ed7953"
             ],
             [
              0.7777777777777778,
              "#fb9f3a"
             ],
             [
              0.8888888888888888,
              "#fdca26"
             ],
             [
              1,
              "#f0f921"
             ]
            ],
            "type": "contour"
           }
          ],
          "contourcarpet": [
           {
            "colorbar": {
             "outlinewidth": 0,
             "ticks": ""
            },
            "type": "contourcarpet"
           }
          ],
          "heatmap": [
           {
            "colorbar": {
             "outlinewidth": 0,
             "ticks": ""
            },
            "colorscale": [
             [
              0,
              "#0d0887"
             ],
             [
              0.1111111111111111,
              "#46039f"
             ],
             [
              0.2222222222222222,
              "#7201a8"
             ],
             [
              0.3333333333333333,
              "#9c179e"
             ],
             [
              0.4444444444444444,
              "#bd3786"
             ],
             [
              0.5555555555555556,
              "#d8576b"
             ],
             [
              0.6666666666666666,
              "#ed7953"
             ],
             [
              0.7777777777777778,
              "#fb9f3a"
             ],
             [
              0.8888888888888888,
              "#fdca26"
             ],
             [
              1,
              "#f0f921"
             ]
            ],
            "type": "heatmap"
           }
          ],
          "heatmapgl": [
           {
            "colorbar": {
             "outlinewidth": 0,
             "ticks": ""
            },
            "colorscale": [
             [
              0,
              "#0d0887"
             ],
             [
              0.1111111111111111,
              "#46039f"
             ],
             [
              0.2222222222222222,
              "#7201a8"
             ],
             [
              0.3333333333333333,
              "#9c179e"
             ],
             [
              0.4444444444444444,
              "#bd3786"
             ],
             [
              0.5555555555555556,
              "#d8576b"
             ],
             [
              0.6666666666666666,
              "#ed7953"
             ],
             [
              0.7777777777777778,
              "#fb9f3a"
             ],
             [
              0.8888888888888888,
              "#fdca26"
             ],
             [
              1,
              "#f0f921"
             ]
            ],
            "type": "heatmapgl"
           }
          ],
          "histogram": [
           {
            "marker": {
             "colorbar": {
              "outlinewidth": 0,
              "ticks": ""
             }
            },
            "type": "histogram"
           }
          ],
          "histogram2d": [
           {
            "colorbar": {
             "outlinewidth": 0,
             "ticks": ""
            },
            "colorscale": [
             [
              0,
              "#0d0887"
             ],
             [
              0.1111111111111111,
              "#46039f"
             ],
             [
              0.2222222222222222,
              "#7201a8"
             ],
             [
              0.3333333333333333,
              "#9c179e"
             ],
             [
              0.4444444444444444,
              "#bd3786"
             ],
             [
              0.5555555555555556,
              "#d8576b"
             ],
             [
              0.6666666666666666,
              "#ed7953"
             ],
             [
              0.7777777777777778,
              "#fb9f3a"
             ],
             [
              0.8888888888888888,
              "#fdca26"
             ],
             [
              1,
              "#f0f921"
             ]
            ],
            "type": "histogram2d"
           }
          ],
          "histogram2dcontour": [
           {
            "colorbar": {
             "outlinewidth": 0,
             "ticks": ""
            },
            "colorscale": [
             [
              0,
              "#0d0887"
             ],
             [
              0.1111111111111111,
              "#46039f"
             ],
             [
              0.2222222222222222,
              "#7201a8"
             ],
             [
              0.3333333333333333,
              "#9c179e"
             ],
             [
              0.4444444444444444,
              "#bd3786"
             ],
             [
              0.5555555555555556,
              "#d8576b"
             ],
             [
              0.6666666666666666,
              "#ed7953"
             ],
             [
              0.7777777777777778,
              "#fb9f3a"
             ],
             [
              0.8888888888888888,
              "#fdca26"
             ],
             [
              1,
              "#f0f921"
             ]
            ],
            "type": "histogram2dcontour"
           }
          ],
          "mesh3d": [
           {
            "colorbar": {
             "outlinewidth": 0,
             "ticks": ""
            },
            "type": "mesh3d"
           }
          ],
          "parcoords": [
           {
            "line": {
             "colorbar": {
              "outlinewidth": 0,
              "ticks": ""
             }
            },
            "type": "parcoords"
           }
          ],
          "pie": [
           {
            "automargin": true,
            "type": "pie"
           }
          ],
          "scatter": [
           {
            "marker": {
             "colorbar": {
              "outlinewidth": 0,
              "ticks": ""
             }
            },
            "type": "scatter"
           }
          ],
          "scatter3d": [
           {
            "line": {
             "colorbar": {
              "outlinewidth": 0,
              "ticks": ""
             }
            },
            "marker": {
             "colorbar": {
              "outlinewidth": 0,
              "ticks": ""
             }
            },
            "type": "scatter3d"
           }
          ],
          "scattercarpet": [
           {
            "marker": {
             "colorbar": {
              "outlinewidth": 0,
              "ticks": ""
             }
            },
            "type": "scattercarpet"
           }
          ],
          "scattergeo": [
           {
            "marker": {
             "colorbar": {
              "outlinewidth": 0,
              "ticks": ""
             }
            },
            "type": "scattergeo"
           }
          ],
          "scattergl": [
           {
            "marker": {
             "colorbar": {
              "outlinewidth": 0,
              "ticks": ""
             }
            },
            "type": "scattergl"
           }
          ],
          "scattermapbox": [
           {
            "marker": {
             "colorbar": {
              "outlinewidth": 0,
              "ticks": ""
             }
            },
            "type": "scattermapbox"
           }
          ],
          "scatterpolar": [
           {
            "marker": {
             "colorbar": {
              "outlinewidth": 0,
              "ticks": ""
             }
            },
            "type": "scatterpolar"
           }
          ],
          "scatterpolargl": [
           {
            "marker": {
             "colorbar": {
              "outlinewidth": 0,
              "ticks": ""
             }
            },
            "type": "scatterpolargl"
           }
          ],
          "scatterternary": [
           {
            "marker": {
             "colorbar": {
              "outlinewidth": 0,
              "ticks": ""
             }
            },
            "type": "scatterternary"
           }
          ],
          "surface": [
           {
            "colorbar": {
             "outlinewidth": 0,
             "ticks": ""
            },
            "colorscale": [
             [
              0,
              "#0d0887"
             ],
             [
              0.1111111111111111,
              "#46039f"
             ],
             [
              0.2222222222222222,
              "#7201a8"
             ],
             [
              0.3333333333333333,
              "#9c179e"
             ],
             [
              0.4444444444444444,
              "#bd3786"
             ],
             [
              0.5555555555555556,
              "#d8576b"
             ],
             [
              0.6666666666666666,
              "#ed7953"
             ],
             [
              0.7777777777777778,
              "#fb9f3a"
             ],
             [
              0.8888888888888888,
              "#fdca26"
             ],
             [
              1,
              "#f0f921"
             ]
            ],
            "type": "surface"
           }
          ],
          "table": [
           {
            "cells": {
             "fill": {
              "color": "#EBF0F8"
             },
             "line": {
              "color": "white"
             }
            },
            "header": {
             "fill": {
              "color": "#C8D4E3"
             },
             "line": {
              "color": "white"
             }
            },
            "type": "table"
           }
          ]
         },
         "layout": {
          "annotationdefaults": {
           "arrowcolor": "#2a3f5f",
           "arrowhead": 0,
           "arrowwidth": 1
          },
          "coloraxis": {
           "colorbar": {
            "outlinewidth": 0,
            "ticks": ""
           }
          },
          "colorscale": {
           "diverging": [
            [
             0,
             "#8e0152"
            ],
            [
             0.1,
             "#c51b7d"
            ],
            [
             0.2,
             "#de77ae"
            ],
            [
             0.3,
             "#f1b6da"
            ],
            [
             0.4,
             "#fde0ef"
            ],
            [
             0.5,
             "#f7f7f7"
            ],
            [
             0.6,
             "#e6f5d0"
            ],
            [
             0.7,
             "#b8e186"
            ],
            [
             0.8,
             "#7fbc41"
            ],
            [
             0.9,
             "#4d9221"
            ],
            [
             1,
             "#276419"
            ]
           ],
           "sequential": [
            [
             0,
             "#0d0887"
            ],
            [
             0.1111111111111111,
             "#46039f"
            ],
            [
             0.2222222222222222,
             "#7201a8"
            ],
            [
             0.3333333333333333,
             "#9c179e"
            ],
            [
             0.4444444444444444,
             "#bd3786"
            ],
            [
             0.5555555555555556,
             "#d8576b"
            ],
            [
             0.6666666666666666,
             "#ed7953"
            ],
            [
             0.7777777777777778,
             "#fb9f3a"
            ],
            [
             0.8888888888888888,
             "#fdca26"
            ],
            [
             1,
             "#f0f921"
            ]
           ],
           "sequentialminus": [
            [
             0,
             "#0d0887"
            ],
            [
             0.1111111111111111,
             "#46039f"
            ],
            [
             0.2222222222222222,
             "#7201a8"
            ],
            [
             0.3333333333333333,
             "#9c179e"
            ],
            [
             0.4444444444444444,
             "#bd3786"
            ],
            [
             0.5555555555555556,
             "#d8576b"
            ],
            [
             0.6666666666666666,
             "#ed7953"
            ],
            [
             0.7777777777777778,
             "#fb9f3a"
            ],
            [
             0.8888888888888888,
             "#fdca26"
            ],
            [
             1,
             "#f0f921"
            ]
           ]
          },
          "colorway": [
           "#636efa",
           "#EF553B",
           "#00cc96",
           "#ab63fa",
           "#FFA15A",
           "#19d3f3",
           "#FF6692",
           "#B6E880",
           "#FF97FF",
           "#FECB52"
          ],
          "font": {
           "color": "#2a3f5f"
          },
          "geo": {
           "bgcolor": "white",
           "lakecolor": "white",
           "landcolor": "#E5ECF6",
           "showlakes": true,
           "showland": true,
           "subunitcolor": "white"
          },
          "hoverlabel": {
           "align": "left"
          },
          "hovermode": "closest",
          "mapbox": {
           "style": "light"
          },
          "paper_bgcolor": "white",
          "plot_bgcolor": "#E5ECF6",
          "polar": {
           "angularaxis": {
            "gridcolor": "white",
            "linecolor": "white",
            "ticks": ""
           },
           "bgcolor": "#E5ECF6",
           "radialaxis": {
            "gridcolor": "white",
            "linecolor": "white",
            "ticks": ""
           }
          },
          "scene": {
           "xaxis": {
            "backgroundcolor": "#E5ECF6",
            "gridcolor": "white",
            "gridwidth": 2,
            "linecolor": "white",
            "showbackground": true,
            "ticks": "",
            "zerolinecolor": "white"
           },
           "yaxis": {
            "backgroundcolor": "#E5ECF6",
            "gridcolor": "white",
            "gridwidth": 2,
            "linecolor": "white",
            "showbackground": true,
            "ticks": "",
            "zerolinecolor": "white"
           },
           "zaxis": {
            "backgroundcolor": "#E5ECF6",
            "gridcolor": "white",
            "gridwidth": 2,
            "linecolor": "white",
            "showbackground": true,
            "ticks": "",
            "zerolinecolor": "white"
           }
          },
          "shapedefaults": {
           "line": {
            "color": "#2a3f5f"
           }
          },
          "ternary": {
           "aaxis": {
            "gridcolor": "white",
            "linecolor": "white",
            "ticks": ""
           },
           "baxis": {
            "gridcolor": "white",
            "linecolor": "white",
            "ticks": ""
           },
           "bgcolor": "#E5ECF6",
           "caxis": {
            "gridcolor": "white",
            "linecolor": "white",
            "ticks": ""
           }
          },
          "title": {
           "x": 0.05
          },
          "xaxis": {
           "automargin": true,
           "gridcolor": "white",
           "linecolor": "white",
           "ticks": "",
           "title": {
            "standoff": 15
           },
           "zerolinecolor": "white",
           "zerolinewidth": 2
          },
          "yaxis": {
           "automargin": true,
           "gridcolor": "white",
           "linecolor": "white",
           "ticks": "",
           "title": {
            "standoff": 15
           },
           "zerolinecolor": "white",
           "zerolinewidth": 2
          }
         }
        },
        "title": {
         "text": "시간대에 따른 2020년 민원 수",
         "x": 0.5,
         "xanchor": "center",
         "y": 0.86,
         "yanchor": "top"
        }
       }
      },
      "text/html": [
       "<div>\n",
       "        \n",
       "        \n",
       "            <div id=\"7260a9e5-42aa-49ef-890a-4f06953f32cf\" class=\"plotly-graph-div\" style=\"height:525px; width:100%;\"></div>\n",
       "            <script type=\"text/javascript\">\n",
       "                require([\"plotly\"], function(Plotly) {\n",
       "                    window.PLOTLYENV=window.PLOTLYENV || {};\n",
       "                    \n",
       "                if (document.getElementById(\"7260a9e5-42aa-49ef-890a-4f06953f32cf\")) {\n",
       "                    Plotly.newPlot(\n",
       "                        '7260a9e5-42aa-49ef-890a-4f06953f32cf',\n",
       "                        [{\"text\": [\"3.4M\", \"4.8M\", \"0\"], \"textposition\": \"auto\", \"type\": \"bar\", \"x\": [\"\\uc544\\uce68 (06\\uc2dc-12\\uc2dc)\", \"\\uc810\\uc2ec (12\\uc2dc-18\\uc2dc)\", \"\\uc800\\ub141 (18\\uc2dc-24\\uc2dc)\"], \"y\": [3419266, 4819010, 0]}],\n",
       "                        {\"template\": {\"data\": {\"bar\": [{\"error_x\": {\"color\": \"#2a3f5f\"}, \"error_y\": {\"color\": \"#2a3f5f\"}, \"marker\": {\"line\": {\"color\": \"#E5ECF6\", \"width\": 0.5}}, \"type\": \"bar\"}], \"barpolar\": [{\"marker\": {\"line\": {\"color\": \"#E5ECF6\", \"width\": 0.5}}, \"type\": \"barpolar\"}], \"carpet\": [{\"aaxis\": {\"endlinecolor\": \"#2a3f5f\", \"gridcolor\": \"white\", \"linecolor\": \"white\", \"minorgridcolor\": \"white\", \"startlinecolor\": \"#2a3f5f\"}, \"baxis\": {\"endlinecolor\": \"#2a3f5f\", \"gridcolor\": \"white\", \"linecolor\": \"white\", \"minorgridcolor\": \"white\", \"startlinecolor\": \"#2a3f5f\"}, \"type\": \"carpet\"}], \"choropleth\": [{\"colorbar\": {\"outlinewidth\": 0, \"ticks\": \"\"}, \"type\": \"choropleth\"}], \"contour\": [{\"colorbar\": {\"outlinewidth\": 0, \"ticks\": \"\"}, \"colorscale\": [[0.0, \"#0d0887\"], [0.1111111111111111, \"#46039f\"], [0.2222222222222222, \"#7201a8\"], [0.3333333333333333, \"#9c179e\"], [0.4444444444444444, \"#bd3786\"], [0.5555555555555556, \"#d8576b\"], [0.6666666666666666, \"#ed7953\"], [0.7777777777777778, \"#fb9f3a\"], [0.8888888888888888, \"#fdca26\"], [1.0, \"#f0f921\"]], \"type\": \"contour\"}], \"contourcarpet\": [{\"colorbar\": {\"outlinewidth\": 0, \"ticks\": \"\"}, \"type\": \"contourcarpet\"}], \"heatmap\": [{\"colorbar\": {\"outlinewidth\": 0, \"ticks\": \"\"}, \"colorscale\": [[0.0, \"#0d0887\"], [0.1111111111111111, \"#46039f\"], [0.2222222222222222, \"#7201a8\"], [0.3333333333333333, \"#9c179e\"], [0.4444444444444444, \"#bd3786\"], [0.5555555555555556, \"#d8576b\"], [0.6666666666666666, \"#ed7953\"], [0.7777777777777778, \"#fb9f3a\"], [0.8888888888888888, \"#fdca26\"], [1.0, \"#f0f921\"]], \"type\": \"heatmap\"}], \"heatmapgl\": [{\"colorbar\": {\"outlinewidth\": 0, \"ticks\": \"\"}, \"colorscale\": [[0.0, \"#0d0887\"], [0.1111111111111111, \"#46039f\"], [0.2222222222222222, \"#7201a8\"], [0.3333333333333333, \"#9c179e\"], [0.4444444444444444, \"#bd3786\"], [0.5555555555555556, \"#d8576b\"], [0.6666666666666666, \"#ed7953\"], [0.7777777777777778, \"#fb9f3a\"], [0.8888888888888888, \"#fdca26\"], [1.0, \"#f0f921\"]], \"type\": \"heatmapgl\"}], \"histogram\": [{\"marker\": {\"colorbar\": {\"outlinewidth\": 0, \"ticks\": \"\"}}, \"type\": \"histogram\"}], \"histogram2d\": [{\"colorbar\": {\"outlinewidth\": 0, \"ticks\": \"\"}, \"colorscale\": [[0.0, \"#0d0887\"], [0.1111111111111111, \"#46039f\"], [0.2222222222222222, \"#7201a8\"], [0.3333333333333333, \"#9c179e\"], [0.4444444444444444, \"#bd3786\"], [0.5555555555555556, \"#d8576b\"], [0.6666666666666666, \"#ed7953\"], [0.7777777777777778, \"#fb9f3a\"], [0.8888888888888888, \"#fdca26\"], [1.0, \"#f0f921\"]], \"type\": \"histogram2d\"}], \"histogram2dcontour\": [{\"colorbar\": {\"outlinewidth\": 0, \"ticks\": \"\"}, \"colorscale\": [[0.0, \"#0d0887\"], [0.1111111111111111, \"#46039f\"], [0.2222222222222222, \"#7201a8\"], [0.3333333333333333, \"#9c179e\"], [0.4444444444444444, \"#bd3786\"], [0.5555555555555556, \"#d8576b\"], [0.6666666666666666, \"#ed7953\"], [0.7777777777777778, \"#fb9f3a\"], [0.8888888888888888, \"#fdca26\"], [1.0, \"#f0f921\"]], \"type\": \"histogram2dcontour\"}], \"mesh3d\": [{\"colorbar\": {\"outlinewidth\": 0, \"ticks\": \"\"}, \"type\": \"mesh3d\"}], \"parcoords\": [{\"line\": {\"colorbar\": {\"outlinewidth\": 0, \"ticks\": \"\"}}, \"type\": \"parcoords\"}], \"pie\": [{\"automargin\": true, \"type\": \"pie\"}], \"scatter\": [{\"marker\": {\"colorbar\": {\"outlinewidth\": 0, \"ticks\": \"\"}}, \"type\": \"scatter\"}], \"scatter3d\": [{\"line\": {\"colorbar\": {\"outlinewidth\": 0, \"ticks\": \"\"}}, \"marker\": {\"colorbar\": {\"outlinewidth\": 0, \"ticks\": \"\"}}, \"type\": \"scatter3d\"}], \"scattercarpet\": [{\"marker\": {\"colorbar\": {\"outlinewidth\": 0, \"ticks\": \"\"}}, \"type\": \"scattercarpet\"}], \"scattergeo\": [{\"marker\": {\"colorbar\": {\"outlinewidth\": 0, \"ticks\": \"\"}}, \"type\": \"scattergeo\"}], \"scattergl\": [{\"marker\": {\"colorbar\": {\"outlinewidth\": 0, \"ticks\": \"\"}}, \"type\": \"scattergl\"}], \"scattermapbox\": [{\"marker\": {\"colorbar\": {\"outlinewidth\": 0, \"ticks\": \"\"}}, \"type\": \"scattermapbox\"}], \"scatterpolar\": [{\"marker\": {\"colorbar\": {\"outlinewidth\": 0, \"ticks\": \"\"}}, \"type\": \"scatterpolar\"}], \"scatterpolargl\": [{\"marker\": {\"colorbar\": {\"outlinewidth\": 0, \"ticks\": \"\"}}, \"type\": \"scatterpolargl\"}], \"scatterternary\": [{\"marker\": {\"colorbar\": {\"outlinewidth\": 0, \"ticks\": \"\"}}, \"type\": \"scatterternary\"}], \"surface\": [{\"colorbar\": {\"outlinewidth\": 0, \"ticks\": \"\"}, \"colorscale\": [[0.0, \"#0d0887\"], [0.1111111111111111, \"#46039f\"], [0.2222222222222222, \"#7201a8\"], [0.3333333333333333, \"#9c179e\"], [0.4444444444444444, \"#bd3786\"], [0.5555555555555556, \"#d8576b\"], [0.6666666666666666, \"#ed7953\"], [0.7777777777777778, \"#fb9f3a\"], [0.8888888888888888, \"#fdca26\"], [1.0, \"#f0f921\"]], \"type\": \"surface\"}], \"table\": [{\"cells\": {\"fill\": {\"color\": \"#EBF0F8\"}, \"line\": {\"color\": \"white\"}}, \"header\": {\"fill\": {\"color\": \"#C8D4E3\"}, \"line\": {\"color\": \"white\"}}, \"type\": \"table\"}]}, \"layout\": {\"annotationdefaults\": {\"arrowcolor\": \"#2a3f5f\", \"arrowhead\": 0, \"arrowwidth\": 1}, \"coloraxis\": {\"colorbar\": {\"outlinewidth\": 0, \"ticks\": \"\"}}, \"colorscale\": {\"diverging\": [[0, \"#8e0152\"], [0.1, \"#c51b7d\"], [0.2, \"#de77ae\"], [0.3, \"#f1b6da\"], [0.4, \"#fde0ef\"], [0.5, \"#f7f7f7\"], [0.6, \"#e6f5d0\"], [0.7, \"#b8e186\"], [0.8, \"#7fbc41\"], [0.9, \"#4d9221\"], [1, \"#276419\"]], \"sequential\": [[0.0, \"#0d0887\"], [0.1111111111111111, \"#46039f\"], [0.2222222222222222, \"#7201a8\"], [0.3333333333333333, \"#9c179e\"], [0.4444444444444444, \"#bd3786\"], [0.5555555555555556, \"#d8576b\"], [0.6666666666666666, \"#ed7953\"], [0.7777777777777778, \"#fb9f3a\"], [0.8888888888888888, \"#fdca26\"], [1.0, \"#f0f921\"]], \"sequentialminus\": [[0.0, \"#0d0887\"], [0.1111111111111111, \"#46039f\"], [0.2222222222222222, \"#7201a8\"], [0.3333333333333333, \"#9c179e\"], [0.4444444444444444, \"#bd3786\"], [0.5555555555555556, \"#d8576b\"], [0.6666666666666666, \"#ed7953\"], [0.7777777777777778, \"#fb9f3a\"], [0.8888888888888888, \"#fdca26\"], [1.0, \"#f0f921\"]]}, \"colorway\": [\"#636efa\", \"#EF553B\", \"#00cc96\", \"#ab63fa\", \"#FFA15A\", \"#19d3f3\", \"#FF6692\", \"#B6E880\", \"#FF97FF\", \"#FECB52\"], \"font\": {\"color\": \"#2a3f5f\"}, \"geo\": {\"bgcolor\": \"white\", \"lakecolor\": \"white\", \"landcolor\": \"#E5ECF6\", \"showlakes\": true, \"showland\": true, \"subunitcolor\": \"white\"}, \"hoverlabel\": {\"align\": \"left\"}, \"hovermode\": \"closest\", \"mapbox\": {\"style\": \"light\"}, \"paper_bgcolor\": \"white\", \"plot_bgcolor\": \"#E5ECF6\", \"polar\": {\"angularaxis\": {\"gridcolor\": \"white\", \"linecolor\": \"white\", \"ticks\": \"\"}, \"bgcolor\": \"#E5ECF6\", \"radialaxis\": {\"gridcolor\": \"white\", \"linecolor\": \"white\", \"ticks\": \"\"}}, \"scene\": {\"xaxis\": {\"backgroundcolor\": \"#E5ECF6\", \"gridcolor\": \"white\", \"gridwidth\": 2, \"linecolor\": \"white\", \"showbackground\": true, \"ticks\": \"\", \"zerolinecolor\": \"white\"}, \"yaxis\": {\"backgroundcolor\": \"#E5ECF6\", \"gridcolor\": \"white\", \"gridwidth\": 2, \"linecolor\": \"white\", \"showbackground\": true, \"ticks\": \"\", \"zerolinecolor\": \"white\"}, \"zaxis\": {\"backgroundcolor\": \"#E5ECF6\", \"gridcolor\": \"white\", \"gridwidth\": 2, \"linecolor\": \"white\", \"showbackground\": true, \"ticks\": \"\", \"zerolinecolor\": \"white\"}}, \"shapedefaults\": {\"line\": {\"color\": \"#2a3f5f\"}}, \"ternary\": {\"aaxis\": {\"gridcolor\": \"white\", \"linecolor\": \"white\", \"ticks\": \"\"}, \"baxis\": {\"gridcolor\": \"white\", \"linecolor\": \"white\", \"ticks\": \"\"}, \"bgcolor\": \"#E5ECF6\", \"caxis\": {\"gridcolor\": \"white\", \"linecolor\": \"white\", \"ticks\": \"\"}}, \"title\": {\"x\": 0.05}, \"xaxis\": {\"automargin\": true, \"gridcolor\": \"white\", \"linecolor\": \"white\", \"ticks\": \"\", \"title\": {\"standoff\": 15}, \"zerolinecolor\": \"white\", \"zerolinewidth\": 2}, \"yaxis\": {\"automargin\": true, \"gridcolor\": \"white\", \"linecolor\": \"white\", \"ticks\": \"\", \"title\": {\"standoff\": 15}, \"zerolinecolor\": \"white\", \"zerolinewidth\": 2}}}, \"title\": {\"text\": \"\\uc2dc\\uac04\\ub300\\uc5d0 \\ub530\\ub978 2020\\ub144 \\ubbfc\\uc6d0 \\uc218\", \"x\": 0.5, \"xanchor\": \"center\", \"y\": 0.86, \"yanchor\": \"top\"}},\n",
       "                        {\"responsive\": true}\n",
       "                    ).then(function(){\n",
       "                            \n",
       "var gd = document.getElementById('7260a9e5-42aa-49ef-890a-4f06953f32cf');\n",
       "var x = new MutationObserver(function (mutations, observer) {{\n",
       "        var display = window.getComputedStyle(gd).display;\n",
       "        if (!display || display === 'none') {{\n",
       "            console.log([gd, 'removed!']);\n",
       "            Plotly.purge(gd);\n",
       "            observer.disconnect();\n",
       "        }}\n",
       "}});\n",
       "\n",
       "// Listen for the removal of the full notebook cells\n",
       "var notebookContainer = gd.closest('#notebook-container');\n",
       "if (notebookContainer) {{\n",
       "    x.observe(notebookContainer, {childList: true});\n",
       "}}\n",
       "\n",
       "// Listen for the clearing of the current output cell\n",
       "var outputEl = gd.closest('.output');\n",
       "if (outputEl) {{\n",
       "    x.observe(outputEl, {childList: true});\n",
       "}}\n",
       "\n",
       "                        })\n",
       "                };\n",
       "                });\n",
       "            </script>\n",
       "        </div>"
      ]
     },
     "metadata": {},
     "output_type": "display_data"
    }
   ],
   "source": [
    "x = list(time_dict.keys())\n",
    "y = list(time_dict.values())\n",
    "text = ['3.4M', '4.8M', '0']\n",
    "\n",
    "# Use textposition='auto' for direct text\n",
    "fig = go.Figure(data=[go.Bar(\n",
    "            x=x, y=y,\n",
    "            text=text,\n",
    "            textposition='auto',\n",
    "        )])\n",
    "fig.update_layout(title={'text': '시간대에 따른 2020년 민원 수', 'y':0.86, 'x':0.5, 'xanchor': 'center', 'yanchor': 'top'})\n",
    "fig.show()"
   ]
  },
  {
   "cell_type": "markdown",
   "metadata": {},
   "source": [
    "### <a id='3'> </a> 3. 무엇을?"
   ]
  },
  {
   "cell_type": "code",
   "execution_count": 37,
   "metadata": {},
   "outputs": [],
   "source": [
    "def to_df(text, year):\n",
    "    df = pd.DataFrame()\n",
    "    labels = []\n",
    "    values = []\n",
    "    for word in ast.literal_eval(result.text):\n",
    "        labels.append(word['label'])\n",
    "        values.append(int(word['value'].split('.')[0]))\n",
    "\n",
    "    df[year + '_word'] = labels\n",
    "    df[year + '_count'] = values\n",
    "    return df"
   ]
  },
  {
   "cell_type": "code",
   "execution_count": 43,
   "metadata": {},
   "outputs": [],
   "source": [
    "# 연도별 민원 키워드\n",
    "df = pd.DataFrame()\n",
    "for year in range(5, 21):\n",
    "    year = '20' + str(year).zfill(2)\n",
    "    startdate = '{}0101'.format(year)\n",
    "    enddate = '{}1231'.format(year)\n",
    "    url = \"http://apis.data.go.kr/1140100/minAnalsInfoView2/minTopNKeyword2?serviceKey={}&target=pttn,dfpt,saeol,prpl,twitter,qna,qna_origin&dateFrom={}&dateTo={}&resultCount=50&searchCount=1000000\".format(KEY, startdate, enddate)\n",
    "\n",
    "    result = requests.get(url) \n",
    "    temp = to_df(result.text, str(year))\n",
    "    df = pd.concat([df, temp], axis=1)"
   ]
  },
  {
   "cell_type": "code",
   "execution_count": 44,
   "metadata": {},
   "outputs": [
    {
     "data": {
      "text/html": [
       "<div>\n",
       "<style scoped>\n",
       "    .dataframe tbody tr th:only-of-type {\n",
       "        vertical-align: middle;\n",
       "    }\n",
       "\n",
       "    .dataframe tbody tr th {\n",
       "        vertical-align: top;\n",
       "    }\n",
       "\n",
       "    .dataframe thead th {\n",
       "        text-align: right;\n",
       "    }\n",
       "</style>\n",
       "<table border=\"1\" class=\"dataframe\">\n",
       "  <thead>\n",
       "    <tr style=\"text-align: right;\">\n",
       "      <th></th>\n",
       "      <th>2005_word</th>\n",
       "      <th>2005_count</th>\n",
       "      <th>2006_word</th>\n",
       "      <th>2006_count</th>\n",
       "      <th>2007_word</th>\n",
       "      <th>2007_count</th>\n",
       "      <th>2008_word</th>\n",
       "      <th>2008_count</th>\n",
       "      <th>2009_word</th>\n",
       "      <th>2009_count</th>\n",
       "      <th>...</th>\n",
       "      <th>2016_word</th>\n",
       "      <th>2016_count</th>\n",
       "      <th>2017_word</th>\n",
       "      <th>2017_count</th>\n",
       "      <th>2018_word</th>\n",
       "      <th>2018_count</th>\n",
       "      <th>2019_word</th>\n",
       "      <th>2019_count</th>\n",
       "      <th>2020_word</th>\n",
       "      <th>2020_count</th>\n",
       "    </tr>\n",
       "  </thead>\n",
       "  <tbody>\n",
       "    <tr>\n",
       "      <th>0</th>\n",
       "      <td>동탄</td>\n",
       "      <td>1436</td>\n",
       "      <td>경찰서</td>\n",
       "      <td>844</td>\n",
       "      <td>경찰서</td>\n",
       "      <td>568</td>\n",
       "      <td>위원회</td>\n",
       "      <td>466</td>\n",
       "      <td>위원회</td>\n",
       "      <td>246</td>\n",
       "      <td>...</td>\n",
       "      <td>대구</td>\n",
       "      <td>824</td>\n",
       "      <td>광주</td>\n",
       "      <td>756</td>\n",
       "      <td>광주</td>\n",
       "      <td>1202</td>\n",
       "      <td>휴대폰</td>\n",
       "      <td>1504</td>\n",
       "      <td>수정구청</td>\n",
       "      <td>930</td>\n",
       "    </tr>\n",
       "    <tr>\n",
       "      <th>1</th>\n",
       "      <td>경찰서</td>\n",
       "      <td>432</td>\n",
       "      <td>부산</td>\n",
       "      <td>520</td>\n",
       "      <td>피해자</td>\n",
       "      <td>320</td>\n",
       "      <td>면사무소</td>\n",
       "      <td>360</td>\n",
       "      <td>경찰서</td>\n",
       "      <td>184</td>\n",
       "      <td>...</td>\n",
       "      <td>정류장</td>\n",
       "      <td>478</td>\n",
       "      <td>대구</td>\n",
       "      <td>590</td>\n",
       "      <td>구조물</td>\n",
       "      <td>742</td>\n",
       "      <td>분당구청</td>\n",
       "      <td>996</td>\n",
       "      <td>분당구청</td>\n",
       "      <td>868</td>\n",
       "    </tr>\n",
       "    <tr>\n",
       "      <th>2</th>\n",
       "      <td>위원회</td>\n",
       "      <td>272</td>\n",
       "      <td>핸드폰</td>\n",
       "      <td>462</td>\n",
       "      <td>청주</td>\n",
       "      <td>276</td>\n",
       "      <td>청각 장애</td>\n",
       "      <td>352</td>\n",
       "      <td>가해자</td>\n",
       "      <td>112</td>\n",
       "      <td>...</td>\n",
       "      <td>대구시</td>\n",
       "      <td>388</td>\n",
       "      <td>정류장</td>\n",
       "      <td>312</td>\n",
       "      <td>도시철</td>\n",
       "      <td>742</td>\n",
       "      <td>분당</td>\n",
       "      <td>978</td>\n",
       "      <td>분당</td>\n",
       "      <td>810</td>\n",
       "    </tr>\n",
       "    <tr>\n",
       "      <th>3</th>\n",
       "      <td>동탄 신도시</td>\n",
       "      <td>270</td>\n",
       "      <td>피해자</td>\n",
       "      <td>384</td>\n",
       "      <td>핸드폰</td>\n",
       "      <td>242</td>\n",
       "      <td>머슴들</td>\n",
       "      <td>238</td>\n",
       "      <td>부대장</td>\n",
       "      <td>108</td>\n",
       "      <td>...</td>\n",
       "      <td>광주</td>\n",
       "      <td>278</td>\n",
       "      <td>민원실</td>\n",
       "      <td>218</td>\n",
       "      <td>구조물 벽면</td>\n",
       "      <td>676</td>\n",
       "      <td>수정구청</td>\n",
       "      <td>938</td>\n",
       "      <td>휴대폰</td>\n",
       "      <td>792</td>\n",
       "    </tr>\n",
       "    <tr>\n",
       "      <th>4</th>\n",
       "      <td>피해자</td>\n",
       "      <td>258</td>\n",
       "      <td>가해자</td>\n",
       "      <td>380</td>\n",
       "      <td>위원회</td>\n",
       "      <td>214</td>\n",
       "      <td>경찰서</td>\n",
       "      <td>212</td>\n",
       "      <td>소유자</td>\n",
       "      <td>102</td>\n",
       "      <td>...</td>\n",
       "      <td>매연신고</td>\n",
       "      <td>178</td>\n",
       "      <td>주차장</td>\n",
       "      <td>216</td>\n",
       "      <td>구조물 벽면 녹물제거</td>\n",
       "      <td>676</td>\n",
       "      <td>성남</td>\n",
       "      <td>868</td>\n",
       "      <td>성남</td>\n",
       "      <td>528</td>\n",
       "    </tr>\n",
       "    <tr>\n",
       "      <th>5</th>\n",
       "      <td>중학교</td>\n",
       "      <td>238</td>\n",
       "      <td>전화번호</td>\n",
       "      <td>256</td>\n",
       "      <td>가해자</td>\n",
       "      <td>198</td>\n",
       "      <td>경기도</td>\n",
       "      <td>210</td>\n",
       "      <td>대법원</td>\n",
       "      <td>98</td>\n",
       "      <td>...</td>\n",
       "      <td>주정차</td>\n",
       "      <td>176</td>\n",
       "      <td>종합민원실</td>\n",
       "      <td>214</td>\n",
       "      <td>녹물제거</td>\n",
       "      <td>676</td>\n",
       "      <td>중원구청</td>\n",
       "      <td>616</td>\n",
       "      <td>가로등</td>\n",
       "      <td>400</td>\n",
       "    </tr>\n",
       "    <tr>\n",
       "      <th>6</th>\n",
       "      <td>입주민</td>\n",
       "      <td>236</td>\n",
       "      <td>휴대폰</td>\n",
       "      <td>172</td>\n",
       "      <td>재개발</td>\n",
       "      <td>194</td>\n",
       "      <td>공직자</td>\n",
       "      <td>200</td>\n",
       "      <td>서울</td>\n",
       "      <td>96</td>\n",
       "      <td>...</td>\n",
       "      <td>비서실</td>\n",
       "      <td>158</td>\n",
       "      <td>입주민</td>\n",
       "      <td>156</td>\n",
       "      <td>대구</td>\n",
       "      <td>500</td>\n",
       "      <td>과천</td>\n",
       "      <td>570</td>\n",
       "      <td>주정차</td>\n",
       "      <td>392</td>\n",
       "    </tr>\n",
       "    <tr>\n",
       "      <th>7</th>\n",
       "      <td>사립고</td>\n",
       "      <td>230</td>\n",
       "      <td>경찰청</td>\n",
       "      <td>146</td>\n",
       "      <td>운전자</td>\n",
       "      <td>190</td>\n",
       "      <td>장애인</td>\n",
       "      <td>198</td>\n",
       "      <td>뇌파</td>\n",
       "      <td>90</td>\n",
       "      <td>...</td>\n",
       "      <td>주차장</td>\n",
       "      <td>158</td>\n",
       "      <td>대구시</td>\n",
       "      <td>148</td>\n",
       "      <td>정류장</td>\n",
       "      <td>228</td>\n",
       "      <td>정류장</td>\n",
       "      <td>348</td>\n",
       "      <td>코로나</td>\n",
       "      <td>226</td>\n",
       "    </tr>\n",
       "    <tr>\n",
       "      <th>8</th>\n",
       "      <td>교육청</td>\n",
       "      <td>224</td>\n",
       "      <td>주차장</td>\n",
       "      <td>142</td>\n",
       "      <td>전화번호</td>\n",
       "      <td>158</td>\n",
       "      <td>보험료</td>\n",
       "      <td>196</td>\n",
       "      <td>운전병</td>\n",
       "      <td>90</td>\n",
       "      <td>...</td>\n",
       "      <td>직소민원</td>\n",
       "      <td>158</td>\n",
       "      <td>가로등</td>\n",
       "      <td>146</td>\n",
       "      <td>광주광역시 북구</td>\n",
       "      <td>220</td>\n",
       "      <td>현수막</td>\n",
       "      <td>340</td>\n",
       "      <td>정류장</td>\n",
       "      <td>206</td>\n",
       "    </tr>\n",
       "    <tr>\n",
       "      <th>9</th>\n",
       "      <td>고등학교</td>\n",
       "      <td>222</td>\n",
       "      <td>교통사고</td>\n",
       "      <td>136</td>\n",
       "      <td>범칙금</td>\n",
       "      <td>150</td>\n",
       "      <td>임대료</td>\n",
       "      <td>188</td>\n",
       "      <td>청와대</td>\n",
       "      <td>86</td>\n",
       "      <td>...</td>\n",
       "      <td>부산</td>\n",
       "      <td>150</td>\n",
       "      <td>자갈마당</td>\n",
       "      <td>144</td>\n",
       "      <td>대구시</td>\n",
       "      <td>214</td>\n",
       "      <td>주정차</td>\n",
       "      <td>296</td>\n",
       "      <td>노점상</td>\n",
       "      <td>194</td>\n",
       "    </tr>\n",
       "    <tr>\n",
       "      <th>10</th>\n",
       "      <td>입주자</td>\n",
       "      <td>218</td>\n",
       "      <td>파출소</td>\n",
       "      <td>136</td>\n",
       "      <td>충북</td>\n",
       "      <td>148</td>\n",
       "      <td>고위공직자</td>\n",
       "      <td>178</td>\n",
       "      <td>국민권익위원회</td>\n",
       "      <td>84</td>\n",
       "      <td>...</td>\n",
       "      <td>전화 접수</td>\n",
       "      <td>150</td>\n",
       "      <td>체육관</td>\n",
       "      <td>126</td>\n",
       "      <td>연제동</td>\n",
       "      <td>172</td>\n",
       "      <td>가로등</td>\n",
       "      <td>218</td>\n",
       "      <td>현수막</td>\n",
       "      <td>188</td>\n",
       "    </tr>\n",
       "    <tr>\n",
       "      <th>11</th>\n",
       "      <td>서울</td>\n",
       "      <td>214</td>\n",
       "      <td>피의자</td>\n",
       "      <td>132</td>\n",
       "      <td>과태료</td>\n",
       "      <td>126</td>\n",
       "      <td>보증금</td>\n",
       "      <td>176</td>\n",
       "      <td>위원장</td>\n",
       "      <td>84</td>\n",
       "      <td>...</td>\n",
       "      <td>ㅁ위치</td>\n",
       "      <td>138</td>\n",
       "      <td>매연신고</td>\n",
       "      <td>124</td>\n",
       "      <td>광산구</td>\n",
       "      <td>166</td>\n",
       "      <td>거제시</td>\n",
       "      <td>188</td>\n",
       "      <td>거제시</td>\n",
       "      <td>178</td>\n",
       "    </tr>\n",
       "    <tr>\n",
       "      <th>12</th>\n",
       "      <td>부산</td>\n",
       "      <td>210</td>\n",
       "      <td>운전자</td>\n",
       "      <td>128</td>\n",
       "      <td>경찰청</td>\n",
       "      <td>124</td>\n",
       "      <td>재개발</td>\n",
       "      <td>148</td>\n",
       "      <td>피해자</td>\n",
       "      <td>70</td>\n",
       "      <td>...</td>\n",
       "      <td>대중교통</td>\n",
       "      <td>124</td>\n",
       "      <td>요구사항</td>\n",
       "      <td>124</td>\n",
       "      <td>남구</td>\n",
       "      <td>162</td>\n",
       "      <td>주차장</td>\n",
       "      <td>162</td>\n",
       "      <td>중원구청</td>\n",
       "      <td>142</td>\n",
       "    </tr>\n",
       "    <tr>\n",
       "      <th>13</th>\n",
       "      <td>청와대</td>\n",
       "      <td>206</td>\n",
       "      <td>서울</td>\n",
       "      <td>126</td>\n",
       "      <td>노래방</td>\n",
       "      <td>124</td>\n",
       "      <td>운정</td>\n",
       "      <td>140</td>\n",
       "      <td>아프로마트</td>\n",
       "      <td>68</td>\n",
       "      <td>...</td>\n",
       "      <td>ㅁ불편사항</td>\n",
       "      <td>122</td>\n",
       "      <td>접수일시</td>\n",
       "      <td>118</td>\n",
       "      <td>주차장</td>\n",
       "      <td>142</td>\n",
       "      <td>노점상</td>\n",
       "      <td>150</td>\n",
       "      <td>정자동</td>\n",
       "      <td>140</td>\n",
       "    </tr>\n",
       "    <tr>\n",
       "      <th>14</th>\n",
       "      <td>교육부</td>\n",
       "      <td>198</td>\n",
       "      <td>주민번호</td>\n",
       "      <td>116</td>\n",
       "      <td>박준희</td>\n",
       "      <td>124</td>\n",
       "      <td>율면</td>\n",
       "      <td>140</td>\n",
       "      <td>경기도</td>\n",
       "      <td>66</td>\n",
       "      <td>...</td>\n",
       "      <td>금호</td>\n",
       "      <td>122</td>\n",
       "      <td>북구청</td>\n",
       "      <td>114</td>\n",
       "      <td>세입자</td>\n",
       "      <td>138</td>\n",
       "      <td>불법주정차 단속</td>\n",
       "      <td>146</td>\n",
       "      <td>주차장</td>\n",
       "      <td>134</td>\n",
       "    </tr>\n",
       "    <tr>\n",
       "      <th>15</th>\n",
       "      <td>자립형 사립고</td>\n",
       "      <td>184</td>\n",
       "      <td>선생님</td>\n",
       "      <td>114</td>\n",
       "      <td>탁시명</td>\n",
       "      <td>124</td>\n",
       "      <td>입주민</td>\n",
       "      <td>140</td>\n",
       "      <td>거짓말</td>\n",
       "      <td>62</td>\n",
       "      <td>...</td>\n",
       "      <td>민원실</td>\n",
       "      <td>120</td>\n",
       "      <td>주정차</td>\n",
       "      <td>114</td>\n",
       "      <td>입주민</td>\n",
       "      <td>134</td>\n",
       "      <td>야탑</td>\n",
       "      <td>126</td>\n",
       "      <td>과천</td>\n",
       "      <td>122</td>\n",
       "    </tr>\n",
       "    <tr>\n",
       "      <th>16</th>\n",
       "      <td>하나님</td>\n",
       "      <td>184</td>\n",
       "      <td>지구대</td>\n",
       "      <td>104</td>\n",
       "      <td>파출소</td>\n",
       "      <td>122</td>\n",
       "      <td>청각 장애 1급</td>\n",
       "      <td>140</td>\n",
       "      <td>국민신문고</td>\n",
       "      <td>62</td>\n",
       "      <td>...</td>\n",
       "      <td>동구</td>\n",
       "      <td>118</td>\n",
       "      <td>승강장</td>\n",
       "      <td>112</td>\n",
       "      <td>소방점검</td>\n",
       "      <td>126</td>\n",
       "      <td>정자동</td>\n",
       "      <td>118</td>\n",
       "      <td>판교</td>\n",
       "      <td>104</td>\n",
       "    </tr>\n",
       "    <tr>\n",
       "      <th>17</th>\n",
       "      <td>입주예정자</td>\n",
       "      <td>174</td>\n",
       "      <td>거짓말</td>\n",
       "      <td>100</td>\n",
       "      <td>서울</td>\n",
       "      <td>118</td>\n",
       "      <td>국민권익위원회</td>\n",
       "      <td>136</td>\n",
       "      <td>소득세</td>\n",
       "      <td>60</td>\n",
       "      <td>...</td>\n",
       "      <td>장애인</td>\n",
       "      <td>118</td>\n",
       "      <td>방문민원</td>\n",
       "      <td>108</td>\n",
       "      <td>시행사</td>\n",
       "      <td>124</td>\n",
       "      <td>공사장</td>\n",
       "      <td>104</td>\n",
       "      <td>탄천</td>\n",
       "      <td>92</td>\n",
       "    </tr>\n",
       "    <tr>\n",
       "      <th>18</th>\n",
       "      <td>특목고</td>\n",
       "      <td>164</td>\n",
       "      <td>부산시</td>\n",
       "      <td>100</td>\n",
       "      <td>청주시</td>\n",
       "      <td>112</td>\n",
       "      <td>북구청</td>\n",
       "      <td>136</td>\n",
       "      <td>안동김</td>\n",
       "      <td>60</td>\n",
       "      <td>...</td>\n",
       "      <td>종합민원실</td>\n",
       "      <td>112</td>\n",
       "      <td>부시장</td>\n",
       "      <td>108</td>\n",
       "      <td>힐스테이트</td>\n",
       "      <td>120</td>\n",
       "      <td>사거리</td>\n",
       "      <td>102</td>\n",
       "      <td>불법주정차 단속</td>\n",
       "      <td>82</td>\n",
       "    </tr>\n",
       "    <tr>\n",
       "      <th>19</th>\n",
       "      <td>고소인</td>\n",
       "      <td>148</td>\n",
       "      <td>충남</td>\n",
       "      <td>100</td>\n",
       "      <td>부동산</td>\n",
       "      <td>106</td>\n",
       "      <td>변호사</td>\n",
       "      <td>128</td>\n",
       "      <td>유공자</td>\n",
       "      <td>60</td>\n",
       "      <td>...</td>\n",
       "      <td>방문민원</td>\n",
       "      <td>110</td>\n",
       "      <td>부시장님 결재</td>\n",
       "      <td>108</td>\n",
       "      <td>심사관</td>\n",
       "      <td>112</td>\n",
       "      <td>불법주차</td>\n",
       "      <td>96</td>\n",
       "      <td>양재천</td>\n",
       "      <td>82</td>\n",
       "    </tr>\n",
       "    <tr>\n",
       "      <th>20</th>\n",
       "      <td>사업자</td>\n",
       "      <td>146</td>\n",
       "      <td>주민등록번호</td>\n",
       "      <td>94</td>\n",
       "      <td>흥덕</td>\n",
       "      <td>104</td>\n",
       "      <td>주택공사</td>\n",
       "      <td>124</td>\n",
       "      <td>뇌파검사</td>\n",
       "      <td>54</td>\n",
       "      <td>...</td>\n",
       "      <td>직소민원실</td>\n",
       "      <td>110</td>\n",
       "      <td>배차간격</td>\n",
       "      <td>106</td>\n",
       "      <td>광주시</td>\n",
       "      <td>110</td>\n",
       "      <td>판교역</td>\n",
       "      <td>96</td>\n",
       "      <td>야탑</td>\n",
       "      <td>80</td>\n",
       "    </tr>\n",
       "    <tr>\n",
       "      <th>21</th>\n",
       "      <td>경기도</td>\n",
       "      <td>144</td>\n",
       "      <td>사업자</td>\n",
       "      <td>90</td>\n",
       "      <td>면허증</td>\n",
       "      <td>102</td>\n",
       "      <td>대법관</td>\n",
       "      <td>120</td>\n",
       "      <td>미군</td>\n",
       "      <td>54</td>\n",
       "      <td>...</td>\n",
       "      <td>처리 부서</td>\n",
       "      <td>110</td>\n",
       "      <td>부시장님 결재 완료</td>\n",
       "      <td>106</td>\n",
       "      <td>광주광역시 서구</td>\n",
       "      <td>106</td>\n",
       "      <td>MO</td>\n",
       "      <td>92</td>\n",
       "      <td>모란역</td>\n",
       "      <td>76</td>\n",
       "    </tr>\n",
       "    <tr>\n",
       "      <th>22</th>\n",
       "      <td>우리나라</td>\n",
       "      <td>144</td>\n",
       "      <td>경찰관</td>\n",
       "      <td>88</td>\n",
       "      <td>군산</td>\n",
       "      <td>98</td>\n",
       "      <td>전매제한</td>\n",
       "      <td>120</td>\n",
       "      <td>미합중국</td>\n",
       "      <td>54</td>\n",
       "      <td>...</td>\n",
       "      <td>ㅁ요청사항</td>\n",
       "      <td>108</td>\n",
       "      <td>신청인수</td>\n",
       "      <td>106</td>\n",
       "      <td>상기민원</td>\n",
       "      <td>106</td>\n",
       "      <td>MO민원</td>\n",
       "      <td>92</td>\n",
       "      <td>공사장</td>\n",
       "      <td>72</td>\n",
       "    </tr>\n",
       "    <tr>\n",
       "      <th>23</th>\n",
       "      <td>거짓말</td>\n",
       "      <td>142</td>\n",
       "      <td>계좌번호</td>\n",
       "      <td>88</td>\n",
       "      <td>자동차</td>\n",
       "      <td>88</td>\n",
       "      <td>서울</td>\n",
       "      <td>118</td>\n",
       "      <td>일본군</td>\n",
       "      <td>54</td>\n",
       "      <td>...</td>\n",
       "      <td>신청인수</td>\n",
       "      <td>104</td>\n",
       "      <td>처리 부서</td>\n",
       "      <td>106</td>\n",
       "      <td>입주자</td>\n",
       "      <td>106</td>\n",
       "      <td>공사소음</td>\n",
       "      <td>88</td>\n",
       "      <td>보수요청</td>\n",
       "      <td>72</td>\n",
       "    </tr>\n",
       "    <tr>\n",
       "      <th>24</th>\n",
       "      <td>건교부</td>\n",
       "      <td>136</td>\n",
       "      <td>좌회전</td>\n",
       "      <td>84</td>\n",
       "      <td>거짓말</td>\n",
       "      <td>86</td>\n",
       "      <td>죄인들</td>\n",
       "      <td>112</td>\n",
       "      <td>코레일유통</td>\n",
       "      <td>54</td>\n",
       "      <td>...</td>\n",
       "      <td>도서관</td>\n",
       "      <td>98</td>\n",
       "      <td>종사자</td>\n",
       "      <td>90</td>\n",
       "      <td>요구사항</td>\n",
       "      <td>102</td>\n",
       "      <td>포트홀</td>\n",
       "      <td>88</td>\n",
       "      <td>사거리</td>\n",
       "      <td>70</td>\n",
       "    </tr>\n",
       "    <tr>\n",
       "      <th>25</th>\n",
       "      <td>조합원</td>\n",
       "      <td>136</td>\n",
       "      <td>사기죄</td>\n",
       "      <td>78</td>\n",
       "      <td>좌회전</td>\n",
       "      <td>86</td>\n",
       "      <td>분양아파트</td>\n",
       "      <td>110</td>\n",
       "      <td>부산</td>\n",
       "      <td>52</td>\n",
       "      <td>...</td>\n",
       "      <td>배차간격</td>\n",
       "      <td>90</td>\n",
       "      <td>단말기</td>\n",
       "      <td>88</td>\n",
       "      <td>광주광역시 북구 연제동</td>\n",
       "      <td>100</td>\n",
       "      <td>서현동</td>\n",
       "      <td>86</td>\n",
       "      <td>화장실</td>\n",
       "      <td>70</td>\n",
       "    </tr>\n",
       "    <tr>\n",
       "      <th>26</th>\n",
       "      <td>사무실</td>\n",
       "      <td>132</td>\n",
       "      <td>자동차</td>\n",
       "      <td>78</td>\n",
       "      <td>휴대폰</td>\n",
       "      <td>74</td>\n",
       "      <td>유공자</td>\n",
       "      <td>104</td>\n",
       "      <td>사업자</td>\n",
       "      <td>52</td>\n",
       "      <td>...</td>\n",
       "      <td>건축물</td>\n",
       "      <td>88</td>\n",
       "      <td>제보내용</td>\n",
       "      <td>88</td>\n",
       "      <td>동구</td>\n",
       "      <td>100</td>\n",
       "      <td>경기도</td>\n",
       "      <td>82</td>\n",
       "      <td>서현동</td>\n",
       "      <td>60</td>\n",
       "    </tr>\n",
       "    <tr>\n",
       "      <th>27</th>\n",
       "      <td>교육환경</td>\n",
       "      <td>130</td>\n",
       "      <td>고소장</td>\n",
       "      <td>76</td>\n",
       "      <td>계약금</td>\n",
       "      <td>66</td>\n",
       "      <td>울산시</td>\n",
       "      <td>102</td>\n",
       "      <td>인천</td>\n",
       "      <td>52</td>\n",
       "      <td>...</td>\n",
       "      <td>버스정류장</td>\n",
       "      <td>86</td>\n",
       "      <td>광산구</td>\n",
       "      <td>86</td>\n",
       "      <td>통화일시 필수</td>\n",
       "      <td>98</td>\n",
       "      <td>교직원</td>\n",
       "      <td>82</td>\n",
       "      <td>구미동</td>\n",
       "      <td>58</td>\n",
       "    </tr>\n",
       "    <tr>\n",
       "      <th>28</th>\n",
       "      <td>전화번호</td>\n",
       "      <td>128</td>\n",
       "      <td>면허증</td>\n",
       "      <td>66</td>\n",
       "      <td>고속도로</td>\n",
       "      <td>66</td>\n",
       "      <td>시행사</td>\n",
       "      <td>92</td>\n",
       "      <td>병무청</td>\n",
       "      <td>50</td>\n",
       "      <td>...</td>\n",
       "      <td>수성</td>\n",
       "      <td>84</td>\n",
       "      <td>연제동</td>\n",
       "      <td>86</td>\n",
       "      <td>통화일시 필수 입력</td>\n",
       "      <td>98</td>\n",
       "      <td>모란역</td>\n",
       "      <td>76</td>\n",
       "      <td>공사소음</td>\n",
       "      <td>54</td>\n",
       "    </tr>\n",
       "    <tr>\n",
       "      <th>29</th>\n",
       "      <td>소비자</td>\n",
       "      <td>124</td>\n",
       "      <td>채무자</td>\n",
       "      <td>66</td>\n",
       "      <td>김승철</td>\n",
       "      <td>62</td>\n",
       "      <td>우리나라</td>\n",
       "      <td>92</td>\n",
       "      <td>주차장</td>\n",
       "      <td>50</td>\n",
       "      <td>...</td>\n",
       "      <td>요구사항</td>\n",
       "      <td>82</td>\n",
       "      <td>남구청</td>\n",
       "      <td>84</td>\n",
       "      <td>소방서</td>\n",
       "      <td>94</td>\n",
       "      <td>도서관</td>\n",
       "      <td>70</td>\n",
       "      <td>운중동</td>\n",
       "      <td>54</td>\n",
       "    </tr>\n",
       "    <tr>\n",
       "      <th>30</th>\n",
       "      <td>가해자</td>\n",
       "      <td>122</td>\n",
       "      <td>횡단보도</td>\n",
       "      <td>66</td>\n",
       "      <td>교통사고</td>\n",
       "      <td>60</td>\n",
       "      <td>사무소</td>\n",
       "      <td>88</td>\n",
       "      <td>부동산</td>\n",
       "      <td>48</td>\n",
       "      <td>...</td>\n",
       "      <td>배차시간</td>\n",
       "      <td>78</td>\n",
       "      <td>과태료</td>\n",
       "      <td>80</td>\n",
       "      <td>광주광역시 광산구</td>\n",
       "      <td>92</td>\n",
       "      <td>굴다리</td>\n",
       "      <td>68</td>\n",
       "      <td>수내동</td>\n",
       "      <td>52</td>\n",
       "    </tr>\n",
       "    <tr>\n",
       "      <th>31</th>\n",
       "      <td>자동차</td>\n",
       "      <td>122</td>\n",
       "      <td>신분증</td>\n",
       "      <td>64</td>\n",
       "      <td>소득세</td>\n",
       "      <td>60</td>\n",
       "      <td>건설사</td>\n",
       "      <td>86</td>\n",
       "      <td>교통사고</td>\n",
       "      <td>46</td>\n",
       "      <td>...</td>\n",
       "      <td>승강장</td>\n",
       "      <td>70</td>\n",
       "      <td>시내버스</td>\n",
       "      <td>74</td>\n",
       "      <td>입주예정자</td>\n",
       "      <td>92</td>\n",
       "      <td>신흥</td>\n",
       "      <td>66</td>\n",
       "      <td>신흥</td>\n",
       "      <td>52</td>\n",
       "    </tr>\n",
       "    <tr>\n",
       "      <th>32</th>\n",
       "      <td>저출산</td>\n",
       "      <td>122</td>\n",
       "      <td>과태료</td>\n",
       "      <td>62</td>\n",
       "      <td>대리점</td>\n",
       "      <td>58</td>\n",
       "      <td>시행자</td>\n",
       "      <td>86</td>\n",
       "      <td>송신호</td>\n",
       "      <td>46</td>\n",
       "      <td>...</td>\n",
       "      <td>북구청</td>\n",
       "      <td>68</td>\n",
       "      <td>광주광역시</td>\n",
       "      <td>70</td>\n",
       "      <td>광주광역시 남구</td>\n",
       "      <td>90</td>\n",
       "      <td>표지판</td>\n",
       "      <td>66</td>\n",
       "      <td>음식점</td>\n",
       "      <td>52</td>\n",
       "    </tr>\n",
       "    <tr>\n",
       "      <th>33</th>\n",
       "      <td>학교축소</td>\n",
       "      <td>122</td>\n",
       "      <td>비밀번호</td>\n",
       "      <td>62</td>\n",
       "      <td>용암동</td>\n",
       "      <td>58</td>\n",
       "      <td>국민연금</td>\n",
       "      <td>84</td>\n",
       "      <td>엄기창</td>\n",
       "      <td>46</td>\n",
       "      <td>...</td>\n",
       "      <td>이관사유</td>\n",
       "      <td>68</td>\n",
       "      <td>사무실</td>\n",
       "      <td>70</td>\n",
       "      <td>발전소</td>\n",
       "      <td>90</td>\n",
       "      <td>대로변</td>\n",
       "      <td>64</td>\n",
       "      <td>표지판</td>\n",
       "      <td>52</td>\n",
       "    </tr>\n",
       "    <tr>\n",
       "      <th>34</th>\n",
       "      <td>부동산</td>\n",
       "      <td>120</td>\n",
       "      <td>오락실</td>\n",
       "      <td>62</td>\n",
       "      <td>고지서</td>\n",
       "      <td>56</td>\n",
       "      <td>부동산</td>\n",
       "      <td>84</td>\n",
       "      <td>보험료</td>\n",
       "      <td>44</td>\n",
       "      <td>...</td>\n",
       "      <td>칠곡</td>\n",
       "      <td>68</td>\n",
       "      <td>광주시</td>\n",
       "      <td>68</td>\n",
       "      <td>연탄구이</td>\n",
       "      <td>90</td>\n",
       "      <td>어린이집</td>\n",
       "      <td>62</td>\n",
       "      <td>위례</td>\n",
       "      <td>46</td>\n",
       "    </tr>\n",
       "    <tr>\n",
       "      <th>35</th>\n",
       "      <td>토지공사</td>\n",
       "      <td>116</td>\n",
       "      <td>자원부</td>\n",
       "      <td>62</td>\n",
       "      <td>피민원인</td>\n",
       "      <td>56</td>\n",
       "      <td>달천아이파크</td>\n",
       "      <td>82</td>\n",
       "      <td>아프로마트21</td>\n",
       "      <td>44</td>\n",
       "      <td>...</td>\n",
       "      <td>특정민원</td>\n",
       "      <td>68</td>\n",
       "      <td>사거리</td>\n",
       "      <td>68</td>\n",
       "      <td>이관사유</td>\n",
       "      <td>84</td>\n",
       "      <td>태평동</td>\n",
       "      <td>60</td>\n",
       "      <td>경찰서</td>\n",
       "      <td>44</td>\n",
       "    </tr>\n",
       "    <tr>\n",
       "      <th>36</th>\n",
       "      <td>피고소인</td>\n",
       "      <td>116</td>\n",
       "      <td>판매자</td>\n",
       "      <td>62</td>\n",
       "      <td>신호위반</td>\n",
       "      <td>54</td>\n",
       "      <td>피해자</td>\n",
       "      <td>82</td>\n",
       "      <td>고양시</td>\n",
       "      <td>42</td>\n",
       "      <td>...</td>\n",
       "      <td>특정민원구분</td>\n",
       "      <td>68</td>\n",
       "      <td>자동차</td>\n",
       "      <td>68</td>\n",
       "      <td>특정민원</td>\n",
       "      <td>84</td>\n",
       "      <td>주차단속</td>\n",
       "      <td>58</td>\n",
       "      <td>유치원</td>\n",
       "      <td>44</td>\n",
       "    </tr>\n",
       "    <tr>\n",
       "      <th>37</th>\n",
       "      <td>교통부</td>\n",
       "      <td>112</td>\n",
       "      <td>개인택시</td>\n",
       "      <td>60</td>\n",
       "      <td>영수증</td>\n",
       "      <td>54</td>\n",
       "      <td>입주자</td>\n",
       "      <td>80</td>\n",
       "      <td>도서관</td>\n",
       "      <td>42</td>\n",
       "      <td>...</td>\n",
       "      <td>ㅁ요구사항</td>\n",
       "      <td>66</td>\n",
       "      <td>도서관</td>\n",
       "      <td>66</td>\n",
       "      <td>특정민원구분</td>\n",
       "      <td>84</td>\n",
       "      <td>과태료</td>\n",
       "      <td>56</td>\n",
       "      <td>태평동</td>\n",
       "      <td>44</td>\n",
       "    </tr>\n",
       "    <tr>\n",
       "      <th>38</th>\n",
       "      <td>두광건설</td>\n",
       "      <td>112</td>\n",
       "      <td>게시판</td>\n",
       "      <td>56</td>\n",
       "      <td>화장실</td>\n",
       "      <td>54</td>\n",
       "      <td>국민신문고</td>\n",
       "      <td>76</td>\n",
       "      <td>번호증</td>\n",
       "      <td>42</td>\n",
       "      <td>...</td>\n",
       "      <td>보행자</td>\n",
       "      <td>66</td>\n",
       "      <td>동구</td>\n",
       "      <td>62</td>\n",
       "      <td>연제</td>\n",
       "      <td>82</td>\n",
       "      <td>탄천</td>\n",
       "      <td>56</td>\n",
       "      <td>보행자</td>\n",
       "      <td>42</td>\n",
       "    </tr>\n",
       "    <tr>\n",
       "      <th>39</th>\n",
       "      <td>보험료</td>\n",
       "      <td>110</td>\n",
       "      <td>금정</td>\n",
       "      <td>56</td>\n",
       "      <td>농협</td>\n",
       "      <td>52</td>\n",
       "      <td>하나님</td>\n",
       "      <td>76</td>\n",
       "      <td>장애인</td>\n",
       "      <td>42</td>\n",
       "      <td>...</td>\n",
       "      <td>수수료</td>\n",
       "      <td>66</td>\n",
       "      <td>서울</td>\n",
       "      <td>58</td>\n",
       "      <td>효천</td>\n",
       "      <td>80</td>\n",
       "      <td>과천시청</td>\n",
       "      <td>54</td>\n",
       "      <td>복정</td>\n",
       "      <td>42</td>\n",
       "    </tr>\n",
       "    <tr>\n",
       "      <th>40</th>\n",
       "      <td>휴대폰</td>\n",
       "      <td>110</td>\n",
       "      <td>사무실</td>\n",
       "      <td>56</td>\n",
       "      <td>상당구</td>\n",
       "      <td>52</td>\n",
       "      <td>사무실</td>\n",
       "      <td>74</td>\n",
       "      <td>재개발</td>\n",
       "      <td>42</td>\n",
       "      <td>...</td>\n",
       "      <td>폐기물</td>\n",
       "      <td>64</td>\n",
       "      <td>정비 요청</td>\n",
       "      <td>58</td>\n",
       "      <td>미술작품</td>\n",
       "      <td>78</td>\n",
       "      <td>물놀이장</td>\n",
       "      <td>54</td>\n",
       "      <td>정비요청</td>\n",
       "      <td>42</td>\n",
       "    </tr>\n",
       "    <tr>\n",
       "      <th>41</th>\n",
       "      <td>고소장</td>\n",
       "      <td>108</td>\n",
       "      <td>싸이월드</td>\n",
       "      <td>54</td>\n",
       "      <td>지구대</td>\n",
       "      <td>52</td>\n",
       "      <td>주차장</td>\n",
       "      <td>74</td>\n",
       "      <td>중공군</td>\n",
       "      <td>42</td>\n",
       "      <td>...</td>\n",
       "      <td>ㅁ참고</td>\n",
       "      <td>62</td>\n",
       "      <td>남구</td>\n",
       "      <td>56</td>\n",
       "      <td>장애인</td>\n",
       "      <td>78</td>\n",
       "      <td>미금</td>\n",
       "      <td>54</td>\n",
       "      <td>중앙동</td>\n",
       "      <td>42</td>\n",
       "    </tr>\n",
       "    <tr>\n",
       "      <th>42</th>\n",
       "      <td>건설사</td>\n",
       "      <td>102</td>\n",
       "      <td>남궁훈</td>\n",
       "      <td>52</td>\n",
       "      <td>토지공사</td>\n",
       "      <td>52</td>\n",
       "      <td>토목과</td>\n",
       "      <td>74</td>\n",
       "      <td>중공몽골</td>\n",
       "      <td>42</td>\n",
       "      <td>...</td>\n",
       "      <td>대구광역시</td>\n",
       "      <td>62</td>\n",
       "      <td>운전자</td>\n",
       "      <td>56</td>\n",
       "      <td>주정차</td>\n",
       "      <td>78</td>\n",
       "      <td>경찰서</td>\n",
       "      <td>52</td>\n",
       "      <td>게시판</td>\n",
       "      <td>40</td>\n",
       "    </tr>\n",
       "    <tr>\n",
       "      <th>43</th>\n",
       "      <td>교육행정</td>\n",
       "      <td>102</td>\n",
       "      <td>신호등</td>\n",
       "      <td>52</td>\n",
       "      <td>베트남</td>\n",
       "      <td>50</td>\n",
       "      <td>미자</td>\n",
       "      <td>72</td>\n",
       "      <td>탄원인</td>\n",
       "      <td>42</td>\n",
       "      <td>...</td>\n",
       "      <td>부산시</td>\n",
       "      <td>62</td>\n",
       "      <td>위원회</td>\n",
       "      <td>56</td>\n",
       "      <td>자동차</td>\n",
       "      <td>76</td>\n",
       "      <td>김종천</td>\n",
       "      <td>52</td>\n",
       "      <td>도로변</td>\n",
       "      <td>40</td>\n",
       "    </tr>\n",
       "    <tr>\n",
       "      <th>44</th>\n",
       "      <td>김씨</td>\n",
       "      <td>102</td>\n",
       "      <td>의료기</td>\n",
       "      <td>52</td>\n",
       "      <td>사무실</td>\n",
       "      <td>50</td>\n",
       "      <td>하수도</td>\n",
       "      <td>72</td>\n",
       "      <td>횡단보도</td>\n",
       "      <td>42</td>\n",
       "      <td>...</td>\n",
       "      <td>현수막</td>\n",
       "      <td>62</td>\n",
       "      <td>표지판</td>\n",
       "      <td>56</td>\n",
       "      <td>동림동</td>\n",
       "      <td>74</td>\n",
       "      <td>빗물받이</td>\n",
       "      <td>52</td>\n",
       "      <td>백화점</td>\n",
       "      <td>40</td>\n",
       "    </tr>\n",
       "    <tr>\n",
       "      <th>45</th>\n",
       "      <td>머슴들</td>\n",
       "      <td>102</td>\n",
       "      <td>화장실</td>\n",
       "      <td>52</td>\n",
       "      <td>사업자</td>\n",
       "      <td>50</td>\n",
       "      <td>하수도 공사</td>\n",
       "      <td>72</td>\n",
       "      <td>고양</td>\n",
       "      <td>40</td>\n",
       "      <td>...</td>\n",
       "      <td>계량기</td>\n",
       "      <td>60</td>\n",
       "      <td>달서구</td>\n",
       "      <td>54</td>\n",
       "      <td>건물주</td>\n",
       "      <td>72</td>\n",
       "      <td>적치</td>\n",
       "      <td>50</td>\n",
       "      <td>수돗물</td>\n",
       "      <td>40</td>\n",
       "    </tr>\n",
       "    <tr>\n",
       "      <th>46</th>\n",
       "      <td>장애인</td>\n",
       "      <td>100</td>\n",
       "      <td>고소인</td>\n",
       "      <td>50</td>\n",
       "      <td>여직원</td>\n",
       "      <td>50</td>\n",
       "      <td>경기도 이천 율면</td>\n",
       "      <td>70</td>\n",
       "      <td>부주의</td>\n",
       "      <td>40</td>\n",
       "      <td>...</td>\n",
       "      <td>불친절</td>\n",
       "      <td>60</td>\n",
       "      <td>동구청</td>\n",
       "      <td>54</td>\n",
       "      <td>수성</td>\n",
       "      <td>72</td>\n",
       "      <td>주암동</td>\n",
       "      <td>50</td>\n",
       "      <td>주차단속</td>\n",
       "      <td>40</td>\n",
       "    </tr>\n",
       "    <tr>\n",
       "      <th>47</th>\n",
       "      <td>피의자</td>\n",
       "      <td>98</td>\n",
       "      <td>박진수</td>\n",
       "      <td>50</td>\n",
       "      <td>김지현</td>\n",
       "      <td>48</td>\n",
       "      <td>공사 업체</td>\n",
       "      <td>70</td>\n",
       "      <td>외삼촌</td>\n",
       "      <td>40</td>\n",
       "      <td>...</td>\n",
       "      <td>수성구</td>\n",
       "      <td>60</td>\n",
       "      <td>직소민원</td>\n",
       "      <td>50</td>\n",
       "      <td>예산낭비신고</td>\n",
       "      <td>72</td>\n",
       "      <td>지식정보타운</td>\n",
       "      <td>50</td>\n",
       "      <td>차선규제봉</td>\n",
       "      <td>40</td>\n",
       "    </tr>\n",
       "    <tr>\n",
       "      <th>48</th>\n",
       "      <td>변호사</td>\n",
       "      <td>94</td>\n",
       "      <td>변호사</td>\n",
       "      <td>50</td>\n",
       "      <td>소유자</td>\n",
       "      <td>48</td>\n",
       "      <td>면사무소 직원</td>\n",
       "      <td>70</td>\n",
       "      <td>일본</td>\n",
       "      <td>40</td>\n",
       "      <td>...</td>\n",
       "      <td>정류소</td>\n",
       "      <td>60</td>\n",
       "      <td>금호</td>\n",
       "      <td>48</td>\n",
       "      <td>정류소</td>\n",
       "      <td>72</td>\n",
       "      <td>광고물</td>\n",
       "      <td>48</td>\n",
       "      <td>경기도</td>\n",
       "      <td>38</td>\n",
       "    </tr>\n",
       "    <tr>\n",
       "      <th>49</th>\n",
       "      <td>세입자</td>\n",
       "      <td>94</td>\n",
       "      <td>여자친구</td>\n",
       "      <td>50</td>\n",
       "      <td>신청서</td>\n",
       "      <td>48</td>\n",
       "      <td>보호 시설</td>\n",
       "      <td>70</td>\n",
       "      <td>중국</td>\n",
       "      <td>40</td>\n",
       "      <td>...</td>\n",
       "      <td>기피부서</td>\n",
       "      <td>56</td>\n",
       "      <td>대구생활불편신고</td>\n",
       "      <td>48</td>\n",
       "      <td>비서실</td>\n",
       "      <td>70</td>\n",
       "      <td>복정</td>\n",
       "      <td>48</td>\n",
       "      <td>놀이터</td>\n",
       "      <td>38</td>\n",
       "    </tr>\n",
       "    <tr>\n",
       "      <th>50</th>\n",
       "      <td>판매자</td>\n",
       "      <td>94</td>\n",
       "      <td>온라인</td>\n",
       "      <td>50</td>\n",
       "      <td>운전면허</td>\n",
       "      <td>48</td>\n",
       "      <td>부인 임 미자</td>\n",
       "      <td>70</td>\n",
       "      <td>진단서</td>\n",
       "      <td>40</td>\n",
       "      <td>...</td>\n",
       "      <td>기피사유</td>\n",
       "      <td>56</td>\n",
       "      <td>버스기사</td>\n",
       "      <td>48</td>\n",
       "      <td>직소민원</td>\n",
       "      <td>66</td>\n",
       "      <td>보건소</td>\n",
       "      <td>46</td>\n",
       "      <td>도서관</td>\n",
       "      <td>38</td>\n",
       "    </tr>\n",
       "    <tr>\n",
       "      <th>51</th>\n",
       "      <td>핸드폰</td>\n",
       "      <td>90</td>\n",
       "      <td>우리나라</td>\n",
       "      <td>50</td>\n",
       "      <td>음주운전</td>\n",
       "      <td>48</td>\n",
       "      <td>시청 토목과</td>\n",
       "      <td>70</td>\n",
       "      <td>개인의견</td>\n",
       "      <td>38</td>\n",
       "      <td>...</td>\n",
       "      <td>단말기</td>\n",
       "      <td>56</td>\n",
       "      <td>승차거부</td>\n",
       "      <td>48</td>\n",
       "      <td>직소민원실</td>\n",
       "      <td>66</td>\n",
       "      <td>서울</td>\n",
       "      <td>46</td>\n",
       "      <td>별양동</td>\n",
       "      <td>38</td>\n",
       "    </tr>\n",
       "  </tbody>\n",
       "</table>\n",
       "<p>52 rows × 32 columns</p>\n",
       "</div>"
      ],
      "text/plain": [
       "   2005_word  2005_count 2006_word  2006_count 2007_word  2007_count  \\\n",
       "0         동탄        1436       경찰서         844       경찰서         568   \n",
       "1        경찰서         432        부산         520       피해자         320   \n",
       "2        위원회         272       핸드폰         462        청주         276   \n",
       "3     동탄 신도시         270       피해자         384       핸드폰         242   \n",
       "4        피해자         258       가해자         380       위원회         214   \n",
       "5        중학교         238      전화번호         256       가해자         198   \n",
       "6        입주민         236       휴대폰         172       재개발         194   \n",
       "7        사립고         230       경찰청         146       운전자         190   \n",
       "8        교육청         224       주차장         142      전화번호         158   \n",
       "9       고등학교         222      교통사고         136       범칙금         150   \n",
       "10       입주자         218       파출소         136        충북         148   \n",
       "11        서울         214       피의자         132       과태료         126   \n",
       "12        부산         210       운전자         128       경찰청         124   \n",
       "13       청와대         206        서울         126       노래방         124   \n",
       "14       교육부         198      주민번호         116       박준희         124   \n",
       "15   자립형 사립고         184       선생님         114       탁시명         124   \n",
       "16       하나님         184       지구대         104       파출소         122   \n",
       "17     입주예정자         174       거짓말         100        서울         118   \n",
       "18       특목고         164       부산시         100       청주시         112   \n",
       "19       고소인         148        충남         100       부동산         106   \n",
       "20       사업자         146    주민등록번호          94        흥덕         104   \n",
       "21       경기도         144       사업자          90       면허증         102   \n",
       "22      우리나라         144       경찰관          88        군산          98   \n",
       "23       거짓말         142      계좌번호          88       자동차          88   \n",
       "24       건교부         136       좌회전          84       거짓말          86   \n",
       "25       조합원         136       사기죄          78       좌회전          86   \n",
       "26       사무실         132       자동차          78       휴대폰          74   \n",
       "27      교육환경         130       고소장          76       계약금          66   \n",
       "28      전화번호         128       면허증          66      고속도로          66   \n",
       "29       소비자         124       채무자          66       김승철          62   \n",
       "30       가해자         122      횡단보도          66      교통사고          60   \n",
       "31       자동차         122       신분증          64       소득세          60   \n",
       "32       저출산         122       과태료          62       대리점          58   \n",
       "33      학교축소         122      비밀번호          62       용암동          58   \n",
       "34       부동산         120       오락실          62       고지서          56   \n",
       "35      토지공사         116       자원부          62      피민원인          56   \n",
       "36      피고소인         116       판매자          62      신호위반          54   \n",
       "37       교통부         112      개인택시          60       영수증          54   \n",
       "38      두광건설         112       게시판          56       화장실          54   \n",
       "39       보험료         110        금정          56        농협          52   \n",
       "40       휴대폰         110       사무실          56       상당구          52   \n",
       "41       고소장         108      싸이월드          54       지구대          52   \n",
       "42       건설사         102       남궁훈          52      토지공사          52   \n",
       "43      교육행정         102       신호등          52       베트남          50   \n",
       "44        김씨         102       의료기          52       사무실          50   \n",
       "45       머슴들         102       화장실          52       사업자          50   \n",
       "46       장애인         100       고소인          50       여직원          50   \n",
       "47       피의자          98       박진수          50       김지현          48   \n",
       "48       변호사          94       변호사          50       소유자          48   \n",
       "49       세입자          94      여자친구          50       신청서          48   \n",
       "50       판매자          94       온라인          50      운전면허          48   \n",
       "51       핸드폰          90      우리나라          50      음주운전          48   \n",
       "\n",
       "    2008_word  2008_count 2009_word  2009_count  ... 2016_word  2016_count  \\\n",
       "0         위원회         466       위원회         246  ...        대구         824   \n",
       "1        면사무소         360       경찰서         184  ...       정류장         478   \n",
       "2       청각 장애         352       가해자         112  ...       대구시         388   \n",
       "3         머슴들         238       부대장         108  ...        광주         278   \n",
       "4         경찰서         212       소유자         102  ...      매연신고         178   \n",
       "5         경기도         210       대법원          98  ...       주정차         176   \n",
       "6         공직자         200        서울          96  ...       비서실         158   \n",
       "7         장애인         198        뇌파          90  ...       주차장         158   \n",
       "8         보험료         196       운전병          90  ...      직소민원         158   \n",
       "9         임대료         188       청와대          86  ...        부산         150   \n",
       "10      고위공직자         178   국민권익위원회          84  ...     전화 접수         150   \n",
       "11        보증금         176       위원장          84  ...       ㅁ위치         138   \n",
       "12        재개발         148       피해자          70  ...      대중교통         124   \n",
       "13         운정         140     아프로마트          68  ...     ㅁ불편사항         122   \n",
       "14         율면         140       경기도          66  ...        금호         122   \n",
       "15        입주민         140       거짓말          62  ...       민원실         120   \n",
       "16   청각 장애 1급         140     국민신문고          62  ...        동구         118   \n",
       "17    국민권익위원회         136       소득세          60  ...       장애인         118   \n",
       "18        북구청         136       안동김          60  ...     종합민원실         112   \n",
       "19        변호사         128       유공자          60  ...      방문민원         110   \n",
       "20       주택공사         124      뇌파검사          54  ...     직소민원실         110   \n",
       "21        대법관         120        미군          54  ...     처리 부서         110   \n",
       "22       전매제한         120      미합중국          54  ...     ㅁ요청사항         108   \n",
       "23         서울         118       일본군          54  ...      신청인수         104   \n",
       "24        죄인들         112     코레일유통          54  ...       도서관          98   \n",
       "25      분양아파트         110        부산          52  ...      배차간격          90   \n",
       "26        유공자         104       사업자          52  ...       건축물          88   \n",
       "27        울산시         102        인천          52  ...     버스정류장          86   \n",
       "28        시행사          92       병무청          50  ...        수성          84   \n",
       "29       우리나라          92       주차장          50  ...      요구사항          82   \n",
       "30        사무소          88       부동산          48  ...      배차시간          78   \n",
       "31        건설사          86      교통사고          46  ...       승강장          70   \n",
       "32        시행자          86       송신호          46  ...       북구청          68   \n",
       "33       국민연금          84       엄기창          46  ...      이관사유          68   \n",
       "34        부동산          84       보험료          44  ...        칠곡          68   \n",
       "35     달천아이파크          82   아프로마트21          44  ...      특정민원          68   \n",
       "36        피해자          82       고양시          42  ...    특정민원구분          68   \n",
       "37        입주자          80       도서관          42  ...     ㅁ요구사항          66   \n",
       "38      국민신문고          76       번호증          42  ...       보행자          66   \n",
       "39        하나님          76       장애인          42  ...       수수료          66   \n",
       "40        사무실          74       재개발          42  ...       폐기물          64   \n",
       "41        주차장          74       중공군          42  ...       ㅁ참고          62   \n",
       "42        토목과          74      중공몽골          42  ...     대구광역시          62   \n",
       "43         미자          72       탄원인          42  ...       부산시          62   \n",
       "44        하수도          72      횡단보도          42  ...       현수막          62   \n",
       "45     하수도 공사          72        고양          40  ...       계량기          60   \n",
       "46  경기도 이천 율면          70       부주의          40  ...       불친절          60   \n",
       "47      공사 업체          70       외삼촌          40  ...       수성구          60   \n",
       "48    면사무소 직원          70        일본          40  ...       정류소          60   \n",
       "49      보호 시설          70        중국          40  ...      기피부서          56   \n",
       "50    부인 임 미자          70       진단서          40  ...      기피사유          56   \n",
       "51     시청 토목과          70      개인의견          38  ...       단말기          56   \n",
       "\n",
       "     2017_word  2017_count     2018_word  2018_count 2019_word  2019_count  \\\n",
       "0           광주         756            광주        1202       휴대폰        1504   \n",
       "1           대구         590           구조물         742      분당구청         996   \n",
       "2          정류장         312           도시철         742        분당         978   \n",
       "3          민원실         218        구조물 벽면         676      수정구청         938   \n",
       "4          주차장         216   구조물 벽면 녹물제거         676        성남         868   \n",
       "5        종합민원실         214          녹물제거         676      중원구청         616   \n",
       "6          입주민         156            대구         500        과천         570   \n",
       "7          대구시         148           정류장         228       정류장         348   \n",
       "8          가로등         146      광주광역시 북구         220       현수막         340   \n",
       "9         자갈마당         144           대구시         214       주정차         296   \n",
       "10         체육관         126           연제동         172       가로등         218   \n",
       "11        매연신고         124           광산구         166       거제시         188   \n",
       "12        요구사항         124            남구         162       주차장         162   \n",
       "13        접수일시         118           주차장         142       노점상         150   \n",
       "14         북구청         114           세입자         138  불법주정차 단속         146   \n",
       "15         주정차         114           입주민         134        야탑         126   \n",
       "16         승강장         112          소방점검         126       정자동         118   \n",
       "17        방문민원         108           시행사         124       공사장         104   \n",
       "18         부시장         108         힐스테이트         120       사거리         102   \n",
       "19     부시장님 결재         108           심사관         112      불법주차          96   \n",
       "20        배차간격         106           광주시         110       판교역          96   \n",
       "21  부시장님 결재 완료         106      광주광역시 서구         106        MO          92   \n",
       "22        신청인수         106          상기민원         106      MO민원          92   \n",
       "23       처리 부서         106           입주자         106      공사소음          88   \n",
       "24         종사자          90          요구사항         102       포트홀          88   \n",
       "25         단말기          88  광주광역시 북구 연제동         100       서현동          86   \n",
       "26        제보내용          88            동구         100       경기도          82   \n",
       "27         광산구          86       통화일시 필수          98       교직원          82   \n",
       "28         연제동          86    통화일시 필수 입력          98       모란역          76   \n",
       "29         남구청          84           소방서          94       도서관          70   \n",
       "30         과태료          80     광주광역시 광산구          92       굴다리          68   \n",
       "31        시내버스          74         입주예정자          92        신흥          66   \n",
       "32       광주광역시          70      광주광역시 남구          90       표지판          66   \n",
       "33         사무실          70           발전소          90       대로변          64   \n",
       "34         광주시          68          연탄구이          90      어린이집          62   \n",
       "35         사거리          68          이관사유          84       태평동          60   \n",
       "36         자동차          68          특정민원          84      주차단속          58   \n",
       "37         도서관          66        특정민원구분          84       과태료          56   \n",
       "38          동구          62            연제          82        탄천          56   \n",
       "39          서울          58            효천          80      과천시청          54   \n",
       "40       정비 요청          58          미술작품          78      물놀이장          54   \n",
       "41          남구          56           장애인          78        미금          54   \n",
       "42         운전자          56           주정차          78       경찰서          52   \n",
       "43         위원회          56           자동차          76       김종천          52   \n",
       "44         표지판          56           동림동          74      빗물받이          52   \n",
       "45         달서구          54           건물주          72        적치          50   \n",
       "46         동구청          54            수성          72       주암동          50   \n",
       "47        직소민원          50        예산낭비신고          72    지식정보타운          50   \n",
       "48          금호          48           정류소          72       광고물          48   \n",
       "49    대구생활불편신고          48           비서실          70        복정          48   \n",
       "50        버스기사          48          직소민원          66       보건소          46   \n",
       "51        승차거부          48         직소민원실          66        서울          46   \n",
       "\n",
       "   2020_word  2020_count  \n",
       "0       수정구청         930  \n",
       "1       분당구청         868  \n",
       "2         분당         810  \n",
       "3        휴대폰         792  \n",
       "4         성남         528  \n",
       "5        가로등         400  \n",
       "6        주정차         392  \n",
       "7        코로나         226  \n",
       "8        정류장         206  \n",
       "9        노점상         194  \n",
       "10       현수막         188  \n",
       "11       거제시         178  \n",
       "12      중원구청         142  \n",
       "13       정자동         140  \n",
       "14       주차장         134  \n",
       "15        과천         122  \n",
       "16        판교         104  \n",
       "17        탄천          92  \n",
       "18  불법주정차 단속          82  \n",
       "19       양재천          82  \n",
       "20        야탑          80  \n",
       "21       모란역          76  \n",
       "22       공사장          72  \n",
       "23      보수요청          72  \n",
       "24       사거리          70  \n",
       "25       화장실          70  \n",
       "26       서현동          60  \n",
       "27       구미동          58  \n",
       "28      공사소음          54  \n",
       "29       운중동          54  \n",
       "30       수내동          52  \n",
       "31        신흥          52  \n",
       "32       음식점          52  \n",
       "33       표지판          52  \n",
       "34        위례          46  \n",
       "35       경찰서          44  \n",
       "36       유치원          44  \n",
       "37       태평동          44  \n",
       "38       보행자          42  \n",
       "39        복정          42  \n",
       "40      정비요청          42  \n",
       "41       중앙동          42  \n",
       "42       게시판          40  \n",
       "43       도로변          40  \n",
       "44       백화점          40  \n",
       "45       수돗물          40  \n",
       "46      주차단속          40  \n",
       "47     차선규제봉          40  \n",
       "48       경기도          38  \n",
       "49       놀이터          38  \n",
       "50       도서관          38  \n",
       "51       별양동          38  \n",
       "\n",
       "[52 rows x 32 columns]"
      ]
     },
     "execution_count": 44,
     "metadata": {},
     "output_type": "execute_result"
    }
   ],
   "source": [
    "df"
   ]
  },
  {
   "cell_type": "code",
   "execution_count": 45,
   "metadata": {},
   "outputs": [],
   "source": [
    "df.to_csv('연도별_키워드.csv', index=False, encoding='utf-8')"
   ]
  },
  {
   "cell_type": "code",
   "execution_count": 109,
   "metadata": {},
   "outputs": [],
   "source": [
    "domains = ['경찰', '과학기술', '관광', '교육', '교통', '국방', '기타', '노동', '농림·축산', '도로', '도시', '문화', '방송통신', '법무', '보건', '복지', '사법', '산업·통상', '세무', '수자원', '외무통일', '우정', '재정', '주택·건축', '체육', '해양수산', '행정·안전', '환경']"
   ]
  },
  {
   "cell_type": "code",
   "execution_count": 113,
   "metadata": {},
   "outputs": [],
   "source": [
    "df = pd.DataFrame(columns = ['domain'] + ['20' + str(i).zfill(2) for i in range(5,21)])\n",
    "count = 0\n",
    "\n",
    "# 분야별 연도에 따른 민원 건 수 \n",
    "for domain in domains:\n",
    "    url = 'http://apis.data.go.kr/1140100/minAnalsInfoView2/minStaticsInfo2?serviceKey={}&target=pttn,dfpt,saeol,prpl,twitter,qna,qna_origin&dateFrom=20050101000000&dateTo=20201231235959&topN=10000&period=YEARLY&sortBy=NAME&sortOrder=false&classificationMulti={}'.format(KEY, domain)\n",
    "    result = requests.get(url) \n",
    "    \n",
    "    vals = [domain]\n",
    "    for x in ast.literal_eval(result.text):\n",
    "        vals.append(int(x['hits']))\n",
    "    \n",
    "    df.loc[count] = vals\n",
    "    count += 1 \n",
    "        "
   ]
  },
  {
   "cell_type": "code",
   "execution_count": 114,
   "metadata": {},
   "outputs": [
    {
     "data": {
      "text/html": [
       "<div>\n",
       "<style scoped>\n",
       "    .dataframe tbody tr th:only-of-type {\n",
       "        vertical-align: middle;\n",
       "    }\n",
       "\n",
       "    .dataframe tbody tr th {\n",
       "        vertical-align: top;\n",
       "    }\n",
       "\n",
       "    .dataframe thead th {\n",
       "        text-align: right;\n",
       "    }\n",
       "</style>\n",
       "<table border=\"1\" class=\"dataframe\">\n",
       "  <thead>\n",
       "    <tr style=\"text-align: right;\">\n",
       "      <th></th>\n",
       "      <th>domain</th>\n",
       "      <th>2005</th>\n",
       "      <th>2006</th>\n",
       "      <th>2007</th>\n",
       "      <th>2008</th>\n",
       "      <th>2009</th>\n",
       "      <th>2010</th>\n",
       "      <th>2011</th>\n",
       "      <th>2012</th>\n",
       "      <th>2013</th>\n",
       "      <th>2014</th>\n",
       "      <th>2015</th>\n",
       "      <th>2016</th>\n",
       "      <th>2017</th>\n",
       "      <th>2018</th>\n",
       "      <th>2019</th>\n",
       "      <th>2020</th>\n",
       "    </tr>\n",
       "  </thead>\n",
       "  <tbody>\n",
       "    <tr>\n",
       "      <th>0</th>\n",
       "      <td>경찰</td>\n",
       "      <td>1753</td>\n",
       "      <td>21690</td>\n",
       "      <td>29530</td>\n",
       "      <td>16704</td>\n",
       "      <td>19500</td>\n",
       "      <td>72580</td>\n",
       "      <td>95876</td>\n",
       "      <td>155087</td>\n",
       "      <td>228194</td>\n",
       "      <td>378628</td>\n",
       "      <td>1180283</td>\n",
       "      <td>1974021</td>\n",
       "      <td>2103621</td>\n",
       "      <td>1382058</td>\n",
       "      <td>4225464</td>\n",
       "      <td>4867080</td>\n",
       "    </tr>\n",
       "    <tr>\n",
       "      <th>1</th>\n",
       "      <td>과학기술</td>\n",
       "      <td>1585</td>\n",
       "      <td>21572</td>\n",
       "      <td>33656</td>\n",
       "      <td>8291</td>\n",
       "      <td>9722</td>\n",
       "      <td>36301</td>\n",
       "      <td>45258</td>\n",
       "      <td>53553</td>\n",
       "      <td>70103</td>\n",
       "      <td>55661</td>\n",
       "      <td>56331</td>\n",
       "      <td>62157</td>\n",
       "      <td>63235</td>\n",
       "      <td>62463</td>\n",
       "      <td>70287</td>\n",
       "      <td>82008</td>\n",
       "    </tr>\n",
       "    <tr>\n",
       "      <th>2</th>\n",
       "      <td>관광</td>\n",
       "      <td>717</td>\n",
       "      <td>4240</td>\n",
       "      <td>6238</td>\n",
       "      <td>4222</td>\n",
       "      <td>7030</td>\n",
       "      <td>21202</td>\n",
       "      <td>24462</td>\n",
       "      <td>25187</td>\n",
       "      <td>27945</td>\n",
       "      <td>32395</td>\n",
       "      <td>52824</td>\n",
       "      <td>58978</td>\n",
       "      <td>73955</td>\n",
       "      <td>103199</td>\n",
       "      <td>107333</td>\n",
       "      <td>112649</td>\n",
       "    </tr>\n",
       "    <tr>\n",
       "      <th>3</th>\n",
       "      <td>교육</td>\n",
       "      <td>3059</td>\n",
       "      <td>26827</td>\n",
       "      <td>42980</td>\n",
       "      <td>8986</td>\n",
       "      <td>12917</td>\n",
       "      <td>47640</td>\n",
       "      <td>66403</td>\n",
       "      <td>72135</td>\n",
       "      <td>94730</td>\n",
       "      <td>92466</td>\n",
       "      <td>85153</td>\n",
       "      <td>109757</td>\n",
       "      <td>236651</td>\n",
       "      <td>193884</td>\n",
       "      <td>196379</td>\n",
       "      <td>578648</td>\n",
       "    </tr>\n",
       "    <tr>\n",
       "      <th>4</th>\n",
       "      <td>교통</td>\n",
       "      <td>1344</td>\n",
       "      <td>18905</td>\n",
       "      <td>15766</td>\n",
       "      <td>6767</td>\n",
       "      <td>10281</td>\n",
       "      <td>47761</td>\n",
       "      <td>61994</td>\n",
       "      <td>77989</td>\n",
       "      <td>94122</td>\n",
       "      <td>116026</td>\n",
       "      <td>251327</td>\n",
       "      <td>321665</td>\n",
       "      <td>364051</td>\n",
       "      <td>400905</td>\n",
       "      <td>1055106</td>\n",
       "      <td>1054370</td>\n",
       "    </tr>\n",
       "    <tr>\n",
       "      <th>5</th>\n",
       "      <td>국방</td>\n",
       "      <td>1061</td>\n",
       "      <td>12293</td>\n",
       "      <td>19434</td>\n",
       "      <td>6101</td>\n",
       "      <td>7965</td>\n",
       "      <td>47288</td>\n",
       "      <td>97087</td>\n",
       "      <td>88620</td>\n",
       "      <td>87211</td>\n",
       "      <td>83752</td>\n",
       "      <td>79272</td>\n",
       "      <td>73542</td>\n",
       "      <td>77555</td>\n",
       "      <td>78811</td>\n",
       "      <td>86910</td>\n",
       "      <td>159210</td>\n",
       "    </tr>\n",
       "    <tr>\n",
       "      <th>6</th>\n",
       "      <td>기타</td>\n",
       "      <td>1954</td>\n",
       "      <td>91248</td>\n",
       "      <td>123691</td>\n",
       "      <td>63304</td>\n",
       "      <td>68723</td>\n",
       "      <td>82425</td>\n",
       "      <td>93763</td>\n",
       "      <td>93663</td>\n",
       "      <td>108023</td>\n",
       "      <td>120744</td>\n",
       "      <td>187307</td>\n",
       "      <td>233519</td>\n",
       "      <td>260183</td>\n",
       "      <td>386244</td>\n",
       "      <td>501897</td>\n",
       "      <td>608720</td>\n",
       "    </tr>\n",
       "    <tr>\n",
       "      <th>7</th>\n",
       "      <td>노동</td>\n",
       "      <td>1494</td>\n",
       "      <td>25739</td>\n",
       "      <td>54008</td>\n",
       "      <td>6442</td>\n",
       "      <td>8475</td>\n",
       "      <td>78744</td>\n",
       "      <td>96435</td>\n",
       "      <td>96215</td>\n",
       "      <td>96021</td>\n",
       "      <td>89319</td>\n",
       "      <td>82743</td>\n",
       "      <td>78497</td>\n",
       "      <td>108415</td>\n",
       "      <td>137538</td>\n",
       "      <td>153294</td>\n",
       "      <td>195610</td>\n",
       "    </tr>\n",
       "    <tr>\n",
       "      <th>8</th>\n",
       "      <td>농림·축산</td>\n",
       "      <td>798</td>\n",
       "      <td>11009</td>\n",
       "      <td>14048</td>\n",
       "      <td>5248</td>\n",
       "      <td>6207</td>\n",
       "      <td>25361</td>\n",
       "      <td>28705</td>\n",
       "      <td>27017</td>\n",
       "      <td>31932</td>\n",
       "      <td>34069</td>\n",
       "      <td>42649</td>\n",
       "      <td>45306</td>\n",
       "      <td>56822</td>\n",
       "      <td>63056</td>\n",
       "      <td>64639</td>\n",
       "      <td>82472</td>\n",
       "    </tr>\n",
       "    <tr>\n",
       "      <th>9</th>\n",
       "      <td>도로</td>\n",
       "      <td>682</td>\n",
       "      <td>12377</td>\n",
       "      <td>15538</td>\n",
       "      <td>5861</td>\n",
       "      <td>8332</td>\n",
       "      <td>32690</td>\n",
       "      <td>37719</td>\n",
       "      <td>43640</td>\n",
       "      <td>50118</td>\n",
       "      <td>57300</td>\n",
       "      <td>323668</td>\n",
       "      <td>444740</td>\n",
       "      <td>511674</td>\n",
       "      <td>345353</td>\n",
       "      <td>808703</td>\n",
       "      <td>715671</td>\n",
       "    </tr>\n",
       "    <tr>\n",
       "      <th>10</th>\n",
       "      <td>도시</td>\n",
       "      <td>392</td>\n",
       "      <td>18184</td>\n",
       "      <td>23053</td>\n",
       "      <td>4698</td>\n",
       "      <td>4374</td>\n",
       "      <td>17102</td>\n",
       "      <td>17379</td>\n",
       "      <td>18170</td>\n",
       "      <td>24282</td>\n",
       "      <td>26387</td>\n",
       "      <td>32501</td>\n",
       "      <td>46933</td>\n",
       "      <td>83601</td>\n",
       "      <td>122591</td>\n",
       "      <td>154404</td>\n",
       "      <td>207961</td>\n",
       "    </tr>\n",
       "    <tr>\n",
       "      <th>11</th>\n",
       "      <td>문화</td>\n",
       "      <td>2397</td>\n",
       "      <td>12537</td>\n",
       "      <td>16088</td>\n",
       "      <td>12556</td>\n",
       "      <td>15499</td>\n",
       "      <td>39719</td>\n",
       "      <td>41613</td>\n",
       "      <td>53292</td>\n",
       "      <td>52734</td>\n",
       "      <td>53432</td>\n",
       "      <td>68341</td>\n",
       "      <td>71832</td>\n",
       "      <td>82289</td>\n",
       "      <td>232933</td>\n",
       "      <td>249948</td>\n",
       "      <td>216200</td>\n",
       "    </tr>\n",
       "    <tr>\n",
       "      <th>12</th>\n",
       "      <td>방송통신</td>\n",
       "      <td>641</td>\n",
       "      <td>7671</td>\n",
       "      <td>11634</td>\n",
       "      <td>3965</td>\n",
       "      <td>4436</td>\n",
       "      <td>23535</td>\n",
       "      <td>30325</td>\n",
       "      <td>37809</td>\n",
       "      <td>47102</td>\n",
       "      <td>42616</td>\n",
       "      <td>55213</td>\n",
       "      <td>66915</td>\n",
       "      <td>69461</td>\n",
       "      <td>61394</td>\n",
       "      <td>113037</td>\n",
       "      <td>151682</td>\n",
       "    </tr>\n",
       "    <tr>\n",
       "      <th>13</th>\n",
       "      <td>법무</td>\n",
       "      <td>1133</td>\n",
       "      <td>14683</td>\n",
       "      <td>19905</td>\n",
       "      <td>6145</td>\n",
       "      <td>9073</td>\n",
       "      <td>23873</td>\n",
       "      <td>25068</td>\n",
       "      <td>27059</td>\n",
       "      <td>30425</td>\n",
       "      <td>28469</td>\n",
       "      <td>30747</td>\n",
       "      <td>29095</td>\n",
       "      <td>35308</td>\n",
       "      <td>49249</td>\n",
       "      <td>40796</td>\n",
       "      <td>49199</td>\n",
       "    </tr>\n",
       "    <tr>\n",
       "      <th>14</th>\n",
       "      <td>보건</td>\n",
       "      <td>958</td>\n",
       "      <td>17350</td>\n",
       "      <td>18260</td>\n",
       "      <td>4927</td>\n",
       "      <td>7808</td>\n",
       "      <td>33922</td>\n",
       "      <td>42576</td>\n",
       "      <td>46909</td>\n",
       "      <td>58647</td>\n",
       "      <td>62308</td>\n",
       "      <td>81997</td>\n",
       "      <td>92326</td>\n",
       "      <td>107139</td>\n",
       "      <td>107021</td>\n",
       "      <td>147778</td>\n",
       "      <td>248217</td>\n",
       "    </tr>\n",
       "    <tr>\n",
       "      <th>15</th>\n",
       "      <td>복지</td>\n",
       "      <td>1369</td>\n",
       "      <td>13825</td>\n",
       "      <td>19747</td>\n",
       "      <td>5908</td>\n",
       "      <td>11190</td>\n",
       "      <td>33496</td>\n",
       "      <td>31198</td>\n",
       "      <td>36414</td>\n",
       "      <td>33624</td>\n",
       "      <td>40517</td>\n",
       "      <td>50877</td>\n",
       "      <td>43265</td>\n",
       "      <td>44029</td>\n",
       "      <td>41219</td>\n",
       "      <td>77565</td>\n",
       "      <td>62552</td>\n",
       "    </tr>\n",
       "    <tr>\n",
       "      <th>16</th>\n",
       "      <td>사법</td>\n",
       "      <td>1075</td>\n",
       "      <td>14955</td>\n",
       "      <td>17356</td>\n",
       "      <td>7955</td>\n",
       "      <td>9061</td>\n",
       "      <td>31143</td>\n",
       "      <td>35665</td>\n",
       "      <td>42882</td>\n",
       "      <td>56808</td>\n",
       "      <td>48598</td>\n",
       "      <td>39518</td>\n",
       "      <td>41874</td>\n",
       "      <td>50697</td>\n",
       "      <td>56541</td>\n",
       "      <td>57449</td>\n",
       "      <td>67902</td>\n",
       "    </tr>\n",
       "    <tr>\n",
       "      <th>17</th>\n",
       "      <td>산업·통상</td>\n",
       "      <td>1896</td>\n",
       "      <td>18368</td>\n",
       "      <td>24525</td>\n",
       "      <td>11874</td>\n",
       "      <td>11843</td>\n",
       "      <td>38592</td>\n",
       "      <td>51965</td>\n",
       "      <td>58519</td>\n",
       "      <td>74500</td>\n",
       "      <td>75796</td>\n",
       "      <td>73974</td>\n",
       "      <td>83684</td>\n",
       "      <td>92608</td>\n",
       "      <td>106681</td>\n",
       "      <td>143236</td>\n",
       "      <td>240834</td>\n",
       "    </tr>\n",
       "    <tr>\n",
       "      <th>18</th>\n",
       "      <td>세무</td>\n",
       "      <td>3322</td>\n",
       "      <td>18933</td>\n",
       "      <td>25551</td>\n",
       "      <td>9070</td>\n",
       "      <td>6280</td>\n",
       "      <td>18739</td>\n",
       "      <td>36873</td>\n",
       "      <td>31643</td>\n",
       "      <td>40569</td>\n",
       "      <td>36565</td>\n",
       "      <td>33133</td>\n",
       "      <td>34070</td>\n",
       "      <td>36245</td>\n",
       "      <td>40388</td>\n",
       "      <td>38821</td>\n",
       "      <td>49919</td>\n",
       "    </tr>\n",
       "    <tr>\n",
       "      <th>19</th>\n",
       "      <td>수자원</td>\n",
       "      <td>415</td>\n",
       "      <td>10517</td>\n",
       "      <td>12306</td>\n",
       "      <td>5064</td>\n",
       "      <td>5776</td>\n",
       "      <td>10776</td>\n",
       "      <td>11227</td>\n",
       "      <td>12000</td>\n",
       "      <td>15474</td>\n",
       "      <td>18466</td>\n",
       "      <td>42173</td>\n",
       "      <td>50113</td>\n",
       "      <td>58014</td>\n",
       "      <td>60013</td>\n",
       "      <td>88915</td>\n",
       "      <td>116221</td>\n",
       "    </tr>\n",
       "    <tr>\n",
       "      <th>20</th>\n",
       "      <td>외무통일</td>\n",
       "      <td>1061</td>\n",
       "      <td>12069</td>\n",
       "      <td>18924</td>\n",
       "      <td>4168</td>\n",
       "      <td>4405</td>\n",
       "      <td>15046</td>\n",
       "      <td>15317</td>\n",
       "      <td>13740</td>\n",
       "      <td>16033</td>\n",
       "      <td>14739</td>\n",
       "      <td>14516</td>\n",
       "      <td>12780</td>\n",
       "      <td>14137</td>\n",
       "      <td>14481</td>\n",
       "      <td>15941</td>\n",
       "      <td>29565</td>\n",
       "    </tr>\n",
       "    <tr>\n",
       "      <th>21</th>\n",
       "      <td>우정</td>\n",
       "      <td>449</td>\n",
       "      <td>4760</td>\n",
       "      <td>6364</td>\n",
       "      <td>1632</td>\n",
       "      <td>2404</td>\n",
       "      <td>11810</td>\n",
       "      <td>19124</td>\n",
       "      <td>18941</td>\n",
       "      <td>31932</td>\n",
       "      <td>21294</td>\n",
       "      <td>24418</td>\n",
       "      <td>23297</td>\n",
       "      <td>25177</td>\n",
       "      <td>27229</td>\n",
       "      <td>40052</td>\n",
       "      <td>38657</td>\n",
       "    </tr>\n",
       "    <tr>\n",
       "      <th>22</th>\n",
       "      <td>재정</td>\n",
       "      <td>2499</td>\n",
       "      <td>26733</td>\n",
       "      <td>35783</td>\n",
       "      <td>11113</td>\n",
       "      <td>12428</td>\n",
       "      <td>37590</td>\n",
       "      <td>46215</td>\n",
       "      <td>44527</td>\n",
       "      <td>58671</td>\n",
       "      <td>49591</td>\n",
       "      <td>43432</td>\n",
       "      <td>43452</td>\n",
       "      <td>48275</td>\n",
       "      <td>73102</td>\n",
       "      <td>72867</td>\n",
       "      <td>120328</td>\n",
       "    </tr>\n",
       "    <tr>\n",
       "      <th>23</th>\n",
       "      <td>주택·건축</td>\n",
       "      <td>2481</td>\n",
       "      <td>41676</td>\n",
       "      <td>43120</td>\n",
       "      <td>11044</td>\n",
       "      <td>8341</td>\n",
       "      <td>66155</td>\n",
       "      <td>71796</td>\n",
       "      <td>94590</td>\n",
       "      <td>92563</td>\n",
       "      <td>95925</td>\n",
       "      <td>127141</td>\n",
       "      <td>146301</td>\n",
       "      <td>187413</td>\n",
       "      <td>321228</td>\n",
       "      <td>1320268</td>\n",
       "      <td>1109658</td>\n",
       "    </tr>\n",
       "    <tr>\n",
       "      <th>24</th>\n",
       "      <td>체육</td>\n",
       "      <td>294</td>\n",
       "      <td>2497</td>\n",
       "      <td>3870</td>\n",
       "      <td>1849</td>\n",
       "      <td>2972</td>\n",
       "      <td>9737</td>\n",
       "      <td>10536</td>\n",
       "      <td>11291</td>\n",
       "      <td>12338</td>\n",
       "      <td>16124</td>\n",
       "      <td>28950</td>\n",
       "      <td>37337</td>\n",
       "      <td>62161</td>\n",
       "      <td>41428</td>\n",
       "      <td>87005</td>\n",
       "      <td>114775</td>\n",
       "    </tr>\n",
       "    <tr>\n",
       "      <th>25</th>\n",
       "      <td>해양수산</td>\n",
       "      <td>399</td>\n",
       "      <td>5144</td>\n",
       "      <td>6814</td>\n",
       "      <td>3033</td>\n",
       "      <td>2857</td>\n",
       "      <td>9226</td>\n",
       "      <td>11668</td>\n",
       "      <td>11713</td>\n",
       "      <td>24818</td>\n",
       "      <td>30389</td>\n",
       "      <td>34419</td>\n",
       "      <td>40387</td>\n",
       "      <td>48403</td>\n",
       "      <td>56163</td>\n",
       "      <td>72463</td>\n",
       "      <td>88348</td>\n",
       "    </tr>\n",
       "    <tr>\n",
       "      <th>26</th>\n",
       "      <td>행정·안전</td>\n",
       "      <td>2732</td>\n",
       "      <td>22302</td>\n",
       "      <td>33065</td>\n",
       "      <td>14194</td>\n",
       "      <td>18993</td>\n",
       "      <td>59024</td>\n",
       "      <td>78585</td>\n",
       "      <td>89518</td>\n",
       "      <td>101750</td>\n",
       "      <td>108698</td>\n",
       "      <td>290714</td>\n",
       "      <td>360816</td>\n",
       "      <td>360277</td>\n",
       "      <td>276060</td>\n",
       "      <td>594966</td>\n",
       "      <td>823476</td>\n",
       "    </tr>\n",
       "    <tr>\n",
       "      <th>27</th>\n",
       "      <td>환경</td>\n",
       "      <td>606</td>\n",
       "      <td>15554</td>\n",
       "      <td>17653</td>\n",
       "      <td>13646</td>\n",
       "      <td>10877</td>\n",
       "      <td>23585</td>\n",
       "      <td>26860</td>\n",
       "      <td>28282</td>\n",
       "      <td>36188</td>\n",
       "      <td>41729</td>\n",
       "      <td>148643</td>\n",
       "      <td>215635</td>\n",
       "      <td>251618</td>\n",
       "      <td>165237</td>\n",
       "      <td>444781</td>\n",
       "      <td>435020</td>\n",
       "    </tr>\n",
       "  </tbody>\n",
       "</table>\n",
       "</div>"
      ],
      "text/plain": [
       "   domain  2005   2006    2007   2008   2009   2010   2011    2012    2013  \\\n",
       "0      경찰  1753  21690   29530  16704  19500  72580  95876  155087  228194   \n",
       "1    과학기술  1585  21572   33656   8291   9722  36301  45258   53553   70103   \n",
       "2      관광   717   4240    6238   4222   7030  21202  24462   25187   27945   \n",
       "3      교육  3059  26827   42980   8986  12917  47640  66403   72135   94730   \n",
       "4      교통  1344  18905   15766   6767  10281  47761  61994   77989   94122   \n",
       "5      국방  1061  12293   19434   6101   7965  47288  97087   88620   87211   \n",
       "6      기타  1954  91248  123691  63304  68723  82425  93763   93663  108023   \n",
       "7      노동  1494  25739   54008   6442   8475  78744  96435   96215   96021   \n",
       "8   농림·축산   798  11009   14048   5248   6207  25361  28705   27017   31932   \n",
       "9      도로   682  12377   15538   5861   8332  32690  37719   43640   50118   \n",
       "10     도시   392  18184   23053   4698   4374  17102  17379   18170   24282   \n",
       "11     문화  2397  12537   16088  12556  15499  39719  41613   53292   52734   \n",
       "12   방송통신   641   7671   11634   3965   4436  23535  30325   37809   47102   \n",
       "13     법무  1133  14683   19905   6145   9073  23873  25068   27059   30425   \n",
       "14     보건   958  17350   18260   4927   7808  33922  42576   46909   58647   \n",
       "15     복지  1369  13825   19747   5908  11190  33496  31198   36414   33624   \n",
       "16     사법  1075  14955   17356   7955   9061  31143  35665   42882   56808   \n",
       "17  산업·통상  1896  18368   24525  11874  11843  38592  51965   58519   74500   \n",
       "18     세무  3322  18933   25551   9070   6280  18739  36873   31643   40569   \n",
       "19    수자원   415  10517   12306   5064   5776  10776  11227   12000   15474   \n",
       "20   외무통일  1061  12069   18924   4168   4405  15046  15317   13740   16033   \n",
       "21     우정   449   4760    6364   1632   2404  11810  19124   18941   31932   \n",
       "22     재정  2499  26733   35783  11113  12428  37590  46215   44527   58671   \n",
       "23  주택·건축  2481  41676   43120  11044   8341  66155  71796   94590   92563   \n",
       "24     체육   294   2497    3870   1849   2972   9737  10536   11291   12338   \n",
       "25   해양수산   399   5144    6814   3033   2857   9226  11668   11713   24818   \n",
       "26  행정·안전  2732  22302   33065  14194  18993  59024  78585   89518  101750   \n",
       "27     환경   606  15554   17653  13646  10877  23585  26860   28282   36188   \n",
       "\n",
       "      2014     2015     2016     2017     2018     2019     2020  \n",
       "0   378628  1180283  1974021  2103621  1382058  4225464  4867080  \n",
       "1    55661    56331    62157    63235    62463    70287    82008  \n",
       "2    32395    52824    58978    73955   103199   107333   112649  \n",
       "3    92466    85153   109757   236651   193884   196379   578648  \n",
       "4   116026   251327   321665   364051   400905  1055106  1054370  \n",
       "5    83752    79272    73542    77555    78811    86910   159210  \n",
       "6   120744   187307   233519   260183   386244   501897   608720  \n",
       "7    89319    82743    78497   108415   137538   153294   195610  \n",
       "8    34069    42649    45306    56822    63056    64639    82472  \n",
       "9    57300   323668   444740   511674   345353   808703   715671  \n",
       "10   26387    32501    46933    83601   122591   154404   207961  \n",
       "11   53432    68341    71832    82289   232933   249948   216200  \n",
       "12   42616    55213    66915    69461    61394   113037   151682  \n",
       "13   28469    30747    29095    35308    49249    40796    49199  \n",
       "14   62308    81997    92326   107139   107021   147778   248217  \n",
       "15   40517    50877    43265    44029    41219    77565    62552  \n",
       "16   48598    39518    41874    50697    56541    57449    67902  \n",
       "17   75796    73974    83684    92608   106681   143236   240834  \n",
       "18   36565    33133    34070    36245    40388    38821    49919  \n",
       "19   18466    42173    50113    58014    60013    88915   116221  \n",
       "20   14739    14516    12780    14137    14481    15941    29565  \n",
       "21   21294    24418    23297    25177    27229    40052    38657  \n",
       "22   49591    43432    43452    48275    73102    72867   120328  \n",
       "23   95925   127141   146301   187413   321228  1320268  1109658  \n",
       "24   16124    28950    37337    62161    41428    87005   114775  \n",
       "25   30389    34419    40387    48403    56163    72463    88348  \n",
       "26  108698   290714   360816   360277   276060   594966   823476  \n",
       "27   41729   148643   215635   251618   165237   444781   435020  "
      ]
     },
     "execution_count": 114,
     "metadata": {},
     "output_type": "execute_result"
    }
   ],
   "source": [
    "df"
   ]
  },
  {
   "cell_type": "code",
   "execution_count": 115,
   "metadata": {},
   "outputs": [],
   "source": [
    "df.to_csv('분야별_연도별_민원건수.csv', index=False, encoding='utf-8')"
   ]
  },
  {
   "cell_type": "code",
   "execution_count": 67,
   "metadata": {},
   "outputs": [
    {
     "data": {
      "text/html": [
       "<div>\n",
       "<style scoped>\n",
       "    .dataframe tbody tr th:only-of-type {\n",
       "        vertical-align: middle;\n",
       "    }\n",
       "\n",
       "    .dataframe tbody tr th {\n",
       "        vertical-align: top;\n",
       "    }\n",
       "\n",
       "    .dataframe thead th {\n",
       "        text-align: right;\n",
       "    }\n",
       "</style>\n",
       "<table border=\"1\" class=\"dataframe\">\n",
       "  <thead>\n",
       "    <tr style=\"text-align: right;\">\n",
       "      <th></th>\n",
       "      <th>domain</th>\n",
       "      <th>2005</th>\n",
       "      <th>2006</th>\n",
       "      <th>2007</th>\n",
       "      <th>2008</th>\n",
       "      <th>2009</th>\n",
       "      <th>2010</th>\n",
       "      <th>2011</th>\n",
       "      <th>2012</th>\n",
       "      <th>2013</th>\n",
       "      <th>2014</th>\n",
       "      <th>2015</th>\n",
       "      <th>2016</th>\n",
       "      <th>2017</th>\n",
       "      <th>2018</th>\n",
       "      <th>2019</th>\n",
       "      <th>2020</th>\n",
       "    </tr>\n",
       "  </thead>\n",
       "  <tbody>\n",
       "    <tr>\n",
       "      <th>0</th>\n",
       "      <td>경찰</td>\n",
       "      <td>4.545455</td>\n",
       "      <td>4.142016</td>\n",
       "      <td>4.165568</td>\n",
       "      <td>6.308943</td>\n",
       "      <td>6.335921</td>\n",
       "      <td>7.294018</td>\n",
       "      <td>7.659712</td>\n",
       "      <td>10.995920</td>\n",
       "      <td>13.448040</td>\n",
       "      <td>20.225822</td>\n",
       "      <td>33.132946</td>\n",
       "      <td>40.766236</td>\n",
       "      <td>38.157367</td>\n",
       "      <td>27.605444</td>\n",
       "      <td>38.307775</td>\n",
       "      <td>38.545169</td>\n",
       "    </tr>\n",
       "    <tr>\n",
       "      <th>1</th>\n",
       "      <td>과학기술</td>\n",
       "      <td>4.109838</td>\n",
       "      <td>4.119483</td>\n",
       "      <td>4.747590</td>\n",
       "      <td>3.131433</td>\n",
       "      <td>3.158863</td>\n",
       "      <td>3.648114</td>\n",
       "      <td>3.615746</td>\n",
       "      <td>3.796994</td>\n",
       "      <td>4.131344</td>\n",
       "      <td>2.973339</td>\n",
       "      <td>1.581326</td>\n",
       "      <td>1.283627</td>\n",
       "      <td>1.147013</td>\n",
       "      <td>1.247646</td>\n",
       "      <td>0.637217</td>\n",
       "      <td>0.649468</td>\n",
       "    </tr>\n",
       "    <tr>\n",
       "      <th>2</th>\n",
       "      <td>관광</td>\n",
       "      <td>1.859151</td>\n",
       "      <td>0.809689</td>\n",
       "      <td>0.879946</td>\n",
       "      <td>1.594610</td>\n",
       "      <td>2.284181</td>\n",
       "      <td>2.130722</td>\n",
       "      <td>1.954315</td>\n",
       "      <td>1.785799</td>\n",
       "      <td>1.646868</td>\n",
       "      <td>1.730499</td>\n",
       "      <td>1.482877</td>\n",
       "      <td>1.217976</td>\n",
       "      <td>1.341462</td>\n",
       "      <td>2.061313</td>\n",
       "      <td>0.973074</td>\n",
       "      <td>0.892131</td>\n",
       "    </tr>\n",
       "    <tr>\n",
       "      <th>3</th>\n",
       "      <td>교육</td>\n",
       "      <td>7.931857</td>\n",
       "      <td>5.123000</td>\n",
       "      <td>6.062855</td>\n",
       "      <td>3.393927</td>\n",
       "      <td>4.196979</td>\n",
       "      <td>4.787641</td>\n",
       "      <td>5.305059</td>\n",
       "      <td>5.114488</td>\n",
       "      <td>5.582674</td>\n",
       "      <td>4.939415</td>\n",
       "      <td>2.390418</td>\n",
       "      <td>2.266632</td>\n",
       "      <td>4.292588</td>\n",
       "      <td>3.872670</td>\n",
       "      <td>1.780359</td>\n",
       "      <td>4.582642</td>\n",
       "    </tr>\n",
       "    <tr>\n",
       "      <th>4</th>\n",
       "      <td>교통</td>\n",
       "      <td>3.484935</td>\n",
       "      <td>3.610181</td>\n",
       "      <td>2.223987</td>\n",
       "      <td>2.555832</td>\n",
       "      <td>3.340492</td>\n",
       "      <td>4.799801</td>\n",
       "      <td>4.952816</td>\n",
       "      <td>5.529546</td>\n",
       "      <td>5.546843</td>\n",
       "      <td>6.197960</td>\n",
       "      <td>7.055260</td>\n",
       "      <td>6.642823</td>\n",
       "      <td>6.603484</td>\n",
       "      <td>8.007740</td>\n",
       "      <td>9.565521</td>\n",
       "      <td>8.350154</td>\n",
       "    </tr>\n",
       "  </tbody>\n",
       "</table>\n",
       "</div>"
      ],
      "text/plain": [
       "  domain      2005      2006      2007      2008      2009      2010  \\\n",
       "0     경찰  4.545455  4.142016  4.165568  6.308943  6.335921  7.294018   \n",
       "1   과학기술  4.109838  4.119483  4.747590  3.131433  3.158863  3.648114   \n",
       "2     관광  1.859151  0.809689  0.879946  1.594610  2.284181  2.130722   \n",
       "3     교육  7.931857  5.123000  6.062855  3.393927  4.196979  4.787641   \n",
       "4     교통  3.484935  3.610181  2.223987  2.555832  3.340492  4.799801   \n",
       "\n",
       "       2011       2012       2013       2014       2015       2016       2017  \\\n",
       "0  7.659712  10.995920  13.448040  20.225822  33.132946  40.766236  38.157367   \n",
       "1  3.615746   3.796994   4.131344   2.973339   1.581326   1.283627   1.147013   \n",
       "2  1.954315   1.785799   1.646868   1.730499   1.482877   1.217976   1.341462   \n",
       "3  5.305059   5.114488   5.582674   4.939415   2.390418   2.266632   4.292588   \n",
       "4  4.952816   5.529546   5.546843   6.197960   7.055260   6.642823   6.603484   \n",
       "\n",
       "        2018       2019       2020  \n",
       "0  27.605444  38.307775  38.545169  \n",
       "1   1.247646   0.637217   0.649468  \n",
       "2   2.061313   0.973074   0.892131  \n",
       "3   3.872670   1.780359   4.582642  \n",
       "4   8.007740   9.565521   8.350154  "
      ]
     },
     "execution_count": 67,
     "metadata": {},
     "output_type": "execute_result"
    }
   ],
   "source": [
    "for col in df.columns:\n",
    "    if col == 'domain':\n",
    "        continue\n",
    "    df[col] = df[col].apply(lambda x: (x/sum(df[col].tolist()))*100)\n",
    "    \n",
    "df.head()"
   ]
  },
  {
   "cell_type": "code",
   "execution_count": 105,
   "metadata": {},
   "outputs": [
    {
     "data": {
      "application/vnd.plotly.v1+json": {
       "config": {
        "plotlyServerURL": "https://plot.ly"
       },
       "data": [
        {
         "connectgaps": true,
         "line": {
          "color": "rgb(0,0,0)"
         },
         "mode": "lines",
         "name": "경찰",
         "type": "scatter",
         "x": [
          2005,
          2006,
          2007,
          2008,
          2009,
          2010,
          2011,
          2012,
          2013,
          2014,
          2015,
          2016,
          2017,
          2018,
          2019,
          2020
         ],
         "y": [
          4.545454545454546,
          4.142016354185365,
          4.165567556816338,
          6.3089433350833,
          6.335920771747642,
          7.294017860193636,
          7.659711814088451,
          10.995919611742726,
          13.448039522481858,
          20.225822287677957,
          33.132945789531604,
          40.7662360030184,
          38.15736727677456,
          27.60544407645388,
          38.307774654261564,
          38.54516909543966
         ]
        },
        {
         "marker": {
          "color": "rgb(0,0,0)"
         },
         "mode": "markers",
         "showlegend": false,
         "type": "scatter",
         "x": [
          2005,
          2020
         ],
         "y": [
          4.545454545454546,
          38.54516909543966
         ]
        },
        {
         "connectgaps": true,
         "line": {
          "color": "rgb(87,87,87)"
         },
         "mode": "lines",
         "name": "과학기술",
         "type": "scatter",
         "x": [
          2005,
          2006,
          2007,
          2008,
          2009,
          2010,
          2011,
          2012,
          2013,
          2014,
          2015,
          2016,
          2017,
          2018,
          2019,
          2020
         ],
         "y": [
          4.109837680858788,
          4.1194825630468745,
          4.747590304511029,
          3.1314325425751703,
          3.1588626534836193,
          3.648114388852152,
          3.6157457265844952,
          3.7969944803088476,
          4.1313440083636985,
          2.973339252127267,
          1.5813258085307547,
          1.2836271403595072,
          1.147013230875162,
          1.2476457958693044,
          0.6372172516732086,
          0.6494679000918037
         ]
        },
        {
         "marker": {
          "color": "rgb(87,87,87)"
         },
         "mode": "markers",
         "showlegend": false,
         "type": "scatter",
         "x": [
          2005,
          2020
         ],
         "y": [
          4.109837680858788,
          0.6494679000918037
         ]
        },
        {
         "connectgaps": true,
         "line": {
          "color": "rgb(173,35,35)"
         },
         "mode": "lines",
         "name": "관광",
         "type": "scatter",
         "x": [
          2005,
          2006,
          2007,
          2008,
          2009,
          2010,
          2011,
          2012,
          2013,
          2014,
          2015,
          2016,
          2017,
          2018,
          2019,
          2020
         ],
         "y": [
          1.8591505471140382,
          0.8096887663322245,
          0.8799461706542607,
          1.5946096001389902,
          2.284180667968509,
          2.130721502780731,
          1.954314639703697,
          1.7857991144387606,
          1.6468682982714513,
          1.7304993635159773,
          1.4828771814778465,
          1.2179764384401277,
          1.3414622201213346,
          2.0613130731459637,
          0.9730738155539502,
          0.8921313710545506
         ]
        },
        {
         "marker": {
          "color": "rgb(173,35,35)"
         },
         "mode": "markers",
         "showlegend": false,
         "type": "scatter",
         "x": [
          2005,
          2020
         ],
         "y": [
          1.8591505471140382,
          0.8921313710545506
         ]
        },
        {
         "connectgaps": true,
         "line": {
          "color": "rgb(42,75,215)"
         },
         "mode": "lines",
         "name": "교육",
         "type": "scatter",
         "x": [
          2005,
          2006,
          2007,
          2008,
          2009,
          2010,
          2011,
          2012,
          2013,
          2014,
          2015,
          2016,
          2017,
          2018,
          2019,
          2020
         ],
         "y": [
          7.9318570761810925,
          5.123000126036459,
          6.062854507008677,
          3.393927490963753,
          4.196978903008426,
          4.787641373100369,
          5.305059072040087,
          5.114488391632191,
          5.5826743208178415,
          4.939415161193652,
          2.3904180038312717,
          2.2666323027887194,
          4.292588409897018,
          3.8726695401489555,
          1.780358909418997,
          4.582641955081479
         ]
        },
        {
         "marker": {
          "color": "rgb(42,75,215)"
         },
         "mode": "markers",
         "showlegend": false,
         "type": "scatter",
         "x": [
          2005,
          2020
         ],
         "y": [
          7.9318570761810925,
          4.582641955081479
         ]
        },
        {
         "connectgaps": true,
         "line": {
          "color": "rgb(29,105,20)"
         },
         "mode": "lines",
         "name": "교통",
         "type": "scatter",
         "x": [
          2005,
          2006,
          2007,
          2008,
          2009,
          2010,
          2011,
          2012,
          2013,
          2014,
          2015,
          2016,
          2017,
          2018,
          2019,
          2020
         ],
         "y": [
          3.484934916766064,
          3.610180690450638,
          2.223987067415049,
          2.5558321089863916,
          3.340492382273718,
          4.799801419409041,
          4.952815868440479,
          5.529546477784749,
          5.5468433698302215,
          6.1979601528416355,
          7.055260362511033,
          6.64282259606707,
          6.603484047020378,
          8.007739586522957,
          9.565520587646542,
          8.350154494924825
         ]
        },
        {
         "marker": {
          "color": "rgb(29,105,20)"
         },
         "mode": "markers",
         "showlegend": false,
         "type": "scatter",
         "x": [
          2005,
          2020
         ],
         "y": [
          3.484934916766064,
          8.350154494924825
         ]
        },
        {
         "connectgaps": true,
         "line": {
          "color": "rgb(129,74,25)"
         },
         "mode": "lines",
         "name": "국방",
         "type": "scatter",
         "x": [
          2005,
          2006,
          2007,
          2008,
          2009,
          2010,
          2011,
          2012,
          2013,
          2014,
          2015,
          2016,
          2017,
          2018,
          2019,
          2020
         ],
         "y": [
          2.7511279365243997,
          2.3475245293684046,
          2.7414033152444537,
          2.304290187221217,
          2.58797994599846,
          4.752266692929687,
          7.756460854587231,
          6.283301604858179,
          5.1395609647719285,
          4.473924454180897,
          2.2253263654799307,
          1.518742975953133,
          1.4067622538234077,
          1.57418332161849,
          0.7879202604026145,
          1.260874358277437
         ]
        },
        {
         "marker": {
          "color": "rgb(129,74,25)"
         },
         "mode": "markers",
         "showlegend": false,
         "type": "scatter",
         "x": [
          2005,
          2020
         ],
         "y": [
          2.7511279365243997,
          1.260874358277437
         ]
        },
        {
         "connectgaps": true,
         "line": {
          "color": "rgb(129,38,192)"
         },
         "mode": "lines",
         "name": "기타",
         "type": "scatter",
         "x": [
          2005,
          2006,
          2007,
          2008,
          2009,
          2010,
          2011,
          2012,
          2013,
          2014,
          2015,
          2016,
          2017,
          2018,
          2019,
          2020
         ],
         "y": [
          5.066639008453041,
          17.425113337330853,
          17.44812789265729,
          23.90932404718111,
          22.329409394708367,
          8.283403446217422,
          7.4909003173304605,
          6.640858476820489,
          6.36606384627579,
          6.449989663478103,
          5.258088676190198,
          4.822487027842589,
          4.719432963529568,
          7.714898464366803,
          4.55016470987563,
          4.820799192077391
         ]
        },
        {
         "marker": {
          "color": "rgb(129,38,192)"
         },
         "mode": "markers",
         "showlegend": false,
         "type": "scatter",
         "x": [
          2005,
          2020
         ],
         "y": [
          5.066639008453041,
          4.820799192077391
         ]
        },
        {
         "connectgaps": true,
         "line": {
          "color": "rgb(160,160,160)"
         },
         "mode": "lines",
         "name": "노동",
         "type": "scatter",
         "x": [
          2005,
          2006,
          2007,
          2008,
          2009,
          2010,
          2011,
          2012,
          2013,
          2014,
          2015,
          2016,
          2017,
          2018,
          2019,
          2020
         ],
         "y": [
          3.8738785458694185,
          4.915230933166303,
          7.618488743939614,
          2.4330826726895722,
          2.753688643105706,
          7.913476748182526,
          7.704371362923148,
          6.821799412225567,
          5.658756159181357,
          4.771306456239653,
          2.322764399269678,
          1.6210705091429807,
          1.9665286538361775,
          2.7472056653102217,
          1.3897531745271934,
          1.5491466190732333
         ]
        },
        {
         "marker": {
          "color": "rgb(160,160,160)"
         },
         "mode": "markers",
         "showlegend": false,
         "type": "scatter",
         "x": [
          2005,
          2020
         ],
         "y": [
          3.8738785458694185,
          1.5491466190732333
         ]
        },
        {
         "connectgaps": true,
         "line": {
          "color": "rgb(129,197,122)"
         },
         "mode": "lines",
         "name": "농림·축산",
         "type": "scatter",
         "x": [
          2005,
          2006,
          2007,
          2008,
          2009,
          2010,
          2011,
          2012,
          2013,
          2014,
          2015,
          2016,
          2017,
          2018,
          2019,
          2020
         ],
         "y": [
          2.06918010682985,
          2.1023263274885515,
          1.9816421618068378,
          1.9821201282637189,
          2.0167723194993648,
          2.5486854085474073,
          2.2932957948121424,
          1.9155490798742205,
          1.8818321166721768,
          1.8199222971330709,
          1.1972442244595012,
          0.9356309220381909,
          1.0306884763942192,
          1.2594904712283248,
          0.586012860570298,
          0.6531425794601896
         ]
        },
        {
         "marker": {
          "color": "rgb(129,197,122)"
         },
         "mode": "markers",
         "showlegend": false,
         "type": "scatter",
         "x": [
          2005,
          2020
         ],
         "y": [
          2.06918010682985,
          0.6531425794601896
         ]
        },
        {
         "connectgaps": true,
         "line": {
          "color": "rgb(157,175,255)"
         },
         "mode": "lines",
         "name": "도로",
         "type": "scatter",
         "x": [
          2005,
          2006,
          2007,
          2008,
          2009,
          2010,
          2011,
          2012,
          2013,
          2014,
          2015,
          2016,
          2017,
          2018,
          2019,
          2020
         ],
         "y": [
          1.7683970336565886,
          2.3635655332297034,
          2.1918248797091864,
          2.2136444496481813,
          2.70722522411289,
          3.2852224283511986,
          3.0134410062539345,
          3.094146716723211,
          2.95357829210122,
          3.0608925306209445,
          9.086019452797435,
          9.184489830646383,
          9.281202623465132,
          6.8981351926877,
          7.331647432382643,
          5.667804866922753
         ]
        },
        {
         "marker": {
          "color": "rgb(157,175,255)"
         },
         "mode": "markers",
         "showlegend": false,
         "type": "scatter",
         "x": [
          2005,
          2020
         ],
         "y": [
          1.7683970336565886,
          5.667804866922753
         ]
        },
        {
         "connectgaps": true,
         "line": {
          "color": "rgb(41,208,208)"
         },
         "mode": "lines",
         "name": "도시",
         "type": "scatter",
         "x": [
          2005,
          2006,
          2007,
          2008,
          2009,
          2010,
          2011,
          2012,
          2013,
          2014,
          2015,
          2016,
          2017,
          2018,
          2019,
          2020
         ],
         "y": [
          1.016439350723435,
          3.4724954073078234,
          3.2519075139616342,
          1.774390312992178,
          1.4211957669550865,
          1.7186868757926643,
          1.3884406067946429,
          1.2882824436952507,
          1.4309986050680759,
          1.4095597069021792,
          0.9123692123885259,
          0.9692306993338281,
          1.516430032646389,
          2.4486519341276254,
          1.3998163604557046,
          1.646961198553697
         ]
        },
        {
         "marker": {
          "color": "rgb(41,208,208)"
         },
         "mode": "markers",
         "showlegend": false,
         "type": "scatter",
         "x": [
          2005,
          2020
         ],
         "y": [
          1.016439350723435,
          1.646961198553697
         ]
        },
        {
         "connectgaps": true,
         "line": {
          "color": "rgb(255,146,51)"
         },
         "mode": "lines",
         "name": "문화",
         "type": "scatter",
         "x": [
          2005,
          2006,
          2007,
          2008,
          2009,
          2010,
          2011,
          2012,
          2013,
          2014,
          2015,
          2016,
          2017,
          2018,
          2019,
          2020
         ],
         "y": [
          6.215319193071617,
          2.394119826298844,
          2.2694091044382407,
          4.742282837362662,
          5.0359197969906,
          3.991610573009521,
          3.324539902787587,
          3.778489157369692,
          3.1077456733242697,
          2.8542689301245776,
          1.91847094993521,
          1.4834291350339324,
          1.4926317981416337,
          4.652640413832584,
          2.2660118887022516,
          1.7122105160453607
         ]
        },
        {
         "marker": {
          "color": "rgb(255,146,51)"
         },
         "mode": "markers",
         "showlegend": false,
         "type": "scatter",
         "x": [
          2005,
          2020
         ],
         "y": [
          6.215319193071617,
          1.7122105160453607
         ]
        },
        {
         "connectgaps": true,
         "line": {
          "color": "rgb(255,238,51)"
         },
         "mode": "lines",
         "name": "방송통신",
         "type": "scatter",
         "x": [
          2005,
          2006,
          2007,
          2008,
          2009,
          2010,
          2011,
          2012,
          2013,
          2014,
          2015,
          2016,
          2017,
          2018,
          2019,
          2020
         ],
         "y": [
          1.6620857750350049,
          1.464887388333607,
          1.6411179463596777,
          1.4975431228211975,
          1.4413407458191045,
          2.36517925516199,
          2.422720605388546,
          2.680719367841152,
          2.775837916807368,
          2.276492078271242,
          1.5499412733025963,
          1.3818863538645114,
          1.259946011383247,
          1.2262934215711712,
          1.024785898919921,
          1.2012558533524165
         ]
        },
        {
         "marker": {
          "color": "rgb(255,238,51)"
         },
         "mode": "markers",
         "showlegend": false,
         "type": "scatter",
         "x": [
          2005,
          2020
         ],
         "y": [
          1.6620857750350049,
          1.2012558533524165
         ]
        },
        {
         "connectgaps": true,
         "line": {
          "color": "rgb(233,222,187)"
         },
         "mode": "lines",
         "name": "법무",
         "type": "scatter",
         "x": [
          2005,
          2006,
          2007,
          2008,
          2009,
          2010,
          2011,
          2012,
          2013,
          2014,
          2015,
          2016,
          2017,
          2018,
          2019,
          2020
         ],
         "y": [
          2.9378208784940103,
          2.8039292820886916,
          2.8078436240578806,
          2.3209085724429404,
          2.9479902134393003,
          2.399146987825884,
          2.002729105882278,
          1.9185269479333948,
          1.793020861510428,
          1.5207774773865212,
          0.8631308628445281,
          0.6008515798503767,
          0.640448219431331,
          0.9837072795217547,
          0.36985381363922515,
          0.38963480656297733
         ]
        },
        {
         "marker": {
          "color": "rgb(233,222,187)"
         },
         "mode": "markers",
         "showlegend": false,
         "type": "scatter",
         "x": [
          2005,
          2020
         ],
         "y": [
          2.9378208784940103,
          0.38963480656297733
         ]
        },
        {
         "connectgaps": true,
         "line": {
          "color": "rgb(255,205,243)"
         },
         "mode": "lines",
         "name": "보건",
         "type": "scatter",
         "x": [
          2005,
          2006,
          2007,
          2008,
          2009,
          2010,
          2011,
          2012,
          2013,
          2014,
          2015,
          2016,
          2017,
          2018,
          2019,
          2020
         ],
         "y": [
          2.4840533112067624,
          3.313231154684928,
          2.575796261004617,
          1.8608814542597834,
          2.536967660810543,
          3.409033808948588,
          3.4014757624080043,
          3.3259241139956255,
          3.45621345817591,
          3.328413469422859,
          2.3018226610941808,
          1.906658290471417,
          1.9433834196684425,
          2.137654302862956,
          1.3397454866157814,
          1.9657713120315972
         ]
        },
        {
         "marker": {
          "color": "rgb(255,205,243)"
         },
         "mode": "markers",
         "showlegend": false,
         "type": "scatter",
         "x": [
          2005,
          2020
         ],
         "y": [
          2.4840533112067624,
          1.9657713120315972
         ]
        },
        {
         "connectgaps": true,
         "line": {
          "color": "rgb(255,255,255)"
         },
         "mode": "lines",
         "name": "복지",
         "type": "scatter",
         "x": [
          2005,
          2006,
          2007,
          2008,
          2009,
          2010,
          2011,
          2012,
          2013,
          2014,
          2015,
          2016,
          2017,
          2018,
          2019,
          2020
         ],
         "y": [
          3.549758854949956,
          2.6400818855054253,
          2.7855557922266247,
          2.2313959065895674,
          3.635843765941339,
          3.366222406242023,
          2.492466197754719,
          2.5818116073042847,
          1.981545881591672,
          2.164366189584098,
          1.428220929161904,
          0.8934814779936948,
          0.7986375510746028,
          0.8233147953178178,
          0.7031991140044735,
          0.4953847927829297
         ]
        },
        {
         "marker": {
          "color": "rgb(255,255,255)"
         },
         "mode": "markers",
         "showlegend": false,
         "type": "scatter",
         "x": [
          2005,
          2020
         ],
         "y": [
          3.549758854949956,
          0.4953847927829297
         ]
        }
       ],
       "layout": {
        "template": {
         "data": {
          "bar": [
           {
            "error_x": {
             "color": "#2a3f5f"
            },
            "error_y": {
             "color": "#2a3f5f"
            },
            "marker": {
             "line": {
              "color": "#E5ECF6",
              "width": 0.5
             }
            },
            "type": "bar"
           }
          ],
          "barpolar": [
           {
            "marker": {
             "line": {
              "color": "#E5ECF6",
              "width": 0.5
             }
            },
            "type": "barpolar"
           }
          ],
          "carpet": [
           {
            "aaxis": {
             "endlinecolor": "#2a3f5f",
             "gridcolor": "white",
             "linecolor": "white",
             "minorgridcolor": "white",
             "startlinecolor": "#2a3f5f"
            },
            "baxis": {
             "endlinecolor": "#2a3f5f",
             "gridcolor": "white",
             "linecolor": "white",
             "minorgridcolor": "white",
             "startlinecolor": "#2a3f5f"
            },
            "type": "carpet"
           }
          ],
          "choropleth": [
           {
            "colorbar": {
             "outlinewidth": 0,
             "ticks": ""
            },
            "type": "choropleth"
           }
          ],
          "contour": [
           {
            "colorbar": {
             "outlinewidth": 0,
             "ticks": ""
            },
            "colorscale": [
             [
              0,
              "#0d0887"
             ],
             [
              0.1111111111111111,
              "#46039f"
             ],
             [
              0.2222222222222222,
              "#7201a8"
             ],
             [
              0.3333333333333333,
              "#9c179e"
             ],
             [
              0.4444444444444444,
              "#bd3786"
             ],
             [
              0.5555555555555556,
              "#d8576b"
             ],
             [
              0.6666666666666666,
              "#ed7953"
             ],
             [
              0.7777777777777778,
              "#fb9f3a"
             ],
             [
              0.8888888888888888,
              "#fdca26"
             ],
             [
              1,
              "#f0f921"
             ]
            ],
            "type": "contour"
           }
          ],
          "contourcarpet": [
           {
            "colorbar": {
             "outlinewidth": 0,
             "ticks": ""
            },
            "type": "contourcarpet"
           }
          ],
          "heatmap": [
           {
            "colorbar": {
             "outlinewidth": 0,
             "ticks": ""
            },
            "colorscale": [
             [
              0,
              "#0d0887"
             ],
             [
              0.1111111111111111,
              "#46039f"
             ],
             [
              0.2222222222222222,
              "#7201a8"
             ],
             [
              0.3333333333333333,
              "#9c179e"
             ],
             [
              0.4444444444444444,
              "#bd3786"
             ],
             [
              0.5555555555555556,
              "#d8576b"
             ],
             [
              0.6666666666666666,
              "#ed7953"
             ],
             [
              0.7777777777777778,
              "#fb9f3a"
             ],
             [
              0.8888888888888888,
              "#fdca26"
             ],
             [
              1,
              "#f0f921"
             ]
            ],
            "type": "heatmap"
           }
          ],
          "heatmapgl": [
           {
            "colorbar": {
             "outlinewidth": 0,
             "ticks": ""
            },
            "colorscale": [
             [
              0,
              "#0d0887"
             ],
             [
              0.1111111111111111,
              "#46039f"
             ],
             [
              0.2222222222222222,
              "#7201a8"
             ],
             [
              0.3333333333333333,
              "#9c179e"
             ],
             [
              0.4444444444444444,
              "#bd3786"
             ],
             [
              0.5555555555555556,
              "#d8576b"
             ],
             [
              0.6666666666666666,
              "#ed7953"
             ],
             [
              0.7777777777777778,
              "#fb9f3a"
             ],
             [
              0.8888888888888888,
              "#fdca26"
             ],
             [
              1,
              "#f0f921"
             ]
            ],
            "type": "heatmapgl"
           }
          ],
          "histogram": [
           {
            "marker": {
             "colorbar": {
              "outlinewidth": 0,
              "ticks": ""
             }
            },
            "type": "histogram"
           }
          ],
          "histogram2d": [
           {
            "colorbar": {
             "outlinewidth": 0,
             "ticks": ""
            },
            "colorscale": [
             [
              0,
              "#0d0887"
             ],
             [
              0.1111111111111111,
              "#46039f"
             ],
             [
              0.2222222222222222,
              "#7201a8"
             ],
             [
              0.3333333333333333,
              "#9c179e"
             ],
             [
              0.4444444444444444,
              "#bd3786"
             ],
             [
              0.5555555555555556,
              "#d8576b"
             ],
             [
              0.6666666666666666,
              "#ed7953"
             ],
             [
              0.7777777777777778,
              "#fb9f3a"
             ],
             [
              0.8888888888888888,
              "#fdca26"
             ],
             [
              1,
              "#f0f921"
             ]
            ],
            "type": "histogram2d"
           }
          ],
          "histogram2dcontour": [
           {
            "colorbar": {
             "outlinewidth": 0,
             "ticks": ""
            },
            "colorscale": [
             [
              0,
              "#0d0887"
             ],
             [
              0.1111111111111111,
              "#46039f"
             ],
             [
              0.2222222222222222,
              "#7201a8"
             ],
             [
              0.3333333333333333,
              "#9c179e"
             ],
             [
              0.4444444444444444,
              "#bd3786"
             ],
             [
              0.5555555555555556,
              "#d8576b"
             ],
             [
              0.6666666666666666,
              "#ed7953"
             ],
             [
              0.7777777777777778,
              "#fb9f3a"
             ],
             [
              0.8888888888888888,
              "#fdca26"
             ],
             [
              1,
              "#f0f921"
             ]
            ],
            "type": "histogram2dcontour"
           }
          ],
          "mesh3d": [
           {
            "colorbar": {
             "outlinewidth": 0,
             "ticks": ""
            },
            "type": "mesh3d"
           }
          ],
          "parcoords": [
           {
            "line": {
             "colorbar": {
              "outlinewidth": 0,
              "ticks": ""
             }
            },
            "type": "parcoords"
           }
          ],
          "pie": [
           {
            "automargin": true,
            "type": "pie"
           }
          ],
          "scatter": [
           {
            "marker": {
             "colorbar": {
              "outlinewidth": 0,
              "ticks": ""
             }
            },
            "type": "scatter"
           }
          ],
          "scatter3d": [
           {
            "line": {
             "colorbar": {
              "outlinewidth": 0,
              "ticks": ""
             }
            },
            "marker": {
             "colorbar": {
              "outlinewidth": 0,
              "ticks": ""
             }
            },
            "type": "scatter3d"
           }
          ],
          "scattercarpet": [
           {
            "marker": {
             "colorbar": {
              "outlinewidth": 0,
              "ticks": ""
             }
            },
            "type": "scattercarpet"
           }
          ],
          "scattergeo": [
           {
            "marker": {
             "colorbar": {
              "outlinewidth": 0,
              "ticks": ""
             }
            },
            "type": "scattergeo"
           }
          ],
          "scattergl": [
           {
            "marker": {
             "colorbar": {
              "outlinewidth": 0,
              "ticks": ""
             }
            },
            "type": "scattergl"
           }
          ],
          "scattermapbox": [
           {
            "marker": {
             "colorbar": {
              "outlinewidth": 0,
              "ticks": ""
             }
            },
            "type": "scattermapbox"
           }
          ],
          "scatterpolar": [
           {
            "marker": {
             "colorbar": {
              "outlinewidth": 0,
              "ticks": ""
             }
            },
            "type": "scatterpolar"
           }
          ],
          "scatterpolargl": [
           {
            "marker": {
             "colorbar": {
              "outlinewidth": 0,
              "ticks": ""
             }
            },
            "type": "scatterpolargl"
           }
          ],
          "scatterternary": [
           {
            "marker": {
             "colorbar": {
              "outlinewidth": 0,
              "ticks": ""
             }
            },
            "type": "scatterternary"
           }
          ],
          "surface": [
           {
            "colorbar": {
             "outlinewidth": 0,
             "ticks": ""
            },
            "colorscale": [
             [
              0,
              "#0d0887"
             ],
             [
              0.1111111111111111,
              "#46039f"
             ],
             [
              0.2222222222222222,
              "#7201a8"
             ],
             [
              0.3333333333333333,
              "#9c179e"
             ],
             [
              0.4444444444444444,
              "#bd3786"
             ],
             [
              0.5555555555555556,
              "#d8576b"
             ],
             [
              0.6666666666666666,
              "#ed7953"
             ],
             [
              0.7777777777777778,
              "#fb9f3a"
             ],
             [
              0.8888888888888888,
              "#fdca26"
             ],
             [
              1,
              "#f0f921"
             ]
            ],
            "type": "surface"
           }
          ],
          "table": [
           {
            "cells": {
             "fill": {
              "color": "#EBF0F8"
             },
             "line": {
              "color": "white"
             }
            },
            "header": {
             "fill": {
              "color": "#C8D4E3"
             },
             "line": {
              "color": "white"
             }
            },
            "type": "table"
           }
          ]
         },
         "layout": {
          "annotationdefaults": {
           "arrowcolor": "#2a3f5f",
           "arrowhead": 0,
           "arrowwidth": 1
          },
          "coloraxis": {
           "colorbar": {
            "outlinewidth": 0,
            "ticks": ""
           }
          },
          "colorscale": {
           "diverging": [
            [
             0,
             "#8e0152"
            ],
            [
             0.1,
             "#c51b7d"
            ],
            [
             0.2,
             "#de77ae"
            ],
            [
             0.3,
             "#f1b6da"
            ],
            [
             0.4,
             "#fde0ef"
            ],
            [
             0.5,
             "#f7f7f7"
            ],
            [
             0.6,
             "#e6f5d0"
            ],
            [
             0.7,
             "#b8e186"
            ],
            [
             0.8,
             "#7fbc41"
            ],
            [
             0.9,
             "#4d9221"
            ],
            [
             1,
             "#276419"
            ]
           ],
           "sequential": [
            [
             0,
             "#0d0887"
            ],
            [
             0.1111111111111111,
             "#46039f"
            ],
            [
             0.2222222222222222,
             "#7201a8"
            ],
            [
             0.3333333333333333,
             "#9c179e"
            ],
            [
             0.4444444444444444,
             "#bd3786"
            ],
            [
             0.5555555555555556,
             "#d8576b"
            ],
            [
             0.6666666666666666,
             "#ed7953"
            ],
            [
             0.7777777777777778,
             "#fb9f3a"
            ],
            [
             0.8888888888888888,
             "#fdca26"
            ],
            [
             1,
             "#f0f921"
            ]
           ],
           "sequentialminus": [
            [
             0,
             "#0d0887"
            ],
            [
             0.1111111111111111,
             "#46039f"
            ],
            [
             0.2222222222222222,
             "#7201a8"
            ],
            [
             0.3333333333333333,
             "#9c179e"
            ],
            [
             0.4444444444444444,
             "#bd3786"
            ],
            [
             0.5555555555555556,
             "#d8576b"
            ],
            [
             0.6666666666666666,
             "#ed7953"
            ],
            [
             0.7777777777777778,
             "#fb9f3a"
            ],
            [
             0.8888888888888888,
             "#fdca26"
            ],
            [
             1,
             "#f0f921"
            ]
           ]
          },
          "colorway": [
           "#636efa",
           "#EF553B",
           "#00cc96",
           "#ab63fa",
           "#FFA15A",
           "#19d3f3",
           "#FF6692",
           "#B6E880",
           "#FF97FF",
           "#FECB52"
          ],
          "font": {
           "color": "#2a3f5f"
          },
          "geo": {
           "bgcolor": "white",
           "lakecolor": "white",
           "landcolor": "#E5ECF6",
           "showlakes": true,
           "showland": true,
           "subunitcolor": "white"
          },
          "hoverlabel": {
           "align": "left"
          },
          "hovermode": "closest",
          "mapbox": {
           "style": "light"
          },
          "paper_bgcolor": "white",
          "plot_bgcolor": "#E5ECF6",
          "polar": {
           "angularaxis": {
            "gridcolor": "white",
            "linecolor": "white",
            "ticks": ""
           },
           "bgcolor": "#E5ECF6",
           "radialaxis": {
            "gridcolor": "white",
            "linecolor": "white",
            "ticks": ""
           }
          },
          "scene": {
           "xaxis": {
            "backgroundcolor": "#E5ECF6",
            "gridcolor": "white",
            "gridwidth": 2,
            "linecolor": "white",
            "showbackground": true,
            "ticks": "",
            "zerolinecolor": "white"
           },
           "yaxis": {
            "backgroundcolor": "#E5ECF6",
            "gridcolor": "white",
            "gridwidth": 2,
            "linecolor": "white",
            "showbackground": true,
            "ticks": "",
            "zerolinecolor": "white"
           },
           "zaxis": {
            "backgroundcolor": "#E5ECF6",
            "gridcolor": "white",
            "gridwidth": 2,
            "linecolor": "white",
            "showbackground": true,
            "ticks": "",
            "zerolinecolor": "white"
           }
          },
          "shapedefaults": {
           "line": {
            "color": "#2a3f5f"
           }
          },
          "ternary": {
           "aaxis": {
            "gridcolor": "white",
            "linecolor": "white",
            "ticks": ""
           },
           "baxis": {
            "gridcolor": "white",
            "linecolor": "white",
            "ticks": ""
           },
           "bgcolor": "#E5ECF6",
           "caxis": {
            "gridcolor": "white",
            "linecolor": "white",
            "ticks": ""
           }
          },
          "title": {
           "x": 0.05
          },
          "xaxis": {
           "automargin": true,
           "gridcolor": "white",
           "linecolor": "white",
           "ticks": "",
           "title": {
            "standoff": 15
           },
           "zerolinecolor": "white",
           "zerolinewidth": 2
          },
          "yaxis": {
           "automargin": true,
           "gridcolor": "white",
           "linecolor": "white",
           "ticks": "",
           "title": {
            "standoff": 15
           },
           "zerolinecolor": "white",
           "zerolinewidth": 2
          }
         }
        },
        "title": {
         "text": "연도와 분야에 따른 민원 수",
         "x": 0.5,
         "xanchor": "center",
         "y": 0.86,
         "yanchor": "top"
        },
        "yaxis": {
         "title": {
          "text": "특정 분야 민원의 비율 (%)"
         }
        }
       }
      },
      "text/html": [
       "<div>\n",
       "        \n",
       "        \n",
       "            <div id=\"e6aa51d8-41c5-4575-be1f-4ab04b29a303\" class=\"plotly-graph-div\" style=\"height:525px; width:100%;\"></div>\n",
       "            <script type=\"text/javascript\">\n",
       "                require([\"plotly\"], function(Plotly) {\n",
       "                    window.PLOTLYENV=window.PLOTLYENV || {};\n",
       "                    \n",
       "                if (document.getElementById(\"e6aa51d8-41c5-4575-be1f-4ab04b29a303\")) {\n",
       "                    Plotly.newPlot(\n",
       "                        'e6aa51d8-41c5-4575-be1f-4ab04b29a303',\n",
       "                        [{\"connectgaps\": true, \"line\": {\"color\": \"rgb(0,0,0)\"}, \"mode\": \"lines\", \"name\": \"\\uacbd\\ucc30\", \"type\": \"scatter\", \"x\": [2005, 2006, 2007, 2008, 2009, 2010, 2011, 2012, 2013, 2014, 2015, 2016, 2017, 2018, 2019, 2020], \"y\": [4.545454545454546, 4.142016354185365, 4.165567556816338, 6.3089433350833, 6.335920771747642, 7.294017860193636, 7.659711814088451, 10.995919611742726, 13.448039522481858, 20.225822287677957, 33.132945789531604, 40.7662360030184, 38.15736727677456, 27.60544407645388, 38.307774654261564, 38.54516909543966]}, {\"marker\": {\"color\": \"rgb(0,0,0)\"}, \"mode\": \"markers\", \"showlegend\": false, \"type\": \"scatter\", \"x\": [2005, 2020], \"y\": [4.545454545454546, 38.54516909543966]}, {\"connectgaps\": true, \"line\": {\"color\": \"rgb(87,87,87)\"}, \"mode\": \"lines\", \"name\": \"\\uacfc\\ud559\\uae30\\uc220\", \"type\": \"scatter\", \"x\": [2005, 2006, 2007, 2008, 2009, 2010, 2011, 2012, 2013, 2014, 2015, 2016, 2017, 2018, 2019, 2020], \"y\": [4.109837680858788, 4.1194825630468745, 4.747590304511029, 3.1314325425751703, 3.1588626534836193, 3.648114388852152, 3.6157457265844952, 3.7969944803088476, 4.1313440083636985, 2.973339252127267, 1.5813258085307547, 1.2836271403595072, 1.147013230875162, 1.2476457958693044, 0.6372172516732086, 0.6494679000918037]}, {\"marker\": {\"color\": \"rgb(87,87,87)\"}, \"mode\": \"markers\", \"showlegend\": false, \"type\": \"scatter\", \"x\": [2005, 2020], \"y\": [4.109837680858788, 0.6494679000918037]}, {\"connectgaps\": true, \"line\": {\"color\": \"rgb(173,35,35)\"}, \"mode\": \"lines\", \"name\": \"\\uad00\\uad11\", \"type\": \"scatter\", \"x\": [2005, 2006, 2007, 2008, 2009, 2010, 2011, 2012, 2013, 2014, 2015, 2016, 2017, 2018, 2019, 2020], \"y\": [1.8591505471140382, 0.8096887663322245, 0.8799461706542607, 1.5946096001389902, 2.284180667968509, 2.130721502780731, 1.954314639703697, 1.7857991144387606, 1.6468682982714513, 1.7304993635159773, 1.4828771814778465, 1.2179764384401277, 1.3414622201213346, 2.0613130731459637, 0.9730738155539502, 0.8921313710545506]}, {\"marker\": {\"color\": \"rgb(173,35,35)\"}, \"mode\": \"markers\", \"showlegend\": false, \"type\": \"scatter\", \"x\": [2005, 2020], \"y\": [1.8591505471140382, 0.8921313710545506]}, {\"connectgaps\": true, \"line\": {\"color\": \"rgb(42,75,215)\"}, \"mode\": \"lines\", \"name\": \"\\uad50\\uc721\", \"type\": \"scatter\", \"x\": [2005, 2006, 2007, 2008, 2009, 2010, 2011, 2012, 2013, 2014, 2015, 2016, 2017, 2018, 2019, 2020], \"y\": [7.9318570761810925, 5.123000126036459, 6.062854507008677, 3.393927490963753, 4.196978903008426, 4.787641373100369, 5.305059072040087, 5.114488391632191, 5.5826743208178415, 4.939415161193652, 2.3904180038312717, 2.2666323027887194, 4.292588409897018, 3.8726695401489555, 1.780358909418997, 4.582641955081479]}, {\"marker\": {\"color\": \"rgb(42,75,215)\"}, \"mode\": \"markers\", \"showlegend\": false, \"type\": \"scatter\", \"x\": [2005, 2020], \"y\": [7.9318570761810925, 4.582641955081479]}, {\"connectgaps\": true, \"line\": {\"color\": \"rgb(29,105,20)\"}, \"mode\": \"lines\", \"name\": \"\\uad50\\ud1b5\", \"type\": \"scatter\", \"x\": [2005, 2006, 2007, 2008, 2009, 2010, 2011, 2012, 2013, 2014, 2015, 2016, 2017, 2018, 2019, 2020], \"y\": [3.484934916766064, 3.610180690450638, 2.223987067415049, 2.5558321089863916, 3.340492382273718, 4.799801419409041, 4.952815868440479, 5.529546477784749, 5.5468433698302215, 6.1979601528416355, 7.055260362511033, 6.64282259606707, 6.603484047020378, 8.007739586522957, 9.565520587646542, 8.350154494924825]}, {\"marker\": {\"color\": \"rgb(29,105,20)\"}, \"mode\": \"markers\", \"showlegend\": false, \"type\": \"scatter\", \"x\": [2005, 2020], \"y\": [3.484934916766064, 8.350154494924825]}, {\"connectgaps\": true, \"line\": {\"color\": \"rgb(129,74,25)\"}, \"mode\": \"lines\", \"name\": \"\\uad6d\\ubc29\", \"type\": \"scatter\", \"x\": [2005, 2006, 2007, 2008, 2009, 2010, 2011, 2012, 2013, 2014, 2015, 2016, 2017, 2018, 2019, 2020], \"y\": [2.7511279365243997, 2.3475245293684046, 2.7414033152444537, 2.304290187221217, 2.58797994599846, 4.752266692929687, 7.756460854587231, 6.283301604858179, 5.1395609647719285, 4.473924454180897, 2.2253263654799307, 1.518742975953133, 1.4067622538234077, 1.57418332161849, 0.7879202604026145, 1.260874358277437]}, {\"marker\": {\"color\": \"rgb(129,74,25)\"}, \"mode\": \"markers\", \"showlegend\": false, \"type\": \"scatter\", \"x\": [2005, 2020], \"y\": [2.7511279365243997, 1.260874358277437]}, {\"connectgaps\": true, \"line\": {\"color\": \"rgb(129,38,192)\"}, \"mode\": \"lines\", \"name\": \"\\uae30\\ud0c0\", \"type\": \"scatter\", \"x\": [2005, 2006, 2007, 2008, 2009, 2010, 2011, 2012, 2013, 2014, 2015, 2016, 2017, 2018, 2019, 2020], \"y\": [5.066639008453041, 17.425113337330853, 17.44812789265729, 23.90932404718111, 22.329409394708367, 8.283403446217422, 7.4909003173304605, 6.640858476820489, 6.36606384627579, 6.449989663478103, 5.258088676190198, 4.822487027842589, 4.719432963529568, 7.714898464366803, 4.55016470987563, 4.820799192077391]}, {\"marker\": {\"color\": \"rgb(129,38,192)\"}, \"mode\": \"markers\", \"showlegend\": false, \"type\": \"scatter\", \"x\": [2005, 2020], \"y\": [5.066639008453041, 4.820799192077391]}, {\"connectgaps\": true, \"line\": {\"color\": \"rgb(160,160,160)\"}, \"mode\": \"lines\", \"name\": \"\\ub178\\ub3d9\", \"type\": \"scatter\", \"x\": [2005, 2006, 2007, 2008, 2009, 2010, 2011, 2012, 2013, 2014, 2015, 2016, 2017, 2018, 2019, 2020], \"y\": [3.8738785458694185, 4.915230933166303, 7.618488743939614, 2.4330826726895722, 2.753688643105706, 7.913476748182526, 7.704371362923148, 6.821799412225567, 5.658756159181357, 4.771306456239653, 2.322764399269678, 1.6210705091429807, 1.9665286538361775, 2.7472056653102217, 1.3897531745271934, 1.5491466190732333]}, {\"marker\": {\"color\": \"rgb(160,160,160)\"}, \"mode\": \"markers\", \"showlegend\": false, \"type\": \"scatter\", \"x\": [2005, 2020], \"y\": [3.8738785458694185, 1.5491466190732333]}, {\"connectgaps\": true, \"line\": {\"color\": \"rgb(129,197,122)\"}, \"mode\": \"lines\", \"name\": \"\\ub18d\\ub9bc\\u00b7\\ucd95\\uc0b0\", \"type\": \"scatter\", \"x\": [2005, 2006, 2007, 2008, 2009, 2010, 2011, 2012, 2013, 2014, 2015, 2016, 2017, 2018, 2019, 2020], \"y\": [2.06918010682985, 2.1023263274885515, 1.9816421618068378, 1.9821201282637189, 2.0167723194993648, 2.5486854085474073, 2.2932957948121424, 1.9155490798742205, 1.8818321166721768, 1.8199222971330709, 1.1972442244595012, 0.9356309220381909, 1.0306884763942192, 1.2594904712283248, 0.586012860570298, 0.6531425794601896]}, {\"marker\": {\"color\": \"rgb(129,197,122)\"}, \"mode\": \"markers\", \"showlegend\": false, \"type\": \"scatter\", \"x\": [2005, 2020], \"y\": [2.06918010682985, 0.6531425794601896]}, {\"connectgaps\": true, \"line\": {\"color\": \"rgb(157,175,255)\"}, \"mode\": \"lines\", \"name\": \"\\ub3c4\\ub85c\", \"type\": \"scatter\", \"x\": [2005, 2006, 2007, 2008, 2009, 2010, 2011, 2012, 2013, 2014, 2015, 2016, 2017, 2018, 2019, 2020], \"y\": [1.7683970336565886, 2.3635655332297034, 2.1918248797091864, 2.2136444496481813, 2.70722522411289, 3.2852224283511986, 3.0134410062539345, 3.094146716723211, 2.95357829210122, 3.0608925306209445, 9.086019452797435, 9.184489830646383, 9.281202623465132, 6.8981351926877, 7.331647432382643, 5.667804866922753]}, {\"marker\": {\"color\": \"rgb(157,175,255)\"}, \"mode\": \"markers\", \"showlegend\": false, \"type\": \"scatter\", \"x\": [2005, 2020], \"y\": [1.7683970336565886, 5.667804866922753]}, {\"connectgaps\": true, \"line\": {\"color\": \"rgb(41,208,208)\"}, \"mode\": \"lines\", \"name\": \"\\ub3c4\\uc2dc\", \"type\": \"scatter\", \"x\": [2005, 2006, 2007, 2008, 2009, 2010, 2011, 2012, 2013, 2014, 2015, 2016, 2017, 2018, 2019, 2020], \"y\": [1.016439350723435, 3.4724954073078234, 3.2519075139616342, 1.774390312992178, 1.4211957669550865, 1.7186868757926643, 1.3884406067946429, 1.2882824436952507, 1.4309986050680759, 1.4095597069021792, 0.9123692123885259, 0.9692306993338281, 1.516430032646389, 2.4486519341276254, 1.3998163604557046, 1.646961198553697]}, {\"marker\": {\"color\": \"rgb(41,208,208)\"}, \"mode\": \"markers\", \"showlegend\": false, \"type\": \"scatter\", \"x\": [2005, 2020], \"y\": [1.016439350723435, 1.646961198553697]}, {\"connectgaps\": true, \"line\": {\"color\": \"rgb(255,146,51)\"}, \"mode\": \"lines\", \"name\": \"\\ubb38\\ud654\", \"type\": \"scatter\", \"x\": [2005, 2006, 2007, 2008, 2009, 2010, 2011, 2012, 2013, 2014, 2015, 2016, 2017, 2018, 2019, 2020], \"y\": [6.215319193071617, 2.394119826298844, 2.2694091044382407, 4.742282837362662, 5.0359197969906, 3.991610573009521, 3.324539902787587, 3.778489157369692, 3.1077456733242697, 2.8542689301245776, 1.91847094993521, 1.4834291350339324, 1.4926317981416337, 4.652640413832584, 2.2660118887022516, 1.7122105160453607]}, {\"marker\": {\"color\": \"rgb(255,146,51)\"}, \"mode\": \"markers\", \"showlegend\": false, \"type\": \"scatter\", \"x\": [2005, 2020], \"y\": [6.215319193071617, 1.7122105160453607]}, {\"connectgaps\": true, \"line\": {\"color\": \"rgb(255,238,51)\"}, \"mode\": \"lines\", \"name\": \"\\ubc29\\uc1a1\\ud1b5\\uc2e0\", \"type\": \"scatter\", \"x\": [2005, 2006, 2007, 2008, 2009, 2010, 2011, 2012, 2013, 2014, 2015, 2016, 2017, 2018, 2019, 2020], \"y\": [1.6620857750350049, 1.464887388333607, 1.6411179463596777, 1.4975431228211975, 1.4413407458191045, 2.36517925516199, 2.422720605388546, 2.680719367841152, 2.775837916807368, 2.276492078271242, 1.5499412733025963, 1.3818863538645114, 1.259946011383247, 1.2262934215711712, 1.024785898919921, 1.2012558533524165]}, {\"marker\": {\"color\": \"rgb(255,238,51)\"}, \"mode\": \"markers\", \"showlegend\": false, \"type\": \"scatter\", \"x\": [2005, 2020], \"y\": [1.6620857750350049, 1.2012558533524165]}, {\"connectgaps\": true, \"line\": {\"color\": \"rgb(233,222,187)\"}, \"mode\": \"lines\", \"name\": \"\\ubc95\\ubb34\", \"type\": \"scatter\", \"x\": [2005, 2006, 2007, 2008, 2009, 2010, 2011, 2012, 2013, 2014, 2015, 2016, 2017, 2018, 2019, 2020], \"y\": [2.9378208784940103, 2.8039292820886916, 2.8078436240578806, 2.3209085724429404, 2.9479902134393003, 2.399146987825884, 2.002729105882278, 1.9185269479333948, 1.793020861510428, 1.5207774773865212, 0.8631308628445281, 0.6008515798503767, 0.640448219431331, 0.9837072795217547, 0.36985381363922515, 0.38963480656297733]}, {\"marker\": {\"color\": \"rgb(233,222,187)\"}, \"mode\": \"markers\", \"showlegend\": false, \"type\": \"scatter\", \"x\": [2005, 2020], \"y\": [2.9378208784940103, 0.38963480656297733]}, {\"connectgaps\": true, \"line\": {\"color\": \"rgb(255,205,243)\"}, \"mode\": \"lines\", \"name\": \"\\ubcf4\\uac74\", \"type\": \"scatter\", \"x\": [2005, 2006, 2007, 2008, 2009, 2010, 2011, 2012, 2013, 2014, 2015, 2016, 2017, 2018, 2019, 2020], \"y\": [2.4840533112067624, 3.313231154684928, 2.575796261004617, 1.8608814542597834, 2.536967660810543, 3.409033808948588, 3.4014757624080043, 3.3259241139956255, 3.45621345817591, 3.328413469422859, 2.3018226610941808, 1.906658290471417, 1.9433834196684425, 2.137654302862956, 1.3397454866157814, 1.9657713120315972]}, {\"marker\": {\"color\": \"rgb(255,205,243)\"}, \"mode\": \"markers\", \"showlegend\": false, \"type\": \"scatter\", \"x\": [2005, 2020], \"y\": [2.4840533112067624, 1.9657713120315972]}, {\"connectgaps\": true, \"line\": {\"color\": \"rgb(255,255,255)\"}, \"mode\": \"lines\", \"name\": \"\\ubcf5\\uc9c0\", \"type\": \"scatter\", \"x\": [2005, 2006, 2007, 2008, 2009, 2010, 2011, 2012, 2013, 2014, 2015, 2016, 2017, 2018, 2019, 2020], \"y\": [3.549758854949956, 2.6400818855054253, 2.7855557922266247, 2.2313959065895674, 3.635843765941339, 3.366222406242023, 2.492466197754719, 2.5818116073042847, 1.981545881591672, 2.164366189584098, 1.428220929161904, 0.8934814779936948, 0.7986375510746028, 0.8233147953178178, 0.7031991140044735, 0.4953847927829297]}, {\"marker\": {\"color\": \"rgb(255,255,255)\"}, \"mode\": \"markers\", \"showlegend\": false, \"type\": \"scatter\", \"x\": [2005, 2020], \"y\": [3.549758854949956, 0.4953847927829297]}],\n",
       "                        {\"template\": {\"data\": {\"bar\": [{\"error_x\": {\"color\": \"#2a3f5f\"}, \"error_y\": {\"color\": \"#2a3f5f\"}, \"marker\": {\"line\": {\"color\": \"#E5ECF6\", \"width\": 0.5}}, \"type\": \"bar\"}], \"barpolar\": [{\"marker\": {\"line\": {\"color\": \"#E5ECF6\", \"width\": 0.5}}, \"type\": \"barpolar\"}], \"carpet\": [{\"aaxis\": {\"endlinecolor\": \"#2a3f5f\", \"gridcolor\": \"white\", \"linecolor\": \"white\", \"minorgridcolor\": \"white\", \"startlinecolor\": \"#2a3f5f\"}, \"baxis\": {\"endlinecolor\": \"#2a3f5f\", \"gridcolor\": \"white\", \"linecolor\": \"white\", \"minorgridcolor\": \"white\", \"startlinecolor\": \"#2a3f5f\"}, \"type\": \"carpet\"}], \"choropleth\": [{\"colorbar\": {\"outlinewidth\": 0, \"ticks\": \"\"}, \"type\": \"choropleth\"}], \"contour\": [{\"colorbar\": {\"outlinewidth\": 0, \"ticks\": \"\"}, \"colorscale\": [[0.0, \"#0d0887\"], [0.1111111111111111, \"#46039f\"], [0.2222222222222222, \"#7201a8\"], [0.3333333333333333, \"#9c179e\"], [0.4444444444444444, \"#bd3786\"], [0.5555555555555556, \"#d8576b\"], [0.6666666666666666, \"#ed7953\"], [0.7777777777777778, \"#fb9f3a\"], [0.8888888888888888, \"#fdca26\"], [1.0, \"#f0f921\"]], \"type\": \"contour\"}], \"contourcarpet\": [{\"colorbar\": {\"outlinewidth\": 0, \"ticks\": \"\"}, \"type\": \"contourcarpet\"}], \"heatmap\": [{\"colorbar\": {\"outlinewidth\": 0, \"ticks\": \"\"}, \"colorscale\": [[0.0, \"#0d0887\"], [0.1111111111111111, \"#46039f\"], [0.2222222222222222, \"#7201a8\"], [0.3333333333333333, \"#9c179e\"], [0.4444444444444444, \"#bd3786\"], [0.5555555555555556, \"#d8576b\"], [0.6666666666666666, \"#ed7953\"], [0.7777777777777778, \"#fb9f3a\"], [0.8888888888888888, \"#fdca26\"], [1.0, \"#f0f921\"]], \"type\": \"heatmap\"}], \"heatmapgl\": [{\"colorbar\": {\"outlinewidth\": 0, \"ticks\": \"\"}, \"colorscale\": [[0.0, \"#0d0887\"], [0.1111111111111111, \"#46039f\"], [0.2222222222222222, \"#7201a8\"], [0.3333333333333333, \"#9c179e\"], [0.4444444444444444, \"#bd3786\"], [0.5555555555555556, \"#d8576b\"], [0.6666666666666666, \"#ed7953\"], [0.7777777777777778, \"#fb9f3a\"], [0.8888888888888888, \"#fdca26\"], [1.0, \"#f0f921\"]], \"type\": \"heatmapgl\"}], \"histogram\": [{\"marker\": {\"colorbar\": {\"outlinewidth\": 0, \"ticks\": \"\"}}, \"type\": \"histogram\"}], \"histogram2d\": [{\"colorbar\": {\"outlinewidth\": 0, \"ticks\": \"\"}, \"colorscale\": [[0.0, \"#0d0887\"], [0.1111111111111111, \"#46039f\"], [0.2222222222222222, \"#7201a8\"], [0.3333333333333333, \"#9c179e\"], [0.4444444444444444, \"#bd3786\"], [0.5555555555555556, \"#d8576b\"], [0.6666666666666666, \"#ed7953\"], [0.7777777777777778, \"#fb9f3a\"], [0.8888888888888888, \"#fdca26\"], [1.0, \"#f0f921\"]], \"type\": \"histogram2d\"}], \"histogram2dcontour\": [{\"colorbar\": {\"outlinewidth\": 0, \"ticks\": \"\"}, \"colorscale\": [[0.0, \"#0d0887\"], [0.1111111111111111, \"#46039f\"], [0.2222222222222222, \"#7201a8\"], [0.3333333333333333, \"#9c179e\"], [0.4444444444444444, \"#bd3786\"], [0.5555555555555556, \"#d8576b\"], [0.6666666666666666, \"#ed7953\"], [0.7777777777777778, \"#fb9f3a\"], [0.8888888888888888, \"#fdca26\"], [1.0, \"#f0f921\"]], \"type\": \"histogram2dcontour\"}], \"mesh3d\": [{\"colorbar\": {\"outlinewidth\": 0, \"ticks\": \"\"}, \"type\": \"mesh3d\"}], \"parcoords\": [{\"line\": {\"colorbar\": {\"outlinewidth\": 0, \"ticks\": \"\"}}, \"type\": \"parcoords\"}], \"pie\": [{\"automargin\": true, \"type\": \"pie\"}], \"scatter\": [{\"marker\": {\"colorbar\": {\"outlinewidth\": 0, \"ticks\": \"\"}}, \"type\": \"scatter\"}], \"scatter3d\": [{\"line\": {\"colorbar\": {\"outlinewidth\": 0, \"ticks\": \"\"}}, \"marker\": {\"colorbar\": {\"outlinewidth\": 0, \"ticks\": \"\"}}, \"type\": \"scatter3d\"}], \"scattercarpet\": [{\"marker\": {\"colorbar\": {\"outlinewidth\": 0, \"ticks\": \"\"}}, \"type\": \"scattercarpet\"}], \"scattergeo\": [{\"marker\": {\"colorbar\": {\"outlinewidth\": 0, \"ticks\": \"\"}}, \"type\": \"scattergeo\"}], \"scattergl\": [{\"marker\": {\"colorbar\": {\"outlinewidth\": 0, \"ticks\": \"\"}}, \"type\": \"scattergl\"}], \"scattermapbox\": [{\"marker\": {\"colorbar\": {\"outlinewidth\": 0, \"ticks\": \"\"}}, \"type\": \"scattermapbox\"}], \"scatterpolar\": [{\"marker\": {\"colorbar\": {\"outlinewidth\": 0, \"ticks\": \"\"}}, \"type\": \"scatterpolar\"}], \"scatterpolargl\": [{\"marker\": {\"colorbar\": {\"outlinewidth\": 0, \"ticks\": \"\"}}, \"type\": \"scatterpolargl\"}], \"scatterternary\": [{\"marker\": {\"colorbar\": {\"outlinewidth\": 0, \"ticks\": \"\"}}, \"type\": \"scatterternary\"}], \"surface\": [{\"colorbar\": {\"outlinewidth\": 0, \"ticks\": \"\"}, \"colorscale\": [[0.0, \"#0d0887\"], [0.1111111111111111, \"#46039f\"], [0.2222222222222222, \"#7201a8\"], [0.3333333333333333, \"#9c179e\"], [0.4444444444444444, \"#bd3786\"], [0.5555555555555556, \"#d8576b\"], [0.6666666666666666, \"#ed7953\"], [0.7777777777777778, \"#fb9f3a\"], [0.8888888888888888, \"#fdca26\"], [1.0, \"#f0f921\"]], \"type\": \"surface\"}], \"table\": [{\"cells\": {\"fill\": {\"color\": \"#EBF0F8\"}, \"line\": {\"color\": \"white\"}}, \"header\": {\"fill\": {\"color\": \"#C8D4E3\"}, \"line\": {\"color\": \"white\"}}, \"type\": \"table\"}]}, \"layout\": {\"annotationdefaults\": {\"arrowcolor\": \"#2a3f5f\", \"arrowhead\": 0, \"arrowwidth\": 1}, \"coloraxis\": {\"colorbar\": {\"outlinewidth\": 0, \"ticks\": \"\"}}, \"colorscale\": {\"diverging\": [[0, \"#8e0152\"], [0.1, \"#c51b7d\"], [0.2, \"#de77ae\"], [0.3, \"#f1b6da\"], [0.4, \"#fde0ef\"], [0.5, \"#f7f7f7\"], [0.6, \"#e6f5d0\"], [0.7, \"#b8e186\"], [0.8, \"#7fbc41\"], [0.9, \"#4d9221\"], [1, \"#276419\"]], \"sequential\": [[0.0, \"#0d0887\"], [0.1111111111111111, \"#46039f\"], [0.2222222222222222, \"#7201a8\"], [0.3333333333333333, \"#9c179e\"], [0.4444444444444444, \"#bd3786\"], [0.5555555555555556, \"#d8576b\"], [0.6666666666666666, \"#ed7953\"], [0.7777777777777778, \"#fb9f3a\"], [0.8888888888888888, \"#fdca26\"], [1.0, \"#f0f921\"]], \"sequentialminus\": [[0.0, \"#0d0887\"], [0.1111111111111111, \"#46039f\"], [0.2222222222222222, \"#7201a8\"], [0.3333333333333333, \"#9c179e\"], [0.4444444444444444, \"#bd3786\"], [0.5555555555555556, \"#d8576b\"], [0.6666666666666666, \"#ed7953\"], [0.7777777777777778, \"#fb9f3a\"], [0.8888888888888888, \"#fdca26\"], [1.0, \"#f0f921\"]]}, \"colorway\": [\"#636efa\", \"#EF553B\", \"#00cc96\", \"#ab63fa\", \"#FFA15A\", \"#19d3f3\", \"#FF6692\", \"#B6E880\", \"#FF97FF\", \"#FECB52\"], \"font\": {\"color\": \"#2a3f5f\"}, \"geo\": {\"bgcolor\": \"white\", \"lakecolor\": \"white\", \"landcolor\": \"#E5ECF6\", \"showlakes\": true, \"showland\": true, \"subunitcolor\": \"white\"}, \"hoverlabel\": {\"align\": \"left\"}, \"hovermode\": \"closest\", \"mapbox\": {\"style\": \"light\"}, \"paper_bgcolor\": \"white\", \"plot_bgcolor\": \"#E5ECF6\", \"polar\": {\"angularaxis\": {\"gridcolor\": \"white\", \"linecolor\": \"white\", \"ticks\": \"\"}, \"bgcolor\": \"#E5ECF6\", \"radialaxis\": {\"gridcolor\": \"white\", \"linecolor\": \"white\", \"ticks\": \"\"}}, \"scene\": {\"xaxis\": {\"backgroundcolor\": \"#E5ECF6\", \"gridcolor\": \"white\", \"gridwidth\": 2, \"linecolor\": \"white\", \"showbackground\": true, \"ticks\": \"\", \"zerolinecolor\": \"white\"}, \"yaxis\": {\"backgroundcolor\": \"#E5ECF6\", \"gridcolor\": \"white\", \"gridwidth\": 2, \"linecolor\": \"white\", \"showbackground\": true, \"ticks\": \"\", \"zerolinecolor\": \"white\"}, \"zaxis\": {\"backgroundcolor\": \"#E5ECF6\", \"gridcolor\": \"white\", \"gridwidth\": 2, \"linecolor\": \"white\", \"showbackground\": true, \"ticks\": \"\", \"zerolinecolor\": \"white\"}}, \"shapedefaults\": {\"line\": {\"color\": \"#2a3f5f\"}}, \"ternary\": {\"aaxis\": {\"gridcolor\": \"white\", \"linecolor\": \"white\", \"ticks\": \"\"}, \"baxis\": {\"gridcolor\": \"white\", \"linecolor\": \"white\", \"ticks\": \"\"}, \"bgcolor\": \"#E5ECF6\", \"caxis\": {\"gridcolor\": \"white\", \"linecolor\": \"white\", \"ticks\": \"\"}}, \"title\": {\"x\": 0.05}, \"xaxis\": {\"automargin\": true, \"gridcolor\": \"white\", \"linecolor\": \"white\", \"ticks\": \"\", \"title\": {\"standoff\": 15}, \"zerolinecolor\": \"white\", \"zerolinewidth\": 2}, \"yaxis\": {\"automargin\": true, \"gridcolor\": \"white\", \"linecolor\": \"white\", \"ticks\": \"\", \"title\": {\"standoff\": 15}, \"zerolinecolor\": \"white\", \"zerolinewidth\": 2}}}, \"title\": {\"text\": \"\\uc5f0\\ub3c4\\uc640 \\ubd84\\uc57c\\uc5d0 \\ub530\\ub978 \\ubbfc\\uc6d0 \\uc218\", \"x\": 0.5, \"xanchor\": \"center\", \"y\": 0.86, \"yanchor\": \"top\"}, \"yaxis\": {\"title\": {\"text\": \"\\ud2b9\\uc815 \\ubd84\\uc57c \\ubbfc\\uc6d0\\uc758 \\ube44\\uc728 (%)\"}}},\n",
       "                        {\"responsive\": true}\n",
       "                    ).then(function(){\n",
       "                            \n",
       "var gd = document.getElementById('e6aa51d8-41c5-4575-be1f-4ab04b29a303');\n",
       "var x = new MutationObserver(function (mutations, observer) {{\n",
       "        var display = window.getComputedStyle(gd).display;\n",
       "        if (!display || display === 'none') {{\n",
       "            console.log([gd, 'removed!']);\n",
       "            Plotly.purge(gd);\n",
       "            observer.disconnect();\n",
       "        }}\n",
       "}});\n",
       "\n",
       "// Listen for the removal of the full notebook cells\n",
       "var notebookContainer = gd.closest('#notebook-container');\n",
       "if (notebookContainer) {{\n",
       "    x.observe(notebookContainer, {childList: true});\n",
       "}}\n",
       "\n",
       "// Listen for the clearing of the current output cell\n",
       "var outputEl = gd.closest('.output');\n",
       "if (outputEl) {{\n",
       "    x.observe(outputEl, {childList: true});\n",
       "}}\n",
       "\n",
       "                        })\n",
       "                };\n",
       "                });\n",
       "            </script>\n",
       "        </div>"
      ]
     },
     "metadata": {},
     "output_type": "display_data"
    }
   ],
   "source": [
    "title = '연도와 분야에 따른 민원 수'\n",
    "labels = df.domain.tolist()\n",
    "colors = ['rgb(0,0,0)', 'rgb(87,87,87)', 'rgb(173,35,35)', 'rgb(42,75,215)',\\\n",
    "'rgb(29,105,20)', 'rgb(129,74,25)', 'rgb(129,38,192)', 'rgb(160,160,160)',\\\n",
    "'rgb(129,197,122)', 'rgb(157,175,255)', 'rgb(41,208,208)', 'rgb(255,146,51)',\\\n",
    "'rgb(255,238,51)', 'rgb(233,222,187)', 'rgb(255,205,243)', 'rgb(255,255,255)']\n",
    "\n",
    "x_data = np.vstack((np.arange(2005, 2021),)*16)\n",
    "\n",
    "y_data = []\n",
    "for row in range(len(df)):\n",
    "    y_data.append(list(df.iloc[row, :][1:]))\n",
    "\n",
    "\n",
    "fig = go.Figure()\n",
    "\n",
    "for i in range(16):\n",
    "    fig.add_trace(go.Scatter(x=x_data[i], y=y_data[i], mode='lines',\n",
    "        name=labels[i],\n",
    "        line=dict(color=colors[i]),\n",
    "        connectgaps=True,\n",
    "    ))\n",
    "\n",
    "    # endpoints\n",
    "    fig.add_trace(go.Scatter(\n",
    "        x=[x_data[i][0], x_data[i][-1]],\n",
    "        y=[y_data[i][0], y_data[i][-1]],\n",
    "        mode='markers',\n",
    "        showlegend=False,\n",
    "        marker=dict(color=colors[i])\n",
    "    ))\n",
    "\n",
    "    \n",
    "fig.update_layout(title={'text': '연도와 분야에 따른 민원 수', 'y':0.86, 'x':0.5, 'xanchor': 'center', 'yanchor': 'top'},\n",
    "                   yaxis_title='특정 분야 민원의 비율 (%)')\n",
    "\n",
    "fig.show()"
   ]
  },
  {
   "cell_type": "code",
   "execution_count": null,
   "metadata": {},
   "outputs": [],
   "source": []
  },
  {
   "cell_type": "markdown",
   "metadata": {},
   "source": [
    "### 3.1. 피해자, 가해자 (2005년-2014년)"
   ]
  },
  {
   "cell_type": "code",
   "execution_count": 103,
   "metadata": {},
   "outputs": [
    {
     "data": {
      "text/plain": [
       "'[{\"label\":\"가해자\",\"value\":369.52762},{\"label\":\"피의자\",\"value\":128.1394},{\"label\":\"경찰서\",\"value\":103.55319},{\"label\":\"보험사\",\"value\":71.02941},{\"label\":\"교통사고\",\"value\":64.485985},{\"label\":\"국토부\",\"value\":41.35965},{\"label\":\"거짓말\",\"value\":33.4875},{\"label\":\"성폭력\",\"value\":32.8125},{\"label\":\"그린벨트\",\"value\":31.925581},{\"label\":\"검찰청\",\"value\":28.956522},{\"label\":\"진단서\",\"value\":28.762646},{\"label\":\"범죄자\",\"value\":28.285715},{\"label\":\"피고인\",\"value\":27.096775},{\"label\":\"변호사\",\"value\":26.72889},{\"label\":\"투기꾼\",\"value\":24.34909},{\"label\":\"합의금\",\"value\":23.643312},{\"label\":\"재산권\",\"value\":22.927374},{\"label\":\"상해\",\"value\":22.834286},{\"label\":\"담당조사관\",\"value\":21.248447},{\"label\":\"학교폭력\",\"value\":20.903225}]'"
      ]
     },
     "execution_count": 103,
     "metadata": {},
     "output_type": "execute_result"
    }
   ],
   "source": [
    "# 피해자\n",
    "url = 'http://apis.data.go.kr/1140100/minAnalsInfoView2/minWdcloudInfo2?serviceKey={}&target=pttn,dfpt,saeol&classification=&searchword=피해자&dateFrom=20050101&dateTo=20141231&resultCount=10&searchCount=1000'.format(KEY)\n",
    "result = requests.get(url) \n",
    "result.text"
   ]
  },
  {
   "cell_type": "code",
   "execution_count": null,
   "metadata": {},
   "outputs": [],
   "source": [
    "# 가해자\n",
    "url = 'http://apis.data.go.kr/1140100/minAnalsInfoView2/minWdcloudInfo2?serviceKey={}&target=pttn,dfpt,saeol&classification=&searchword=가해자&dateFrom=20050101&dateTo=20141231&resultCount=10&searchCount=1000'.format(KEY)\n",
    "result = requests.get(url) \n",
    "result.text"
   ]
  },
  {
   "cell_type": "markdown",
   "metadata": {},
   "source": [
    "### 3.2. 주정차 (2015년-2020년)"
   ]
  },
  {
   "cell_type": "code",
   "execution_count": null,
   "metadata": {},
   "outputs": [],
   "source": [
    "# 주정차\n",
    "url = 'http://apis.data.go.kr/1140100/minAnalsInfoView2/minWdcloudInfo2?serviceKey={}&target=pttn,dfpt,saeol&classification=&searchword=주정차&dateFrom=20150101&dateTo=20201231&resultCount=10&searchCount=1000'.format(KEY)\n",
    "result = requests.get(url) \n",
    "result.text"
   ]
  },
  {
   "cell_type": "markdown",
   "metadata": {},
   "source": [
    "### 3.3. 전염병: 메르스(2015년)와 코로나(2020년)"
   ]
  },
  {
   "cell_type": "code",
   "execution_count": 107,
   "metadata": {},
   "outputs": [],
   "source": [
    "def to_df2(text, year):\n",
    "    df = pd.DataFrame()\n",
    "    labels = []\n",
    "    values = []\n",
    "    for word in ast.literal_eval(result.text):\n",
    "        labels.append(word['label'])\n",
    "        values.append(word['value'])\n",
    "\n",
    "    df[year + '_word'] = labels\n",
    "    df[year + '_value'] = values\n",
    "    return df"
   ]
  },
  {
   "cell_type": "code",
   "execution_count": null,
   "metadata": {},
   "outputs": [],
   "source": [
    "# 2015년, 메르스\n",
    "url = \"http://apis.data.go.kr/1140100/minAnalsInfoView2/minWdcloudInfo2?serviceKey={}&target=pttn,dfpt,saeol&classification=&searchword=메르스&dateFrom=20150101&dateTo=20151231&resultCount=10&searchCount=1000\".format(KEY)\n",
    "result = requests.get(url) \n",
    "mers = to_df2(result.text, '메르스')"
   ]
  },
  {
   "cell_type": "code",
   "execution_count": 104,
   "metadata": {},
   "outputs": [
    {
     "data": {
      "text/plain": [
       "'[{\"label\":\"과밀 학급\",\"value\":381.0},{\"label\":\"교육부\",\"value\":232.69417},{\"label\":\"학급 과밀\",\"value\":225.9007},{\"label\":\"마스크 착용\",\"value\":65.25941},{\"label\":\"마스크 지급\",\"value\":63.52129},{\"label\":\"발열체크\",\"value\":61.75494},{\"label\":\"확진자\",\"value\":59.15929},{\"label\":\"모라동 주공\",\"value\":59.142857},{\"label\":\"부산광역시 사상\",\"value\":55.2},{\"label\":\"증거 자료\",\"value\":55.2},{\"label\":\"주민등록번호\",\"value\":53.98107},{\"label\":\"보건소\",\"value\":33.701206},{\"label\":\"외국인\",\"value\":13.448276},{\"label\":\"부산\",\"value\":11.870968},{\"label\":\"수도권\",\"value\":11.555555},{\"label\":\"자영업자\",\"value\":11.538462},{\"label\":\"가능여부\",\"value\":10.91358},{\"label\":\"선별진료소\",\"value\":10.08},{\"label\":\"우리나라\",\"value\":8.75},{\"label\":\"접촉자\",\"value\":8.275862}]'"
      ]
     },
     "execution_count": 104,
     "metadata": {},
     "output_type": "execute_result"
    }
   ],
   "source": [
    "# 2020년, 코로나\n",
    "url = \"http://apis.data.go.kr/1140100/minAnalsInfoView2/minWdcloudInfo2?serviceKey={}&target=pttn,dfpt,saeol&classification=&searchword=코로나&dateFrom=20200101&dateTo=20201231&resultCount=10&searchCount=1000\".format(KEY)\n",
    "result = requests.get(url) \n",
    "print(result.text)"
   ]
  },
  {
   "cell_type": "code",
   "execution_count": 108,
   "metadata": {},
   "outputs": [
    {
     "data": {
      "text/html": [
       "<div>\n",
       "<style scoped>\n",
       "    .dataframe tbody tr th:only-of-type {\n",
       "        vertical-align: middle;\n",
       "    }\n",
       "\n",
       "    .dataframe tbody tr th {\n",
       "        vertical-align: top;\n",
       "    }\n",
       "\n",
       "    .dataframe thead th {\n",
       "        text-align: right;\n",
       "    }\n",
       "</style>\n",
       "<table border=\"1\" class=\"dataframe\">\n",
       "  <thead>\n",
       "    <tr style=\"text-align: right;\">\n",
       "      <th></th>\n",
       "      <th>코로나_word</th>\n",
       "      <th>코로나_value</th>\n",
       "    </tr>\n",
       "  </thead>\n",
       "  <tbody>\n",
       "    <tr>\n",
       "      <th>0</th>\n",
       "      <td>과밀 학급</td>\n",
       "      <td>381.000000</td>\n",
       "    </tr>\n",
       "    <tr>\n",
       "      <th>1</th>\n",
       "      <td>교육부</td>\n",
       "      <td>232.694170</td>\n",
       "    </tr>\n",
       "    <tr>\n",
       "      <th>2</th>\n",
       "      <td>학급 과밀</td>\n",
       "      <td>225.900700</td>\n",
       "    </tr>\n",
       "    <tr>\n",
       "      <th>3</th>\n",
       "      <td>마스크 착용</td>\n",
       "      <td>65.259410</td>\n",
       "    </tr>\n",
       "    <tr>\n",
       "      <th>4</th>\n",
       "      <td>마스크 지급</td>\n",
       "      <td>63.521290</td>\n",
       "    </tr>\n",
       "    <tr>\n",
       "      <th>5</th>\n",
       "      <td>발열체크</td>\n",
       "      <td>61.754940</td>\n",
       "    </tr>\n",
       "    <tr>\n",
       "      <th>6</th>\n",
       "      <td>확진자</td>\n",
       "      <td>59.159290</td>\n",
       "    </tr>\n",
       "    <tr>\n",
       "      <th>7</th>\n",
       "      <td>모라동 주공</td>\n",
       "      <td>59.142857</td>\n",
       "    </tr>\n",
       "    <tr>\n",
       "      <th>8</th>\n",
       "      <td>부산광역시 사상</td>\n",
       "      <td>55.200000</td>\n",
       "    </tr>\n",
       "    <tr>\n",
       "      <th>9</th>\n",
       "      <td>증거 자료</td>\n",
       "      <td>55.200000</td>\n",
       "    </tr>\n",
       "    <tr>\n",
       "      <th>10</th>\n",
       "      <td>주민등록번호</td>\n",
       "      <td>53.981070</td>\n",
       "    </tr>\n",
       "    <tr>\n",
       "      <th>11</th>\n",
       "      <td>보건소</td>\n",
       "      <td>33.701206</td>\n",
       "    </tr>\n",
       "    <tr>\n",
       "      <th>12</th>\n",
       "      <td>외국인</td>\n",
       "      <td>13.448276</td>\n",
       "    </tr>\n",
       "    <tr>\n",
       "      <th>13</th>\n",
       "      <td>부산</td>\n",
       "      <td>11.870968</td>\n",
       "    </tr>\n",
       "    <tr>\n",
       "      <th>14</th>\n",
       "      <td>수도권</td>\n",
       "      <td>11.555555</td>\n",
       "    </tr>\n",
       "    <tr>\n",
       "      <th>15</th>\n",
       "      <td>자영업자</td>\n",
       "      <td>11.538462</td>\n",
       "    </tr>\n",
       "    <tr>\n",
       "      <th>16</th>\n",
       "      <td>가능여부</td>\n",
       "      <td>10.913580</td>\n",
       "    </tr>\n",
       "    <tr>\n",
       "      <th>17</th>\n",
       "      <td>선별진료소</td>\n",
       "      <td>10.080000</td>\n",
       "    </tr>\n",
       "    <tr>\n",
       "      <th>18</th>\n",
       "      <td>우리나라</td>\n",
       "      <td>8.750000</td>\n",
       "    </tr>\n",
       "    <tr>\n",
       "      <th>19</th>\n",
       "      <td>접촉자</td>\n",
       "      <td>8.275862</td>\n",
       "    </tr>\n",
       "  </tbody>\n",
       "</table>\n",
       "</div>"
      ],
      "text/plain": [
       "    코로나_word   코로나_value\n",
       "0      과밀 학급  381.000000\n",
       "1        교육부  232.694170\n",
       "2      학급 과밀  225.900700\n",
       "3     마스크 착용   65.259410\n",
       "4     마스크 지급   63.521290\n",
       "5       발열체크   61.754940\n",
       "6        확진자   59.159290\n",
       "7     모라동 주공   59.142857\n",
       "8   부산광역시 사상   55.200000\n",
       "9      증거 자료   55.200000\n",
       "10    주민등록번호   53.981070\n",
       "11       보건소   33.701206\n",
       "12       외국인   13.448276\n",
       "13        부산   11.870968\n",
       "14       수도권   11.555555\n",
       "15      자영업자   11.538462\n",
       "16      가능여부   10.913580\n",
       "17     선별진료소   10.080000\n",
       "18      우리나라    8.750000\n",
       "19       접촉자    8.275862"
      ]
     },
     "execution_count": 108,
     "metadata": {},
     "output_type": "execute_result"
    }
   ],
   "source": [
    "corona = to_df2(result.text, '코로나')\n",
    "corona"
   ]
  },
  {
   "cell_type": "code",
   "execution_count": null,
   "metadata": {},
   "outputs": [],
   "source": []
  }
 ],
 "metadata": {
  "kernelspec": {
   "display_name": "Python 3",
   "language": "python",
   "name": "python3"
  },
  "language_info": {
   "codemirror_mode": {
    "name": "ipython",
    "version": 3
   },
   "file_extension": ".py",
   "mimetype": "text/x-python",
   "name": "python",
   "nbconvert_exporter": "python",
   "pygments_lexer": "ipython3",
   "version": "3.7.6"
  }
 },
 "nbformat": 4,
 "nbformat_minor": 4
}
